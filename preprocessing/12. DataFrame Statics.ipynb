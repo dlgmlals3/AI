{
 "cells": [
  {
   "cell_type": "code",
   "execution_count": 62,
   "id": "fbf2192c",
   "metadata": {},
   "outputs": [
    {
     "data": {
      "text/html": [
       "<div>\n",
       "<style scoped>\n",
       "    .dataframe tbody tr th:only-of-type {\n",
       "        vertical-align: middle;\n",
       "    }\n",
       "\n",
       "    .dataframe tbody tr th {\n",
       "        vertical-align: top;\n",
       "    }\n",
       "\n",
       "    .dataframe thead th {\n",
       "        text-align: right;\n",
       "    }\n",
       "</style>\n",
       "<table border=\"1\" class=\"dataframe\">\n",
       "  <thead>\n",
       "    <tr style=\"text-align: right;\">\n",
       "      <th></th>\n",
       "      <th>eng</th>\n",
       "      <th>kor</th>\n",
       "      <th>math</th>\n",
       "    </tr>\n",
       "  </thead>\n",
       "  <tbody>\n",
       "    <tr>\n",
       "      <th>a</th>\n",
       "      <td>10</td>\n",
       "      <td>20</td>\n",
       "      <td>90</td>\n",
       "    </tr>\n",
       "    <tr>\n",
       "      <th>b</th>\n",
       "      <td>30</td>\n",
       "      <td>40</td>\n",
       "      <td>50</td>\n",
       "    </tr>\n",
       "    <tr>\n",
       "      <th>c</th>\n",
       "      <td>50</td>\n",
       "      <td>60</td>\n",
       "      <td>20</td>\n",
       "    </tr>\n",
       "    <tr>\n",
       "      <th>d</th>\n",
       "      <td>70</td>\n",
       "      <td>80</td>\n",
       "      <td>70</td>\n",
       "    </tr>\n",
       "  </tbody>\n",
       "</table>\n",
       "</div>"
      ],
      "text/plain": [
       "   eng  kor  math\n",
       "a   10   20    90\n",
       "b   30   40    50\n",
       "c   50   60    20\n",
       "d   70   80    70"
      ]
     },
     "execution_count": 62,
     "metadata": {},
     "output_type": "execute_result"
    }
   ],
   "source": [
    "import pandas as pd\n",
    "import numpy as np\n",
    "import matplotlib.pyplot as plt\n",
    "\n",
    "import matplotlib\n",
    "\n",
    "data = {'eng': [10,30,50,70],\n",
    "        'kor': [20,40,60,80],\n",
    "        'math': [90,50,20,70]}\n",
    "df = pd.DataFrame(data, index = ['a','b','c','d'])\n",
    "\n",
    "df.sort_values(by='math')\n",
    "\n",
    "df"
   ]
  },
  {
   "cell_type": "markdown",
   "id": "fa099ea0",
   "metadata": {},
   "source": [
    "### 데이터프레임 통계함수 디폴트axis=0 (컬럼별), axis=1 (행,index)"
   ]
  },
  {
   "cell_type": "code",
   "execution_count": 13,
   "id": "2870cf81",
   "metadata": {},
   "outputs": [
    {
     "data": {
      "text/html": [
       "<div>\n",
       "<style scoped>\n",
       "    .dataframe tbody tr th:only-of-type {\n",
       "        vertical-align: middle;\n",
       "    }\n",
       "\n",
       "    .dataframe tbody tr th {\n",
       "        vertical-align: top;\n",
       "    }\n",
       "\n",
       "    .dataframe thead th {\n",
       "        text-align: right;\n",
       "    }\n",
       "</style>\n",
       "<table border=\"1\" class=\"dataframe\">\n",
       "  <thead>\n",
       "    <tr style=\"text-align: right;\">\n",
       "      <th></th>\n",
       "      <th>eng</th>\n",
       "      <th>kor</th>\n",
       "      <th>math</th>\n",
       "    </tr>\n",
       "  </thead>\n",
       "  <tbody>\n",
       "    <tr>\n",
       "      <th>a</th>\n",
       "      <td>10</td>\n",
       "      <td>20</td>\n",
       "      <td>90</td>\n",
       "    </tr>\n",
       "    <tr>\n",
       "      <th>b</th>\n",
       "      <td>30</td>\n",
       "      <td>40</td>\n",
       "      <td>50</td>\n",
       "    </tr>\n",
       "    <tr>\n",
       "      <th>c</th>\n",
       "      <td>50</td>\n",
       "      <td>60</td>\n",
       "      <td>20</td>\n",
       "    </tr>\n",
       "    <tr>\n",
       "      <th>d</th>\n",
       "      <td>70</td>\n",
       "      <td>80</td>\n",
       "      <td>70</td>\n",
       "    </tr>\n",
       "  </tbody>\n",
       "</table>\n",
       "</div>"
      ],
      "text/plain": [
       "   eng  kor  math\n",
       "a   10   20    90\n",
       "b   30   40    50\n",
       "c   50   60    20\n",
       "d   70   80    70"
      ]
     },
     "execution_count": 13,
     "metadata": {},
     "output_type": "execute_result"
    }
   ],
   "source": [
    "# numpy : axis = None(1차원으로풀어서), 0(컬럼), 1(행별)\n",
    "# dataframe : axis= None == 0, 1(행별)\n",
    "df.sum(axis=0) # axis = None\n",
    "df"
   ]
  },
  {
   "cell_type": "code",
   "execution_count": 12,
   "id": "5f711705",
   "metadata": {},
   "outputs": [
    {
     "data": {
      "text/html": [
       "<div>\n",
       "<style scoped>\n",
       "    .dataframe tbody tr th:only-of-type {\n",
       "        vertical-align: middle;\n",
       "    }\n",
       "\n",
       "    .dataframe tbody tr th {\n",
       "        vertical-align: top;\n",
       "    }\n",
       "\n",
       "    .dataframe thead th {\n",
       "        text-align: right;\n",
       "    }\n",
       "</style>\n",
       "<table border=\"1\" class=\"dataframe\">\n",
       "  <thead>\n",
       "    <tr style=\"text-align: right;\">\n",
       "      <th></th>\n",
       "      <th>eng</th>\n",
       "      <th>kor</th>\n",
       "      <th>math</th>\n",
       "    </tr>\n",
       "  </thead>\n",
       "  <tbody>\n",
       "    <tr>\n",
       "      <th>a</th>\n",
       "      <td>10</td>\n",
       "      <td>20</td>\n",
       "      <td>90</td>\n",
       "    </tr>\n",
       "    <tr>\n",
       "      <th>b</th>\n",
       "      <td>30</td>\n",
       "      <td>40</td>\n",
       "      <td>50</td>\n",
       "    </tr>\n",
       "    <tr>\n",
       "      <th>c</th>\n",
       "      <td>50</td>\n",
       "      <td>60</td>\n",
       "      <td>20</td>\n",
       "    </tr>\n",
       "    <tr>\n",
       "      <th>d</th>\n",
       "      <td>70</td>\n",
       "      <td>80</td>\n",
       "      <td>70</td>\n",
       "    </tr>\n",
       "  </tbody>\n",
       "</table>\n",
       "</div>"
      ],
      "text/plain": [
       "   eng  kor  math\n",
       "a   10   20    90\n",
       "b   30   40    50\n",
       "c   50   60    20\n",
       "d   70   80    70"
      ]
     },
     "execution_count": 12,
     "metadata": {},
     "output_type": "execute_result"
    }
   ],
   "source": [
    "df.sum(axis=1)\n",
    "df"
   ]
  },
  {
   "cell_type": "code",
   "execution_count": 18,
   "id": "90e764f0",
   "metadata": {},
   "outputs": [
    {
     "data": {
      "text/plain": [
       "590"
      ]
     },
     "execution_count": 18,
     "metadata": {},
     "output_type": "execute_result"
    }
   ],
   "source": [
    "df.sum().sum()"
   ]
  },
  {
   "cell_type": "code",
   "execution_count": 24,
   "id": "eda0dad7",
   "metadata": {},
   "outputs": [
    {
     "data": {
      "text/plain": [
       "590"
      ]
     },
     "execution_count": 24,
     "metadata": {},
     "output_type": "execute_result"
    }
   ],
   "source": [
    "np.sum(df.sum())"
   ]
  },
  {
   "cell_type": "code",
   "execution_count": 25,
   "id": "46d7dcfb",
   "metadata": {},
   "outputs": [
    {
     "data": {
      "text/plain": [
       "590"
      ]
     },
     "execution_count": 25,
     "metadata": {},
     "output_type": "execute_result"
    }
   ],
   "source": [
    "df.values.sum()"
   ]
  },
  {
   "cell_type": "code",
   "execution_count": 29,
   "id": "8f6e63bd",
   "metadata": {},
   "outputs": [
    {
     "data": {
      "text/plain": [
       "array([10, 30, 50, 70, 20, 40, 60, 80, 90, 50, 20, 70], dtype=int64)"
      ]
     },
     "execution_count": 29,
     "metadata": {},
     "output_type": "execute_result"
    }
   ],
   "source": [
    "# dataframe -> series \n",
    "sr = df.unstack()\n",
    "sr.index\n",
    "sr.values\n"
   ]
  },
  {
   "cell_type": "code",
   "execution_count": 30,
   "id": "b39dc11c",
   "metadata": {},
   "outputs": [
    {
     "data": {
      "text/plain": [
       "590"
      ]
     },
     "execution_count": 30,
     "metadata": {},
     "output_type": "execute_result"
    }
   ],
   "source": [
    "df.unstack().sum()"
   ]
  },
  {
   "cell_type": "code",
   "execution_count": 31,
   "id": "a59b623b",
   "metadata": {},
   "outputs": [
    {
     "data": {
      "text/plain": [
       "eng     40.0\n",
       "kor     50.0\n",
       "math    57.5\n",
       "dtype: float64"
      ]
     },
     "execution_count": 31,
     "metadata": {},
     "output_type": "execute_result"
    }
   ],
   "source": [
    "df.mean()"
   ]
  },
  {
   "cell_type": "code",
   "execution_count": 32,
   "id": "b3e6770c",
   "metadata": {},
   "outputs": [
    {
     "data": {
      "text/plain": [
       "a    40.00\n",
       "b    40.00\n",
       "c    43.33\n",
       "d    73.33\n",
       "dtype: float64"
      ]
     },
     "execution_count": 32,
     "metadata": {},
     "output_type": "execute_result"
    }
   ],
   "source": [
    "df.mean(axis=1).round(2)"
   ]
  },
  {
   "cell_type": "code",
   "execution_count": 33,
   "id": "02bb1e7e",
   "metadata": {},
   "outputs": [
    {
     "data": {
      "text/plain": [
       "49.166666666666664"
      ]
     },
     "execution_count": 33,
     "metadata": {},
     "output_type": "execute_result"
    }
   ],
   "source": [
    "df.mean().mean()"
   ]
  },
  {
   "cell_type": "markdown",
   "id": "449b71a2",
   "metadata": {},
   "source": [
    "df.values.mean()"
   ]
  },
  {
   "cell_type": "code",
   "execution_count": 37,
   "id": "52324196",
   "metadata": {},
   "outputs": [
    {
     "data": {
      "text/plain": [
       "eng     10\n",
       "kor     20\n",
       "math    20\n",
       "dtype: int64"
      ]
     },
     "execution_count": 37,
     "metadata": {},
     "output_type": "execute_result"
    }
   ],
   "source": [
    "# colum 별 가장 큰값\n",
    "df.max()\n",
    "df.max(axis=1)\n",
    "df.min()"
   ]
  },
  {
   "cell_type": "code",
   "execution_count": 39,
   "id": "6e8c896f",
   "metadata": {},
   "outputs": [
    {
     "name": "stdout",
     "output_type": "stream",
     "text": [
      "eng     d\n",
      "kor     d\n",
      "math    a\n",
      "dtype: object\n",
      "   eng  kor  math\n",
      "a   10   20    90\n",
      "b   30   40    50\n",
      "c   50   60    20\n",
      "d   70   80    70\n"
     ]
    }
   ],
   "source": [
    "print(df.idxmax())\n",
    "print(df)"
   ]
  },
  {
   "cell_type": "code",
   "execution_count": 44,
   "id": "f1e87f32",
   "metadata": {},
   "outputs": [
    {
     "name": "stdout",
     "output_type": "stream",
     "text": [
      "   eng  kor  math\n",
      "a   10   20    90\n",
      "b   30   40    50\n",
      "c   50   60    20\n",
      "d   70   80    70\n",
      "eng     40.0\n",
      "kor     50.0\n",
      "math    60.0\n",
      "dtype: float64\n",
      "a    20.0\n",
      "b    40.0\n",
      "c    50.0\n",
      "d    70.0\n",
      "dtype: float64\n",
      "eng   a    10\n",
      "kor   a    20\n",
      "math  c    20\n",
      "eng   b    30\n",
      "kor   b    40\n",
      "eng   c    50\n",
      "math  b    50\n",
      "kor   c    60\n",
      "eng   d    70\n",
      "math  d    70\n",
      "kor   d    80\n",
      "math  a    90\n",
      "dtype: int64\n",
      "50.0\n",
      "50.0\n"
     ]
    }
   ],
   "source": [
    "print(df)\n",
    "print(df.median())\n",
    "print(df.median(axis=1))\n",
    "print(df.unstack().sort_values())\n",
    "# 전체의 중간값 : 1차원으로 푼 다음의 중간값\n",
    "print(df.unstack().median())\n",
    "print(np.median(df.values))"
   ]
  },
  {
   "cell_type": "code",
   "execution_count": 46,
   "id": "750ecb4c",
   "metadata": {},
   "outputs": [
    {
     "data": {
      "text/plain": [
       "eng     25.819889\n",
       "kor     25.819889\n",
       "math    29.860788\n",
       "dtype: float64"
      ]
     },
     "execution_count": 46,
     "metadata": {},
     "output_type": "execute_result"
    }
   ],
   "source": [
    "df.std() # 표준편차"
   ]
  },
  {
   "cell_type": "code",
   "execution_count": 47,
   "id": "716a800f",
   "metadata": {},
   "outputs": [
    {
     "data": {
      "text/html": [
       "<div>\n",
       "<style scoped>\n",
       "    .dataframe tbody tr th:only-of-type {\n",
       "        vertical-align: middle;\n",
       "    }\n",
       "\n",
       "    .dataframe tbody tr th {\n",
       "        vertical-align: top;\n",
       "    }\n",
       "\n",
       "    .dataframe thead th {\n",
       "        text-align: right;\n",
       "    }\n",
       "</style>\n",
       "<table border=\"1\" class=\"dataframe\">\n",
       "  <thead>\n",
       "    <tr style=\"text-align: right;\">\n",
       "      <th></th>\n",
       "      <th>eng</th>\n",
       "      <th>kor</th>\n",
       "      <th>math</th>\n",
       "    </tr>\n",
       "  </thead>\n",
       "  <tbody>\n",
       "    <tr>\n",
       "      <th>0.25</th>\n",
       "      <td>25.0</td>\n",
       "      <td>35.0</td>\n",
       "      <td>42.5</td>\n",
       "    </tr>\n",
       "    <tr>\n",
       "      <th>0.50</th>\n",
       "      <td>40.0</td>\n",
       "      <td>50.0</td>\n",
       "      <td>60.0</td>\n",
       "    </tr>\n",
       "    <tr>\n",
       "      <th>0.75</th>\n",
       "      <td>55.0</td>\n",
       "      <td>65.0</td>\n",
       "      <td>75.0</td>\n",
       "    </tr>\n",
       "  </tbody>\n",
       "</table>\n",
       "</div>"
      ],
      "text/plain": [
       "       eng   kor  math\n",
       "0.25  25.0  35.0  42.5\n",
       "0.50  40.0  50.0  60.0\n",
       "0.75  55.0  65.0  75.0"
      ]
     },
     "execution_count": 47,
     "metadata": {},
     "output_type": "execute_result"
    }
   ],
   "source": [
    "# 해당 등별 점수\n",
    "df.quantile([0.25, 0.5, 0.75])"
   ]
  },
  {
   "cell_type": "code",
   "execution_count": 49,
   "id": "14c5ee54",
   "metadata": {},
   "outputs": [
    {
     "data": {
      "text/plain": [
       "eng     4\n",
       "kor     4\n",
       "math    4\n",
       "dtype: int64"
      ]
     },
     "execution_count": 49,
     "metadata": {},
     "output_type": "execute_result"
    }
   ],
   "source": [
    "df.count()\n"
   ]
  },
  {
   "cell_type": "code",
   "execution_count": 50,
   "id": "f7b4c242",
   "metadata": {},
   "outputs": [
    {
     "data": {
      "text/html": [
       "<div>\n",
       "<style scoped>\n",
       "    .dataframe tbody tr th:only-of-type {\n",
       "        vertical-align: middle;\n",
       "    }\n",
       "\n",
       "    .dataframe tbody tr th {\n",
       "        vertical-align: top;\n",
       "    }\n",
       "\n",
       "    .dataframe thead th {\n",
       "        text-align: right;\n",
       "    }\n",
       "</style>\n",
       "<table border=\"1\" class=\"dataframe\">\n",
       "  <thead>\n",
       "    <tr style=\"text-align: right;\">\n",
       "      <th></th>\n",
       "      <th>eng</th>\n",
       "      <th>kor</th>\n",
       "      <th>math</th>\n",
       "    </tr>\n",
       "  </thead>\n",
       "  <tbody>\n",
       "    <tr>\n",
       "      <th>count</th>\n",
       "      <td>4.000000</td>\n",
       "      <td>4.000000</td>\n",
       "      <td>4.000000</td>\n",
       "    </tr>\n",
       "    <tr>\n",
       "      <th>mean</th>\n",
       "      <td>40.000000</td>\n",
       "      <td>50.000000</td>\n",
       "      <td>57.500000</td>\n",
       "    </tr>\n",
       "    <tr>\n",
       "      <th>std</th>\n",
       "      <td>25.819889</td>\n",
       "      <td>25.819889</td>\n",
       "      <td>29.860788</td>\n",
       "    </tr>\n",
       "    <tr>\n",
       "      <th>min</th>\n",
       "      <td>10.000000</td>\n",
       "      <td>20.000000</td>\n",
       "      <td>20.000000</td>\n",
       "    </tr>\n",
       "    <tr>\n",
       "      <th>25%</th>\n",
       "      <td>25.000000</td>\n",
       "      <td>35.000000</td>\n",
       "      <td>42.500000</td>\n",
       "    </tr>\n",
       "    <tr>\n",
       "      <th>50%</th>\n",
       "      <td>40.000000</td>\n",
       "      <td>50.000000</td>\n",
       "      <td>60.000000</td>\n",
       "    </tr>\n",
       "    <tr>\n",
       "      <th>75%</th>\n",
       "      <td>55.000000</td>\n",
       "      <td>65.000000</td>\n",
       "      <td>75.000000</td>\n",
       "    </tr>\n",
       "    <tr>\n",
       "      <th>max</th>\n",
       "      <td>70.000000</td>\n",
       "      <td>80.000000</td>\n",
       "      <td>90.000000</td>\n",
       "    </tr>\n",
       "  </tbody>\n",
       "</table>\n",
       "</div>"
      ],
      "text/plain": [
       "             eng        kor       math\n",
       "count   4.000000   4.000000   4.000000\n",
       "mean   40.000000  50.000000  57.500000\n",
       "std    25.819889  25.819889  29.860788\n",
       "min    10.000000  20.000000  20.000000\n",
       "25%    25.000000  35.000000  42.500000\n",
       "50%    40.000000  50.000000  60.000000\n",
       "75%    55.000000  65.000000  75.000000\n",
       "max    70.000000  80.000000  90.000000"
      ]
     },
     "execution_count": 50,
     "metadata": {},
     "output_type": "execute_result"
    }
   ],
   "source": [
    "df.describe()"
   ]
  },
  {
   "cell_type": "code",
   "execution_count": 52,
   "id": "3a7bef0c",
   "metadata": {},
   "outputs": [
    {
     "data": {
      "text/html": [
       "<div>\n",
       "<style scoped>\n",
       "    .dataframe tbody tr th:only-of-type {\n",
       "        vertical-align: middle;\n",
       "    }\n",
       "\n",
       "    .dataframe tbody tr th {\n",
       "        vertical-align: top;\n",
       "    }\n",
       "\n",
       "    .dataframe thead th {\n",
       "        text-align: right;\n",
       "    }\n",
       "</style>\n",
       "<table border=\"1\" class=\"dataframe\">\n",
       "  <thead>\n",
       "    <tr style=\"text-align: right;\">\n",
       "      <th></th>\n",
       "      <th>eng</th>\n",
       "      <th>kor</th>\n",
       "      <th>math</th>\n",
       "    </tr>\n",
       "  </thead>\n",
       "  <tbody>\n",
       "    <tr>\n",
       "      <th>a</th>\n",
       "      <td>10</td>\n",
       "      <td>20</td>\n",
       "      <td>90</td>\n",
       "    </tr>\n",
       "    <tr>\n",
       "      <th>b</th>\n",
       "      <td>30</td>\n",
       "      <td>40</td>\n",
       "      <td>50</td>\n",
       "    </tr>\n",
       "  </tbody>\n",
       "</table>\n",
       "</div>"
      ],
      "text/plain": [
       "   eng  kor  math\n",
       "a   10   20    90\n",
       "b   30   40    50"
      ]
     },
     "execution_count": 52,
     "metadata": {},
     "output_type": "execute_result"
    }
   ],
   "source": [
    "df.head(2)"
   ]
  },
  {
   "cell_type": "code",
   "execution_count": 53,
   "id": "c8ffa29f",
   "metadata": {},
   "outputs": [
    {
     "data": {
      "text/html": [
       "<div>\n",
       "<style scoped>\n",
       "    .dataframe tbody tr th:only-of-type {\n",
       "        vertical-align: middle;\n",
       "    }\n",
       "\n",
       "    .dataframe tbody tr th {\n",
       "        vertical-align: top;\n",
       "    }\n",
       "\n",
       "    .dataframe thead th {\n",
       "        text-align: right;\n",
       "    }\n",
       "</style>\n",
       "<table border=\"1\" class=\"dataframe\">\n",
       "  <thead>\n",
       "    <tr style=\"text-align: right;\">\n",
       "      <th></th>\n",
       "      <th>eng</th>\n",
       "      <th>kor</th>\n",
       "      <th>math</th>\n",
       "    </tr>\n",
       "  </thead>\n",
       "  <tbody>\n",
       "    <tr>\n",
       "      <th>c</th>\n",
       "      <td>50</td>\n",
       "      <td>60</td>\n",
       "      <td>20</td>\n",
       "    </tr>\n",
       "    <tr>\n",
       "      <th>d</th>\n",
       "      <td>70</td>\n",
       "      <td>80</td>\n",
       "      <td>70</td>\n",
       "    </tr>\n",
       "  </tbody>\n",
       "</table>\n",
       "</div>"
      ],
      "text/plain": [
       "   eng  kor  math\n",
       "c   50   60    20\n",
       "d   70   80    70"
      ]
     },
     "execution_count": 53,
     "metadata": {},
     "output_type": "execute_result"
    }
   ],
   "source": [
    "df.tail(2)"
   ]
  },
  {
   "cell_type": "code",
   "execution_count": 56,
   "id": "6831f845",
   "metadata": {},
   "outputs": [
    {
     "data": {
      "text/html": [
       "<div>\n",
       "<style scoped>\n",
       "    .dataframe tbody tr th:only-of-type {\n",
       "        vertical-align: middle;\n",
       "    }\n",
       "\n",
       "    .dataframe tbody tr th {\n",
       "        vertical-align: top;\n",
       "    }\n",
       "\n",
       "    .dataframe thead th {\n",
       "        text-align: right;\n",
       "    }\n",
       "</style>\n",
       "<table border=\"1\" class=\"dataframe\">\n",
       "  <thead>\n",
       "    <tr style=\"text-align: right;\">\n",
       "      <th></th>\n",
       "      <th>eng</th>\n",
       "      <th>kor</th>\n",
       "      <th>math</th>\n",
       "    </tr>\n",
       "  </thead>\n",
       "  <tbody>\n",
       "    <tr>\n",
       "      <th>d</th>\n",
       "      <td>70</td>\n",
       "      <td>80</td>\n",
       "      <td>70</td>\n",
       "    </tr>\n",
       "    <tr>\n",
       "      <th>c</th>\n",
       "      <td>50</td>\n",
       "      <td>60</td>\n",
       "      <td>20</td>\n",
       "    </tr>\n",
       "  </tbody>\n",
       "</table>\n",
       "</div>"
      ],
      "text/plain": [
       "   eng  kor  math\n",
       "d   70   80    70\n",
       "c   50   60    20"
      ]
     },
     "execution_count": 56,
     "metadata": {},
     "output_type": "execute_result"
    }
   ],
   "source": [
    "# kor 중 상위 2개중에\n",
    "df.nlargest(2, 'kor', keep='all')"
   ]
  },
  {
   "cell_type": "code",
   "execution_count": 58,
   "id": "d76fe874",
   "metadata": {},
   "outputs": [
    {
     "name": "stdout",
     "output_type": "stream",
     "text": [
      "<class 'pandas.core.series.Series'> a    10\n",
      "b    30\n",
      "c    50\n",
      "d    70\n",
      "Name: eng, dtype: int64\n",
      "<class 'pandas.core.series.Series'> a    20\n",
      "b    40\n",
      "c    60\n",
      "d    80\n",
      "Name: kor, dtype: int64\n",
      "<class 'pandas.core.series.Series'> a    90\n",
      "b    50\n",
      "c    20\n",
      "d    70\n",
      "Name: math, dtype: int64\n"
     ]
    },
    {
     "data": {
      "text/plain": [
       "eng     160\n",
       "kor     200\n",
       "math    230\n",
       "dtype: int64"
      ]
     },
     "execution_count": 58,
     "metadata": {},
     "output_type": "execute_result"
    }
   ],
   "source": [
    "def fn(v) :\n",
    "    print(type(v), v)\n",
    "    return v.sum()\n",
    "df.apply(fn)\n"
   ]
  },
  {
   "cell_type": "code",
   "execution_count": 61,
   "id": "4f0ac3a3",
   "metadata": {},
   "outputs": [
    {
     "name": "stdout",
     "output_type": "stream",
     "text": [
      "<class 'pandas.core.series.Series'> eng     10\n",
      "kor     20\n",
      "math    90\n",
      "Name: a, dtype: int64\n",
      "<class 'pandas.core.series.Series'> eng     30\n",
      "kor     40\n",
      "math    50\n",
      "Name: b, dtype: int64\n",
      "<class 'pandas.core.series.Series'> eng     50\n",
      "kor     60\n",
      "math    20\n",
      "Name: c, dtype: int64\n",
      "<class 'pandas.core.series.Series'> eng     70\n",
      "kor     80\n",
      "math    70\n",
      "Name: d, dtype: int64\n"
     ]
    },
    {
     "data": {
      "text/plain": [
       "a    120\n",
       "b    120\n",
       "c    130\n",
       "d    220\n",
       "dtype: int64"
      ]
     },
     "execution_count": 61,
     "metadata": {},
     "output_type": "execute_result"
    }
   ],
   "source": [
    "# series for low\n",
    "df.apply(fn, axis=1)\n",
    "df.apply(lambda v:v.sum(), axis=1)"
   ]
  },
  {
   "cell_type": "code",
   "execution_count": 126,
   "id": "6a9ac679",
   "metadata": {},
   "outputs": [
    {
     "data": {
      "text/html": [
       "<div>\n",
       "<style scoped>\n",
       "    .dataframe tbody tr th:only-of-type {\n",
       "        vertical-align: middle;\n",
       "    }\n",
       "\n",
       "    .dataframe tbody tr th {\n",
       "        vertical-align: top;\n",
       "    }\n",
       "\n",
       "    .dataframe thead th {\n",
       "        text-align: right;\n",
       "    }\n",
       "</style>\n",
       "<table border=\"1\" class=\"dataframe\">\n",
       "  <thead>\n",
       "    <tr style=\"text-align: right;\">\n",
       "      <th></th>\n",
       "      <th>eng</th>\n",
       "      <th>kor</th>\n",
       "      <th>math</th>\n",
       "      <th>결과</th>\n",
       "    </tr>\n",
       "  </thead>\n",
       "  <tbody>\n",
       "    <tr>\n",
       "      <th>a</th>\n",
       "      <td>10</td>\n",
       "      <td>20</td>\n",
       "      <td>90</td>\n",
       "      <td>불합격</td>\n",
       "    </tr>\n",
       "    <tr>\n",
       "      <th>b</th>\n",
       "      <td>30</td>\n",
       "      <td>40</td>\n",
       "      <td>50</td>\n",
       "      <td>불합격</td>\n",
       "    </tr>\n",
       "    <tr>\n",
       "      <th>c</th>\n",
       "      <td>50</td>\n",
       "      <td>60</td>\n",
       "      <td>20</td>\n",
       "      <td>불합격</td>\n",
       "    </tr>\n",
       "    <tr>\n",
       "      <th>d</th>\n",
       "      <td>70</td>\n",
       "      <td>80</td>\n",
       "      <td>70</td>\n",
       "      <td>합격</td>\n",
       "    </tr>\n",
       "  </tbody>\n",
       "</table>\n",
       "</div>"
      ],
      "text/plain": [
       "   eng  kor  math   결과\n",
       "a   10   20    90  불합격\n",
       "b   30   40    50  불합격\n",
       "c   50   60    20  불합격\n",
       "d   70   80    70   합격"
      ]
     },
     "execution_count": 126,
     "metadata": {},
     "output_type": "execute_result"
    }
   ],
   "source": [
    "# practice\n",
    "# 국어 영어 수학점수의 평균이 70이상이면 합격 아니면 불합결\n",
    "import pandas as pd\n",
    "import numpy as np\n",
    "import matplotlib.pyplot as plt\n",
    "\n",
    "import matplotlib\n",
    "\n",
    "data = {'eng': [10,30,50,70],\n",
    "        'kor': [20,40,60,80],\n",
    "        'math': [90,50,20,70]}\n",
    "df = pd.DataFrame(data, index = ['a','b','c','d'])\n",
    "\n",
    "df[\"결과\"] = df.apply(lambda v:\"합격\" if v.mean()>=70 else \"불합격\", axis=1)\n",
    "df\n",
    "#df.mean(axis=1).apply(lambda v: '합격' if v >= 70 else '불합격')\n",
    "#df['결과'] = df.apply(lambda v: \"합격\" if v.mean()>=70 else \"불합격\", axis=1)"
   ]
  },
  {
   "cell_type": "code",
   "execution_count": 112,
   "id": "c6d247a6",
   "metadata": {},
   "outputs": [
    {
     "name": "stdout",
     "output_type": "stream",
     "text": [
      "   eng  kor  math   결과\n",
      "a   10   20    90  불합격\n",
      "b   30   40    50  불합격\n",
      "c   50   60    20  불합격\n",
      "d   70   80    70   합격\n"
     ]
    }
   ],
   "source": [
    "def fn2(v):\n",
    "    if (v.mean()>=70):\n",
    "        return \"합격\"\n",
    "    else :\n",
    "        return \"불합격\"\n",
    "\n",
    "df[\"결과\"] = df.apply(fn2, axis=1)\n",
    "print(df)"
   ]
  },
  {
   "cell_type": "markdown",
   "id": "1d8302d9",
   "metadata": {},
   "source": [
    "# 시각화"
   ]
  },
  {
   "cell_type": "code",
   "execution_count": 83,
   "id": "da9df9c8",
   "metadata": {
    "scrolled": true
   },
   "outputs": [
    {
     "data": {
      "image/png": "[encoded data removed]",
      "text/plain": [
       "<Figure size 432x288 with 1 Axes>"
      ]
     },
     "metadata": {
      "needs_background": "light"
     },
     "output_type": "display_data"
    }
   ],
   "source": [
    "df.plot()\n",
    "plt.show()"
   ]
  },
  {
   "cell_type": "code",
   "execution_count": 89,
   "id": "ede4a919",
   "metadata": {
    "scrolled": true
   },
   "outputs": [
    {
     "data": {
      "image/png": "[encoded data removed]",
      "text/plain": [
       "<Figure size 432x288 with 1 Axes>"
      ]
     },
     "metadata": {
      "needs_background": "light"
     },
     "output_type": "display_data"
    },
    {
     "data": {
      "image/png": "[encoded data removed]",
      "text/plain": [
       "<Figure size 432x288 with 1 Axes>"
      ]
     },
     "metadata": {
      "needs_background": "light"
     },
     "output_type": "display_data"
    }
   ],
   "source": [
    "df.plot(kind = 'bar', y=['eng', 'kor'])\n",
    "plt.show()\n",
    "df.plot(kind='scatter', x='eng', y='math')\n",
    "plt.show()"
   ]
  },
  {
   "cell_type": "code",
   "execution_count": 99,
   "id": "bf5636cf",
   "metadata": {},
   "outputs": [
    {
     "data": {
      "image/png": "[encoded data removed]",
      "text/plain": [
       "<Figure size 432x288 with 1 Axes>"
      ]
     },
     "metadata": {
      "needs_background": "light"
     },
     "output_type": "display_data"
    }
   ],
   "source": [
    "df.plot(kind='scatter', x = 'eng', y='math', s=100, c='r')\n",
    "plt.show()"
   ]
  },
  {
   "cell_type": "code",
   "execution_count": 113,
   "id": "1e426e73",
   "metadata": {},
   "outputs": [
    {
     "name": "stdout",
     "output_type": "stream",
     "text": [
      "eng\n",
      "kor\n",
      "math\n",
      "결과\n"
     ]
    }
   ],
   "source": [
    "for n in df:\n",
    "    print(n)"
   ]
  },
  {
   "cell_type": "code",
   "execution_count": 117,
   "id": "e0d7447b",
   "metadata": {},
   "outputs": [
    {
     "name": "stdout",
     "output_type": "stream",
     "text": [
      "a\n",
      "b\n",
      "c\n",
      "d\n"
     ]
    }
   ],
   "source": [
    "for n in df.index:\n",
    "    print(n)"
   ]
  },
  {
   "cell_type": "code",
   "execution_count": 136,
   "id": "6b44430f",
   "metadata": {},
   "outputs": [
    {
     "name": "stdout",
     "output_type": "stream",
     "text": [
      "('eng', a    10\n",
      "b    30\n",
      "c    50\n",
      "d    70\n",
      "Name: eng, dtype: int64)\n",
      "('kor', a    20\n",
      "b    40\n",
      "c    60\n",
      "d    80\n",
      "Name: kor, dtype: int64)\n",
      "('math', a    90\n",
      "b    50\n",
      "c    20\n",
      "d    70\n",
      "Name: math, dtype: int64)\n",
      "('결과', a    불합격\n",
      "b    불합격\n",
      "c    불합격\n",
      "d     합격\n",
      "Name: 결과, dtype: object)\n"
     ]
    }
   ],
   "source": [
    "for n in df.items():\n",
    "    print(n)"
   ]
  },
  {
   "cell_type": "code",
   "execution_count": 137,
   "id": "204403f2",
   "metadata": {},
   "outputs": [
    {
     "name": "stdout",
     "output_type": "stream",
     "text": [
      "eng 10 30 50 70\n",
      "kor 20 40 60 80\n",
      "math 90 50 20 70\n",
      "결과 불합격 불합격 불합격 합격\n"
     ]
    }
   ],
   "source": [
    "for i, sr in df.items():\n",
    "    print(i, sr['a'], sr['b'], sr['c'], sr['d'])"
   ]
  },
  {
   "cell_type": "code",
   "execution_count": 138,
   "id": "ce362e86",
   "metadata": {},
   "outputs": [
    {
     "name": "stdout",
     "output_type": "stream",
     "text": [
      "a 10 20 90\n",
      "b 30 40 50\n",
      "c 50 60 20\n",
      "d 70 80 70\n"
     ]
    }
   ],
   "source": [
    "for idx, sr in df.iterrows():\n",
    "    print(idx, sr['eng'], sr['kor'], sr['math'])"
   ]
  },
  {
   "cell_type": "code",
   "execution_count": null,
   "id": "c521e0c5",
   "metadata": {},
   "outputs": [],
   "source": []
  }
 ],
 "metadata": {
  "kernelspec": {
   "display_name": "Python 3 (ipykernel)",
   "language": "python",
   "name": "python3"
  },
  "language_info": {
   "codemirror_mode": {
    "name": "ipython",
    "version": 3
   },
   "file_extension": ".py",
   "mimetype": "text/x-python",
   "name": "python",
   "nbconvert_exporter": "python",
   "pygments_lexer": "ipython3",
   "version": "3.9.7"
  }
 },
 "nbformat": 4,
 "nbformat_minor": 5
}
