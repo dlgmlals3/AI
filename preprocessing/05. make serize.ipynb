{
 "cells": [
  {
   "cell_type": "markdown",
   "id": "c818e12a",
   "metadata": {},
   "source": [
    "# pandas 대표 클래스\n",
    "- Series : 1차원 데이터 (대표 클래스)\n",
    "- DataFrame : 2차원 데이터 (대표 클래스)\n",
    "- list -> numpy -> pandas\n",
    "- 데이터의 가공 , 변환, 정제수집, 전처리, 통계, 시각화\n",
    "- numpy 기능 확장 및 보완"
   ]
  },
  {
   "cell_type": "code",
   "execution_count": 2,
   "id": "30e0ac60",
   "metadata": {},
   "outputs": [],
   "source": [
    "import pandas as pd\n",
    "import numpy as np"
   ]
  },
  {
   "cell_type": "markdown",
   "id": "8e6f714f",
   "metadata": {},
   "source": [
    "# 1차원 데이터\n",
    "- 10, 3.14, 'abc'\n",
    "- [10,20,30,40] <-- 여기까지 numpy 기능\n",
    "- (10, 20, 30, 40)\n",
    "- {'a':10, 'b':20, 'c':30} <-- pandas 기능"
   ]
  },
  {
   "cell_type": "code",
   "execution_count": 7,
   "id": "33acdf37",
   "metadata": {},
   "outputs": [],
   "source": [
    "import pandas as pd\n",
    "import numpy as np\n",
    "d1 = [10,20,30,40]\n",
    "d2 = (10, 20, 30, 40)\n",
    "d3 = {'a':10, 'b':20, 'c':30}\n"
   ]
  },
  {
   "cell_type": "markdown",
   "id": "0dca6533",
   "metadata": {},
   "source": [
    "series docu : https://pandas.pydata.org/docs/reference/api/pandas.Series.html"
   ]
  },
  {
   "cell_type": "code",
   "execution_count": 10,
   "id": "116d1fb0",
   "metadata": {},
   "outputs": [
    {
     "data": {
      "text/plain": [
       "0    10\n",
       "1    20\n",
       "2    30\n",
       "3    40\n",
       "dtype: int64"
      ]
     },
     "execution_count": 10,
     "metadata": {},
     "output_type": "execute_result"
    }
   ],
   "source": [
    "sr = pd.Series(d1)\n",
    "sr"
   ]
  },
  {
   "cell_type": "code",
   "execution_count": 11,
   "id": "61b959de",
   "metadata": {},
   "outputs": [
    {
     "data": {
      "text/plain": [
       "a    10\n",
       "b    20\n",
       "c    30\n",
       "d    40\n",
       "dtype: int64"
      ]
     },
     "execution_count": 11,
     "metadata": {},
     "output_type": "execute_result"
    }
   ],
   "source": [
    "sr = pd.Series(d1, index=['a', 'b', 'c', 'd'])\n",
    "sr"
   ]
  },
  {
   "cell_type": "code",
   "execution_count": 18,
   "id": "1c62b5fb",
   "metadata": {},
   "outputs": [
    {
     "data": {
      "text/plain": [
       "a    10\n",
       "b    20\n",
       "c    30\n",
       "d    40\n",
       "Name: 국어점수, dtype: int32"
      ]
     },
     "execution_count": 18,
     "metadata": {},
     "output_type": "execute_result"
    }
   ],
   "source": [
    "sr = pd.Series(d1, index = ['a', 'b', 'c', 'd'], dtype=np.int32)\n",
    "# 라벨링\n",
    "sr = pd.Series(d1, index = ['a', 'b', 'c', 'd'], dtype=np.int32, name = '국어점수')\n",
    "sr"
   ]
  },
  {
   "cell_type": "code",
   "execution_count": 21,
   "id": "c8848717",
   "metadata": {},
   "outputs": [
    {
     "data": {
      "text/plain": [
       "a    10\n",
       "b    20\n",
       "c    30\n",
       "d    40\n",
       "dtype: int32"
      ]
     },
     "execution_count": 21,
     "metadata": {},
     "output_type": "execute_result"
    }
   ],
   "source": [
    "sr = pd.Series(d2, index = ['a', 'b', 'c', 'd'], dtype=np.int32)\n",
    "sr"
   ]
  },
  {
   "cell_type": "code",
   "execution_count": 23,
   "id": "7fae40cd",
   "metadata": {},
   "outputs": [
    {
     "data": {
      "text/plain": [
       "a    10\n",
       "b    20\n",
       "c    30\n",
       "dtype: int64"
      ]
     },
     "execution_count": 23,
     "metadata": {},
     "output_type": "execute_result"
    }
   ],
   "source": [
    "# dictionary는 key값이 series index로 가져옴.\n",
    "sr = pd.Series(d3)\n",
    "sr"
   ]
  }
 ],
 "metadata": {
  "kernelspec": {
   "display_name": "Python 3 (ipykernel)",
   "language": "python",
   "name": "python3"
  },
  "language_info": {
   "codemirror_mode": {
    "name": "ipython",
    "version": 3
   },
   "file_extension": ".py",
   "mimetype": "text/x-python",
   "name": "python",
   "nbconvert_exporter": "python",
   "pygments_lexer": "ipython3",
   "version": "3.9.7"
  }
 },
 "nbformat": 4,
 "nbformat_minor": 5
}
