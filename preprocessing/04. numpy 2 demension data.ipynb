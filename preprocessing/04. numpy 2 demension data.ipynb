{
 "cells": [
  {
   "cell_type": "code",
   "execution_count": 3,
   "metadata": {},
   "outputs": [],
   "source": [
    "import numpy as np"
   ]
  },
  {
   "cell_type": "code",
   "execution_count": 2,
   "metadata": {},
   "outputs": [
    {
     "data": {
      "text/plain": [
       "array([[ 1,  2,  3],\n",
       "       [ 7,  5,  2],\n",
       "       [10,  1,  8],\n",
       "       [ 6,  3,  4]])"
      ]
     },
     "execution_count": 2,
     "metadata": {},
     "output_type": "execute_result"
    }
   ],
   "source": [
    "import numpy as np\n",
    "arr = np.array( [ [1,2,3],[7,5,2],[10,1,8],[6,3,4] ] )\n",
    "arr"
   ]
  },
  {
   "cell_type": "code",
   "execution_count": 3,
   "metadata": {},
   "outputs": [
    {
     "data": {
      "text/plain": [
       "(4, 3)"
      ]
     },
     "execution_count": 3,
     "metadata": {},
     "output_type": "execute_result"
    }
   ],
   "source": [
    "arr.shape"
   ]
  },
  {
   "cell_type": "code",
   "execution_count": 5,
   "metadata": {},
   "outputs": [
    {
     "data": {
      "text/plain": [
       "array([[ 1,  7, 10,  6],\n",
       "       [ 2,  5,  1,  3],\n",
       "       [ 3,  2,  8,  4]])"
      ]
     },
     "execution_count": 5,
     "metadata": {},
     "output_type": "execute_result"
    }
   ],
   "source": [
    "arr.T"
   ]
  },
  {
   "cell_type": "markdown",
   "metadata": {},
   "source": [
    "### 2차원 인덱싱 슬라이싱"
   ]
  },
  {
   "cell_type": "markdown",
   "metadata": {},
   "source": [
    "### 인덱싱\n",
    "- [행,열]\n",
    "- [행]"
   ]
  },
  {
   "cell_type": "code",
   "execution_count": null,
   "metadata": {},
   "outputs": [],
   "source": [
    "arr[1]"
   ]
  },
  {
   "cell_type": "code",
   "execution_count": null,
   "metadata": {},
   "outputs": [],
   "source": [
    "arr[1,1]"
   ]
  },
  {
   "cell_type": "code",
   "execution_count": 4,
   "metadata": {},
   "outputs": [
    {
     "name": "stdout",
     "output_type": "stream",
     "text": [
      "[[ 1  2  3]\n",
      " [ 7  5  2]\n",
      " [10  1  8]\n",
      " [ 6  3  4]]\n"
     ]
    },
    {
     "data": {
      "text/plain": [
       "array([[ 1,  2,  3],\n",
       "       [10,  1,  8],\n",
       "       [ 6,  3,  4]])"
      ]
     },
     "execution_count": 4,
     "metadata": {},
     "output_type": "execute_result"
    }
   ],
   "source": [
    "print(arr)\n",
    "arr[[0,2,3]]"
   ]
  },
  {
   "cell_type": "markdown",
   "metadata": {},
   "source": [
    "### 슬라이싱"
   ]
  },
  {
   "cell_type": "code",
   "execution_count": 6,
   "metadata": {},
   "outputs": [
    {
     "name": "stdout",
     "output_type": "stream",
     "text": [
      "[[ 1  2  3]\n",
      " [ 7  5  2]\n",
      " [10  1  8]\n",
      " [ 6  3  4]]\n"
     ]
    },
    {
     "data": {
      "text/plain": [
       "array([[ 7,  5,  2],\n",
       "       [10,  1,  8],\n",
       "       [ 6,  3,  4]])"
      ]
     },
     "execution_count": 6,
     "metadata": {},
     "output_type": "execute_result"
    }
   ],
   "source": [
    "print(arr)\n",
    "arr[1:]"
   ]
  },
  {
   "cell_type": "code",
   "execution_count": 11,
   "metadata": {},
   "outputs": [
    {
     "data": {
      "text/plain": [
       "array([[ 7,  2],\n",
       "       [10,  8],\n",
       "       [ 6,  4]])"
      ]
     },
     "execution_count": 11,
     "metadata": {},
     "output_type": "execute_result"
    }
   ],
   "source": [
    "arr[1:,[0,2]]"
   ]
  },
  {
   "cell_type": "code",
   "execution_count": 12,
   "metadata": {},
   "outputs": [
    {
     "data": {
      "text/plain": [
       "array([[5, 2],\n",
       "       [1, 8],\n",
       "       [3, 4]])"
      ]
     },
     "execution_count": 12,
     "metadata": {},
     "output_type": "execute_result"
    }
   ],
   "source": [
    "arr[1:,1:]"
   ]
  },
  {
   "cell_type": "code",
   "execution_count": 9,
   "metadata": {},
   "outputs": [
    {
     "name": "stdout",
     "output_type": "stream",
     "text": [
      "[[ 1  2  3]\n",
      " [ 7  5  2]\n",
      " [10  1  8]\n",
      " [ 6  3  4]]\n"
     ]
    },
    {
     "data": {
      "text/plain": [
       "array([[ 1,  2],\n",
       "       [ 7,  5],\n",
       "       [10,  1],\n",
       "       [ 6,  3]])"
      ]
     },
     "execution_count": 9,
     "metadata": {},
     "output_type": "execute_result"
    }
   ],
   "source": [
    "###마지막열을 제외하고 선택하시요.\n",
    "print(arr)\n",
    "arr[:,:-1] # 인공지능 특성데이터 추출"
   ]
  },
  {
   "cell_type": "code",
   "execution_count": 11,
   "metadata": {},
   "outputs": [
    {
     "data": {
      "text/plain": [
       "array([3, 2, 8, 4])"
      ]
     },
     "execution_count": 11,
     "metadata": {},
     "output_type": "execute_result"
    }
   ],
   "source": [
    "arr[:,-1]"
   ]
  },
  {
   "cell_type": "code",
   "execution_count": 17,
   "metadata": {},
   "outputs": [
    {
     "data": {
      "text/plain": [
       "array([[3],\n",
       "       [2],\n",
       "       [8],\n",
       "       [4]])"
      ]
     },
     "execution_count": 17,
     "metadata": {},
     "output_type": "execute_result"
    }
   ],
   "source": [
    "arr[:,[-1]] # 인공지능 라벨 추출시"
   ]
  },
  {
   "cell_type": "markdown",
   "metadata": {},
   "source": [
    "### 2차원데이터 boolean indexing\n",
    "- 행단위"
   ]
  },
  {
   "cell_type": "code",
   "execution_count": 18,
   "metadata": {},
   "outputs": [
    {
     "data": {
      "text/plain": [
       "array([[1, 2, 3],\n",
       "       [6, 3, 4]])"
      ]
     },
     "execution_count": 18,
     "metadata": {},
     "output_type": "execute_result"
    }
   ],
   "source": [
    "arr[[True,False,False,True]]"
   ]
  },
  {
   "cell_type": "markdown",
   "metadata": {},
   "source": [
    "### 연산"
   ]
  },
  {
   "cell_type": "code",
   "execution_count": 19,
   "metadata": {
    "collapsed": true
   },
   "outputs": [
    {
     "data": {
      "text/plain": [
       "array([[ 3,  4,  5],\n",
       "       [ 9,  7,  4],\n",
       "       [12,  3, 10],\n",
       "       [ 8,  5,  6]])"
      ]
     },
     "execution_count": 19,
     "metadata": {},
     "output_type": "execute_result"
    }
   ],
   "source": [
    "arr+2"
   ]
  },
  {
   "cell_type": "code",
   "execution_count": 20,
   "metadata": {
    "collapsed": true
   },
   "outputs": [
    {
     "data": {
      "text/plain": [
       "array([[ 2,  4,  6],\n",
       "       [14, 10,  4],\n",
       "       [20,  2, 16],\n",
       "       [12,  6,  8]])"
      ]
     },
     "execution_count": 20,
     "metadata": {},
     "output_type": "execute_result"
    }
   ],
   "source": [
    "arr*2"
   ]
  },
  {
   "cell_type": "code",
   "execution_count": 23,
   "metadata": {},
   "outputs": [],
   "source": [
    "arr[1] = arr[1]+2"
   ]
  },
  {
   "cell_type": "code",
   "execution_count": 27,
   "metadata": {},
   "outputs": [],
   "source": [
    "arr[:,1] = arr[:,1] +2 "
   ]
  },
  {
   "cell_type": "code",
   "execution_count": 14,
   "metadata": {},
   "outputs": [
    {
     "name": "stdout",
     "output_type": "stream",
     "text": [
      "[[ 1  2  3]\n",
      " [ 7  5  2]\n",
      " [10  1  8]\n",
      " [ 6  3  4]]\n",
      "[array([False,  True,  True,  True])]\n",
      "[[ 7  5  2]\n",
      " [10  1  8]\n",
      " [ 6  3  4]]\n"
     ]
    }
   ],
   "source": [
    "print(arr)\n",
    "\n",
    "print([arr[:,0]>5])\n",
    "\n",
    "print(arr[ arr[:,0] > 5 ])"
   ]
  },
  {
   "cell_type": "markdown",
   "metadata": {},
   "source": [
    "#### 2차원 추가 수정 삭제 정렬"
   ]
  },
  {
   "cell_type": "markdown",
   "metadata": {},
   "source": [
    "### 추가"
   ]
  },
  {
   "cell_type": "code",
   "execution_count": 34,
   "metadata": {},
   "outputs": [],
   "source": [
    "ax = np.array( [[1,2],[3,4]])\n",
    "ay = np.array( [[5,6],[7,8]])"
   ]
  },
  {
   "cell_type": "code",
   "execution_count": 35,
   "metadata": {},
   "outputs": [
    {
     "data": {
      "text/plain": [
       "array([1, 2, 3, 4, 5, 6, 7, 8])"
      ]
     },
     "execution_count": 35,
     "metadata": {},
     "output_type": "execute_result"
    }
   ],
   "source": [
    "np.append( ax, ay) # axis=None 1차원으로 계산"
   ]
  },
  {
   "cell_type": "code",
   "execution_count": 36,
   "metadata": {},
   "outputs": [
    {
     "data": {
      "text/plain": [
       "array([[1, 2],\n",
       "       [3, 4],\n",
       "       [5, 6],\n",
       "       [7, 8]])"
      ]
     },
     "execution_count": 36,
     "metadata": {},
     "output_type": "execute_result"
    }
   ],
   "source": [
    "np.append( ax, ay, axis=0) #행으로 추가"
   ]
  },
  {
   "cell_type": "code",
   "execution_count": 40,
   "metadata": {},
   "outputs": [
    {
     "data": {
      "text/plain": [
       "array([[1, 2],\n",
       "       [3, 4],\n",
       "       [5, 6],\n",
       "       [7, 8]])"
      ]
     },
     "execution_count": 40,
     "metadata": {},
     "output_type": "execute_result"
    }
   ],
   "source": [
    "np.vstack((ax,ay))"
   ]
  },
  {
   "cell_type": "code",
   "execution_count": 37,
   "metadata": {},
   "outputs": [
    {
     "data": {
      "text/plain": [
       "array([[1, 2, 5, 6],\n",
       "       [3, 4, 7, 8]])"
      ]
     },
     "execution_count": 37,
     "metadata": {},
     "output_type": "execute_result"
    }
   ],
   "source": [
    "np.append( ax, ay, axis=1) #열로 추가"
   ]
  },
  {
   "cell_type": "code",
   "execution_count": 41,
   "metadata": {},
   "outputs": [
    {
     "data": {
      "text/plain": [
       "array([[1, 2, 5, 6],\n",
       "       [3, 4, 7, 8]])"
      ]
     },
     "execution_count": 41,
     "metadata": {},
     "output_type": "execute_result"
    }
   ],
   "source": [
    "np.hstack((ax,ay))"
   ]
  },
  {
   "cell_type": "markdown",
   "metadata": {},
   "source": [
    "### 삭제"
   ]
  },
  {
   "cell_type": "code",
   "execution_count": 42,
   "metadata": {},
   "outputs": [
    {
     "data": {
      "text/plain": [
       "array([ 2,  7,  5,  2, 10,  1,  8,  6,  3,  4])"
      ]
     },
     "execution_count": 42,
     "metadata": {},
     "output_type": "execute_result"
    }
   ],
   "source": [
    "np.delete( arr, [0,2] )"
   ]
  },
  {
   "cell_type": "code",
   "execution_count": 16,
   "metadata": {},
   "outputs": [
    {
     "name": "stdout",
     "output_type": "stream",
     "text": [
      "[[ 1  2  3]\n",
      " [ 7  5  2]\n",
      " [10  1  8]\n",
      " [ 6  3  4]]\n"
     ]
    },
    {
     "data": {
      "text/plain": [
       "array([[7, 5, 2],\n",
       "       [6, 3, 4]])"
      ]
     },
     "execution_count": 16,
     "metadata": {},
     "output_type": "execute_result"
    }
   ],
   "source": [
    "print(arr)\n",
    "np.delete( arr, [0,2], axis=0 ) #행인덱스"
   ]
  },
  {
   "cell_type": "code",
   "execution_count": 15,
   "metadata": {},
   "outputs": [
    {
     "name": "stdout",
     "output_type": "stream",
     "text": [
      "[[ 1  2  3]\n",
      " [ 7  5  2]\n",
      " [10  1  8]\n",
      " [ 6  3  4]]\n"
     ]
    },
    {
     "data": {
      "text/plain": [
       "array([[2],\n",
       "       [5],\n",
       "       [1],\n",
       "       [3]])"
      ]
     },
     "execution_count": 15,
     "metadata": {},
     "output_type": "execute_result"
    }
   ],
   "source": [
    "print(arr)\n",
    "np.delete( arr, [0,2], axis=1 ) #컬럼인덱스"
   ]
  },
  {
   "cell_type": "markdown",
   "metadata": {},
   "source": [
    "#### 정렬"
   ]
  },
  {
   "cell_type": "code",
   "execution_count": 46,
   "metadata": {},
   "outputs": [
    {
     "data": {
      "text/plain": [
       "array([ 1,  1,  2,  2,  3,  3,  4,  5,  6,  7,  8, 10])"
      ]
     },
     "execution_count": 46,
     "metadata": {},
     "output_type": "execute_result"
    }
   ],
   "source": [
    "np.sort( arr , axis=None )"
   ]
  },
  {
   "cell_type": "code",
   "execution_count": 18,
   "metadata": {},
   "outputs": [
    {
     "name": "stdout",
     "output_type": "stream",
     "text": [
      "[[ 1  2  3]\n",
      " [ 7  5  2]\n",
      " [10  1  8]\n",
      " [ 6  3  4]]\n"
     ]
    },
    {
     "data": {
      "text/plain": [
       "array([[ 1,  1,  2],\n",
       "       [ 6,  2,  3],\n",
       "       [ 7,  3,  4],\n",
       "       [10,  5,  8]])"
      ]
     },
     "execution_count": 18,
     "metadata": {},
     "output_type": "execute_result"
    }
   ],
   "source": [
    "print(arr)\n",
    "np.sort( arr , axis=0 ) #컬럼별 정렬"
   ]
  },
  {
   "cell_type": "code",
   "execution_count": 17,
   "metadata": {},
   "outputs": [
    {
     "name": "stdout",
     "output_type": "stream",
     "text": [
      "[[ 1  2  3]\n",
      " [ 7  5  2]\n",
      " [10  1  8]\n",
      " [ 6  3  4]]\n"
     ]
    },
    {
     "data": {
      "text/plain": [
       "array([[ 1,  2,  3],\n",
       "       [ 2,  5,  7],\n",
       "       [ 1,  8, 10],\n",
       "       [ 3,  4,  6]])"
      ]
     },
     "execution_count": 17,
     "metadata": {},
     "output_type": "execute_result"
    }
   ],
   "source": [
    "print(arr)\n",
    "np.sort( arr , axis=1 ) #행별 정렬"
   ]
  },
  {
   "cell_type": "markdown",
   "metadata": {},
   "source": [
    "2차원통계\n",
    "- 디폴트 axis=None ==> 1차원의 통계\n",
    "- axis=0 ==>컬럼별 통계값\n",
    "- axis=1 => row별 통계값"
   ]
  },
  {
   "cell_type": "code",
   "execution_count": 51,
   "metadata": {},
   "outputs": [
    {
     "data": {
      "text/plain": [
       "52"
      ]
     },
     "execution_count": 51,
     "metadata": {},
     "output_type": "execute_result"
    }
   ],
   "source": [
    "arr.sum() # np.sum(arr)"
   ]
  },
  {
   "cell_type": "code",
   "execution_count": 52,
   "metadata": {},
   "outputs": [
    {
     "data": {
      "text/plain": [
       "array([24, 11, 17])"
      ]
     },
     "execution_count": 52,
     "metadata": {},
     "output_type": "execute_result"
    }
   ],
   "source": [
    "arr.sum(axis=0) # np.sum(arr, axis=0)"
   ]
  },
  {
   "cell_type": "code",
   "execution_count": 53,
   "metadata": {},
   "outputs": [
    {
     "data": {
      "text/plain": [
       "array([ 6, 14, 19, 13])"
      ]
     },
     "execution_count": 53,
     "metadata": {},
     "output_type": "execute_result"
    }
   ],
   "source": [
    "arr.sum(axis=1) # np.sum(arr, axis=1)"
   ]
  },
  {
   "cell_type": "code",
   "execution_count": 54,
   "metadata": {},
   "outputs": [
    {
     "data": {
      "text/plain": [
       "4.333333333333333"
      ]
     },
     "execution_count": 54,
     "metadata": {},
     "output_type": "execute_result"
    }
   ],
   "source": [
    "arr.mean()"
   ]
  },
  {
   "cell_type": "code",
   "execution_count": 55,
   "metadata": {},
   "outputs": [
    {
     "data": {
      "text/plain": [
       "array([6.  , 2.75, 4.25])"
      ]
     },
     "execution_count": 55,
     "metadata": {},
     "output_type": "execute_result"
    }
   ],
   "source": [
    "arr.mean(axis=0)"
   ]
  },
  {
   "cell_type": "code",
   "execution_count": 56,
   "metadata": {},
   "outputs": [
    {
     "data": {
      "text/plain": [
       "array([2.        , 4.66666667, 6.33333333, 4.33333333])"
      ]
     },
     "execution_count": 56,
     "metadata": {},
     "output_type": "execute_result"
    }
   ],
   "source": [
    "arr.mean(axis=1)"
   ]
  },
  {
   "cell_type": "code",
   "execution_count": 57,
   "metadata": {},
   "outputs": [
    {
     "data": {
      "text/plain": [
       "10"
      ]
     },
     "execution_count": 57,
     "metadata": {},
     "output_type": "execute_result"
    }
   ],
   "source": [
    "arr.max()"
   ]
  },
  {
   "cell_type": "code",
   "execution_count": 58,
   "metadata": {},
   "outputs": [
    {
     "data": {
      "text/plain": [
       "array([10,  5,  8])"
      ]
     },
     "execution_count": 58,
     "metadata": {},
     "output_type": "execute_result"
    }
   ],
   "source": [
    "arr.max(axis=0)"
   ]
  },
  {
   "cell_type": "code",
   "execution_count": 59,
   "metadata": {},
   "outputs": [
    {
     "data": {
      "text/plain": [
       "6"
      ]
     },
     "execution_count": 59,
     "metadata": {},
     "output_type": "execute_result"
    }
   ],
   "source": [
    "arr.argmax()"
   ]
  },
  {
   "cell_type": "code",
   "execution_count": 60,
   "metadata": {},
   "outputs": [
    {
     "data": {
      "text/plain": [
       "array([2, 1, 2])"
      ]
     },
     "execution_count": 60,
     "metadata": {},
     "output_type": "execute_result"
    }
   ],
   "source": [
    "arr.argmax(axis=0)"
   ]
  },
  {
   "cell_type": "code",
   "execution_count": 61,
   "metadata": {},
   "outputs": [
    {
     "data": {
      "text/plain": [
       "array([2, 0, 0, 0])"
      ]
     },
     "execution_count": 61,
     "metadata": {},
     "output_type": "execute_result"
    }
   ],
   "source": [
    "arr.argmax(axis=1) # ***** 인공지능 많이 사용"
   ]
  },
  {
   "cell_type": "code",
   "execution_count": 62,
   "metadata": {},
   "outputs": [
    {
     "name": "stdout",
     "output_type": "stream",
     "text": [
      "[1 2 3]\n",
      "[7 5 2]\n",
      "[10  1  8]\n",
      "[6 3 4]\n"
     ]
    }
   ],
   "source": [
    "for n in arr:\n",
    "    print( n )"
   ]
  },
  {
   "cell_type": "code",
   "execution_count": 63,
   "metadata": {},
   "outputs": [
    {
     "name": "stdout",
     "output_type": "stream",
     "text": [
      "1 2 3\n",
      "7 5 2\n",
      "10 1 8\n",
      "6 3 4\n"
     ]
    }
   ],
   "source": [
    "for a,b,c in arr:\n",
    "    print(a,b,c )"
   ]
  },
  {
   "cell_type": "code",
   "execution_count": 50,
   "metadata": {},
   "outputs": [
    {
     "data": {
      "text/plain": [
       "array([[ 1,  2,  3],\n",
       "       [ 7,  5,  2],\n",
       "       [10,  1,  8],\n",
       "       [ 6,  3,  4]])"
      ]
     },
     "execution_count": 50,
     "metadata": {},
     "output_type": "execute_result"
    }
   ],
   "source": [
    "arr"
   ]
  },
  {
   "cell_type": "code",
   "execution_count": 49,
   "metadata": {},
   "outputs": [
    {
     "data": {
      "text/plain": [
       "array([[ 1,  2,  3],\n",
       "       [ 7,  5,  2],\n",
       "       [10,  1,  8],\n",
       "       [ 6,  3,  4]])"
      ]
     },
     "execution_count": 49,
     "metadata": {},
     "output_type": "execute_result"
    }
   ],
   "source": [
    "arr = np.array( [ [1,2,3],[7,5,2],[10,1,8],[6,3,4] ] )\n",
    "arr"
   ]
  },
  {
   "cell_type": "code",
   "execution_count": 7,
   "metadata": {},
   "outputs": [
    {
     "data": {
      "text/plain": [
       "array([[   1880,   90993,  110491],\n",
       "       [   1881,   91954,  100745],\n",
       "       [   1882,  107850,  113688],\n",
       "       [   1883,  112321,  104629],\n",
       "       [   1884,  129022,  114445],\n",
       "       [   1885,  133055,  107800],\n",
       "       [   1886,  144535,  110784],\n",
       "       [   1887,  145982,  101414],\n",
       "       [   1888,  178627,  120853],\n",
       "       [   1889,  178366,  110584],\n",
       "       [   1890,  190377,  111025],\n",
       "       [   1891,  185482,  101196],\n",
       "       [   1892,  212346,  122037],\n",
       "       [   1893,  212906,  112317],\n",
       "       [   1894,  222922,  115772],\n",
       "       [   1895,  233630,  117398],\n",
       "       [   1896,  237920,  119570],\n",
       "       [   1897,  234202,  112758],\n",
       "       [   1898,  258770,  122693],\n",
       "       [   1899,  233023,  106212],\n",
       "       [   1900,  299828,  150499],\n",
       "       [   1901,  239348,  106471],\n",
       "       [   1902,  264077,  122659],\n",
       "       [   1903,  261973,  119234],\n",
       "       [   1904,  275371,  128125],\n",
       "       [   1905,  291629,  132319],\n",
       "       [   1906,  295303,  133159],\n",
       "       [   1907,  318566,  146833],\n",
       "       [   1908,  334313,  154344],\n",
       "       [   1909,  347228,  163999],\n",
       "       [   1910,  396501,  194218],\n",
       "       [   1911,  418299,  225968],\n",
       "       [   1912,  558103,  429945],\n",
       "       [   1913,  624518,  512557],\n",
       "       [   1914,  761548,  654762],\n",
       "       [   1915,  983874,  848603],\n",
       "       [   1916, 1044323,  890099],\n",
       "       [   1917, 1081280,  925511],\n",
       "       [   1918, 1157647, 1013537],\n",
       "       [   1919, 1130145,  980149],\n",
       "       [   1920, 1198283, 1064463],\n",
       "       [   1921, 1232999, 1101457],\n",
       "       [   1922, 1200919, 1088287],\n",
       "       [   1923, 1206330, 1096168],\n",
       "       [   1924, 1248876, 1132751],\n",
       "       [   1925, 1217352, 1115958],\n",
       "       [   1926, 1185304, 1110505],\n",
       "       [   1927, 1192330, 1126717],\n",
       "       [   1928, 1153117, 1107518],\n",
       "       [   1929, 1116422, 1075313],\n",
       "       [   1930, 1125761, 1097176],\n",
       "       [   1931, 1064497, 1039127],\n",
       "       [   1932, 1066994, 1043808],\n",
       "       [   1933, 1007710,  991127],\n",
       "       [   1934, 1044039, 1032291],\n",
       "       [   1935, 1048428, 1040930],\n",
       "       [   1936, 1040202, 1036974],\n",
       "       [   1937, 1063872, 1066309],\n",
       "       [   1938, 1103277, 1108841],\n",
       "       [   1939, 1096518, 1106544],\n",
       "       [   1940, 1143325, 1158900],\n",
       "       [   1941, 1207919, 1227941],\n",
       "       [   1942, 1350545, 1380774],\n",
       "       [   1943, 1395082, 1426846],\n",
       "       [   1944, 1327104, 1362555],\n",
       "       [   1945, 1307028, 1345610],\n",
       "       [   1946, 1571184, 1623650],\n",
       "       [   1947, 1772644, 1829223],\n",
       "       [   1948, 1697814, 1754469],\n",
       "       [   1949, 1710825, 1773725],\n",
       "       [   1950, 1713180, 1790673],\n",
       "       [   1951, 1800042, 1881080],\n",
       "       [   1952, 1854698, 1944277],\n",
       "       [   1953, 1880326, 1969777],\n",
       "       [   1954, 1941682, 2037374],\n",
       "       [   1955, 1954664, 2057918],\n",
       "       [   1956, 2007512, 2113694],\n",
       "       [   1957, 2044160, 2155866],\n",
       "       [   1958, 2010884, 2120712],\n",
       "       [   1959, 2023044, 2133509],\n",
       "       [   1960, 2022093, 2132717],\n",
       "       [   1961, 2017316, 2122502],\n",
       "       [   1962, 1966548, 2068945],\n",
       "       [   1963, 1927217, 2031755],\n",
       "       [   1964, 1894594, 1993270],\n",
       "       [   1965, 1765001, 1861378],\n",
       "       [   1966, 1691868, 1783964],\n",
       "       [   1967, 1650764, 1744527],\n",
       "       [   1968, 1640103, 1738928],\n",
       "       [   1969, 1686947, 1789732],\n",
       "       [   1970, 1748147, 1859594],\n",
       "       [   1971, 1663475, 1769201],\n",
       "       [   1972, 1521185, 1622666],\n",
       "       [   1973, 1458139, 1559338],\n",
       "       [   1974, 1467413, 1573105],\n",
       "       [   1975, 1457699, 1562207],\n",
       "       [   1976, 1465096, 1569904],\n",
       "       [   1977, 1532997, 1643684],\n",
       "       [   1978, 1531658, 1642250],\n",
       "       [   1979, 1605051, 1721947],\n",
       "       [   1980, 1659933, 1783876],\n",
       "       [   1981, 1667465, 1790907],\n",
       "       [   1982, 1692678, 1813970],\n",
       "       [   1983, 1670061, 1791732],\n",
       "       [   1984, 1682973, 1803830],\n",
       "       [   1985, 1720036, 1847032],\n",
       "       [   1986, 1714664, 1840164],\n",
       "       [   1987, 1737891, 1865662],\n",
       "       [   1988, 1779839, 1912602],\n",
       "       [   1989, 1843105, 1999999],\n",
       "       [   1990, 1897709, 2052543],\n",
       "       [   1991, 1874434, 2019463],\n",
       "       [   1992, 1843304, 1996388],\n",
       "       [   1993, 1808379, 1960397],\n",
       "       [   1994, 1785074, 1931157],\n",
       "       [   1995, 1757927, 1902832],\n",
       "       [   1996, 1752249, 1893378],\n",
       "       [   1997, 1739806, 1884122],\n",
       "       [   1998, 1765915, 1910250],\n",
       "       [   1999, 1772632, 1918809],\n",
       "       [   2000, 1814601, 1962406],\n",
       "       [   2001, 1799049, 1941251],\n",
       "       [   2002, 1795206, 1939815],\n",
       "       [   2003, 1825359, 1973434],\n",
       "       [   2004, 1834145, 1982794],\n",
       "       [   2005, 1845379, 1994841],\n",
       "       [   2006, 1898463, 2052377],\n",
       "       [   2007, 1919408, 2072139],\n",
       "       [   2008, 1887234, 2036289],\n",
       "       [   2009, 1832925, 1979303],\n",
       "       [   2010, 1772738, 1913851],\n",
       "       [   2011, 1753500, 1893230]], dtype=int64)"
      ]
     },
     "execution_count": 7,
     "metadata": {},
     "output_type": "execute_result"
    }
   ],
   "source": [
    "birth = np.loadtxt('data/births.txt',delimiter=',', dtype=np.int64)\n",
    "birth"
   ]
  },
  {
   "cell_type": "code",
   "execution_count": null,
   "metadata": {},
   "outputs": [],
   "source": [
    "미국에서 태어난 년도 ,남아수"
   ]
  },
  {
   "cell_type": "code",
   "execution_count": 65,
   "metadata": {},
   "outputs": [
    {
     "data": {
      "text/plain": [
       "(132, 3)"
      ]
     },
     "execution_count": 65,
     "metadata": {},
     "output_type": "execute_result"
    }
   ],
   "source": [
    "birth.shape"
   ]
  }
 ],
 "metadata": {
  "kernelspec": {
   "display_name": "Python 3 (ipykernel)",
   "language": "python",
   "name": "python3"
  },
  "language_info": {
   "codemirror_mode": {
    "name": "ipython",
    "version": 3
   },
   "file_extension": ".py",
   "mimetype": "text/x-python",
   "name": "python",
   "nbconvert_exporter": "python",
   "pygments_lexer": "ipython3",
   "version": "3.9.7"
  }
 },
 "nbformat": 4,
 "nbformat_minor": 4
}
