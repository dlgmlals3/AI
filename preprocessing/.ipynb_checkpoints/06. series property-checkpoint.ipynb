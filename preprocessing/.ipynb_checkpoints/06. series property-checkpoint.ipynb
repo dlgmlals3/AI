{
 "cells": [
  {
   "cell_type": "code",
   "execution_count": 29,
   "id": "e87767a9",
   "metadata": {},
   "outputs": [],
   "source": [
    "import pandas as pd\n",
    "import numpy as np\n",
    "d1 = [10,20,30,40,50]\n",
    "d2 = (10, 20, 30, 40, 50)\n",
    "d3 = {'aa':10, 'bb':20, 'cc':30, 'dd':40, 'ee':50}"
   ]
  },
  {
   "cell_type": "code",
   "execution_count": 21,
   "id": "8091a6cb",
   "metadata": {},
   "outputs": [
    {
     "name": "stdout",
     "output_type": "stream",
     "text": [
      "int64\n",
      "(4,)\n",
      "1\n",
      "4\n",
      "4\n",
      "Index(['a', 'b', 'c', 'd'], dtype='object')\n"
     ]
    }
   ],
   "source": [
    "sr = pd.Series(d1, index = ['a', 'b', 'c', 'd'], name = \"국어점수\")\n",
    "\n",
    "print(sr.dtype) # type\n",
    "print(sr.shape) # row, column count\n",
    "print(sr.ndim) # dimension\n",
    "print(sr.size) # count of data\n",
    "print(len(sr)) # count of data\n",
    "print(sr.index)"
   ]
  },
  {
   "cell_type": "code",
   "execution_count": 18,
   "id": "b7470ec2",
   "metadata": {},
   "outputs": [
    {
     "data": {
      "text/plain": [
       "array([10, 20, 30, 40], dtype=int64)"
      ]
     },
     "execution_count": 18,
     "metadata": {},
     "output_type": "execute_result"
    }
   ],
   "source": [
    "# sr.values.ndarray 속성 또는 메소드 numpy array\n",
    "sr.values"
   ]
  },
  {
   "cell_type": "code",
   "execution_count": 22,
   "id": "6952f016",
   "metadata": {},
   "outputs": [
    {
     "name": "stdout",
     "output_type": "stream",
     "text": [
      "100\n",
      "국어점수\n"
     ]
    }
   ],
   "source": [
    "print(sr.values.sum())\n",
    "print(sr.name)\n"
   ]
  },
  {
   "cell_type": "code",
   "execution_count": 31,
   "id": "5ee3a479",
   "metadata": {},
   "outputs": [
    {
     "name": "stdout",
     "output_type": "stream",
     "text": [
      "10\n",
      "50\n",
      "50\n"
     ]
    }
   ],
   "source": [
    "sr = pd.Series(d1, index = ['aa', 'bb', 'cc', 'dd', 'ee'], name = \"국어점수\")\n",
    "print(sr[0])\n",
    "print(sr[-1])\n",
    "print(sr['ee'])"
   ]
  },
  {
   "cell_type": "markdown",
   "id": "a28d338c",
   "metadata": {},
   "source": [
    "### 복수개의 인덱스"
   ]
  },
  {
   "cell_type": "code",
   "execution_count": 32,
   "id": "bee0449a",
   "metadata": {},
   "outputs": [
    {
     "data": {
      "text/plain": [
       "aa    10\n",
       "cc    30\n",
       "dd    40\n",
       "Name: 국어점수, dtype: int64"
      ]
     },
     "execution_count": 32,
     "metadata": {},
     "output_type": "execute_result"
    }
   ],
   "source": [
    "sr[[0, 2, 3]]"
   ]
  },
  {
   "cell_type": "code",
   "execution_count": 34,
   "id": "e2f16a56",
   "metadata": {},
   "outputs": [
    {
     "data": {
      "text/plain": [
       "aa    10\n",
       "dd    40\n",
       "ee    50\n",
       "Name: 국어점수, dtype: int64"
      ]
     },
     "execution_count": 34,
     "metadata": {},
     "output_type": "execute_result"
    }
   ],
   "source": [
    "sr[['aa', 'dd', 'ee']]\n"
   ]
  },
  {
   "cell_type": "markdown",
   "id": "a04f8bec",
   "metadata": {},
   "source": [
    "### slicing\n",
    "- zero base slicing [startIndex : endIndex : increment] startIndex <= index < endIndex\n",
    "- 부여된 index"
   ]
  },
  {
   "cell_type": "code",
   "execution_count": 36,
   "id": "3be2500e",
   "metadata": {},
   "outputs": [
    {
     "data": {
      "text/plain": [
       "bb    20\n",
       "cc    30\n",
       "dd    40\n",
       "Name: 국어점수, dtype: int64"
      ]
     },
     "execution_count": 36,
     "metadata": {},
     "output_type": "execute_result"
    }
   ],
   "source": [
    "sr[1:4:1]"
   ]
  },
  {
   "cell_type": "code",
   "execution_count": 37,
   "id": "07c6a3bd",
   "metadata": {},
   "outputs": [
    {
     "data": {
      "text/plain": [
       "aa    10\n",
       "bb    20\n",
       "cc    30\n",
       "dd    40\n",
       "Name: 국어점수, dtype: int64"
      ]
     },
     "execution_count": 37,
     "metadata": {},
     "output_type": "execute_result"
    }
   ],
   "source": [
    "sr[:-1]"
   ]
  },
  {
   "cell_type": "code",
   "execution_count": 39,
   "id": "62a07654",
   "metadata": {},
   "outputs": [
    {
     "data": {
      "text/plain": [
       "aa    10\n",
       "bb    20\n",
       "cc    30\n",
       "Name: 국어점수, dtype: int64"
      ]
     },
     "execution_count": 39,
     "metadata": {},
     "output_type": "execute_result"
    }
   ],
   "source": [
    "# 부여된 인덱스는 including last index\n",
    "sr['aa':'cc']"
   ]
  },
  {
   "cell_type": "markdown",
   "id": "76247758",
   "metadata": {},
   "source": [
    "iloc 속성 (zero base 고정)"
   ]
  },
  {
   "cell_type": "code",
   "execution_count": 42,
   "id": "88478b3b",
   "metadata": {},
   "outputs": [
    {
     "data": {
      "text/plain": [
       "bb    20\n",
       "cc    30\n",
       "dd    40\n",
       "Name: 국어점수, dtype: int64"
      ]
     },
     "execution_count": 42,
     "metadata": {},
     "output_type": "execute_result"
    }
   ],
   "source": [
    "sr.iloc[0]\n",
    "# sr.iloc['aa'] # error\n",
    "sr.iloc[1:4] # 123"
   ]
  },
  {
   "cell_type": "code",
   "execution_count": 46,
   "id": "d6252709",
   "metadata": {},
   "outputs": [
    {
     "data": {
      "text/plain": [
       "bb    20\n",
       "dd    40\n",
       "ee    50\n",
       "Name: 국어점수, dtype: int64"
      ]
     },
     "execution_count": 46,
     "metadata": {},
     "output_type": "execute_result"
    }
   ],
   "source": [
    "sr.iloc[[1,3,4]]"
   ]
  },
  {
   "cell_type": "markdown",
   "id": "08379728",
   "metadata": {},
   "source": [
    "# loc 속성 (부여된 index 기준)"
   ]
  },
  {
   "cell_type": "code",
   "execution_count": 49,
   "id": "f2f1c549",
   "metadata": {},
   "outputs": [
    {
     "data": {
      "text/plain": [
       "aa    10\n",
       "bb    20\n",
       "cc    30\n",
       "dd    40\n",
       "ee    50\n",
       "Name: 국어점수, dtype: int64"
      ]
     },
     "execution_count": 49,
     "metadata": {},
     "output_type": "execute_result"
    }
   ],
   "source": [
    "# sr.loc[0] # error\n",
    "sr"
   ]
  },
  {
   "cell_type": "code",
   "execution_count": 50,
   "id": "b0484779",
   "metadata": {},
   "outputs": [
    {
     "data": {
      "text/plain": [
       "bb    20\n",
       "cc    30\n",
       "dd    40\n",
       "Name: 국어점수, dtype: int64"
      ]
     },
     "execution_count": 50,
     "metadata": {},
     "output_type": "execute_result"
    }
   ],
   "source": [
    "sr.loc['bb':'dd']"
   ]
  },
  {
   "cell_type": "code",
   "execution_count": 51,
   "id": "436baad3",
   "metadata": {},
   "outputs": [
    {
     "data": {
      "text/plain": [
       "aa    10\n",
       "cc    30\n",
       "dd    40\n",
       "Name: 국어점수, dtype: int64"
      ]
     },
     "execution_count": 51,
     "metadata": {},
     "output_type": "execute_result"
    }
   ],
   "source": [
    "sr.loc[['aa', 'cc', 'dd']]"
   ]
  },
  {
   "cell_type": "markdown",
   "id": "be12ead9",
   "metadata": {},
   "source": [
    "### loc, iloc 속성이 따로 있는 이유\n",
    "- index가 숫자면 부여된 inex로 자동 고정"
   ]
  },
  {
   "cell_type": "code",
   "execution_count": 66,
   "id": "d70067d1",
   "metadata": {},
   "outputs": [
    {
     "name": "stdout",
     "output_type": "stream",
     "text": [
      "2    10\n",
      "3    20\n",
      "4    30\n",
      "5    40\n",
      "6    50\n",
      "Name: 국어점수, dtype: int64\n",
      "10\n",
      "\n",
      "\n",
      "30\n",
      "\n",
      "\n",
      "10\n"
     ]
    }
   ],
   "source": [
    "sr.index = [2,3,4,5,6]\n",
    "print(sr)\n",
    "print(sr[2])\n",
    "# sr[-1] : -1이라는 인덱스가 없어서 에러\n",
    "print('\\n')\n",
    "print(sr.iloc[2]) # 제로 베이스\n",
    "print('\\n')\n",
    "print(sr.loc[2]) # 부여된 인덱스\n"
   ]
  },
  {
   "cell_type": "code",
   "execution_count": 73,
   "id": "3c50b617",
   "metadata": {},
   "outputs": [
    {
     "name": "stdout",
     "output_type": "stream",
     "text": [
      "2    10\n",
      "3    20\n",
      "4    30\n",
      "5    40\n",
      "6    50\n",
      "Name: 국어점수, dtype: int64\n",
      "0 base\n",
      "\n",
      "\n",
      "4    30\n",
      "5    40\n",
      "Name: 국어점수, dtype: int64\n",
      "\n",
      "\n",
      "부여된 index\n",
      "2    10\n",
      "3    20\n",
      "4    30\n",
      "Name: 국어점수, dtype: int64\n"
     ]
    }
   ],
   "source": [
    "print(sr)\n",
    "print('0 base')\n",
    "print('\\n')\n",
    "print(sr.iloc[2:4])\n",
    "print('\\n')\n",
    "print('부여된 index')\n",
    "print(sr.loc[2:4])"
   ]
  },
  {
   "cell_type": "markdown",
   "id": "bf2c072c",
   "metadata": {},
   "source": [
    "###  연산\n",
    "- 산술, 관계, 논리\n",
    "- element wise"
   ]
  },
  {
   "cell_type": "code",
   "execution_count": 76,
   "id": "72db4f91",
   "metadata": {},
   "outputs": [
    {
     "data": {
      "text/plain": [
       "2    12\n",
       "3    22\n",
       "4    32\n",
       "5    42\n",
       "6    52\n",
       "Name: 국어점수, dtype: int64"
      ]
     },
     "execution_count": 76,
     "metadata": {},
     "output_type": "execute_result"
    }
   ],
   "source": [
    "sr + 2"
   ]
  },
  {
   "cell_type": "code",
   "execution_count": 78,
   "id": "087eab41",
   "metadata": {},
   "outputs": [
    {
     "name": "stdout",
     "output_type": "stream",
     "text": [
      "0    1000\n",
      "1    2000\n",
      "2    3000\n",
      "3    4000\n",
      "dtype: int64\n"
     ]
    }
   ],
   "source": [
    "salary = pd.Series([1000, 2000, 3000, 4000])\n",
    "salary*(1-0.033)\n",
    "print(salary)"
   ]
  },
  {
   "cell_type": "code",
   "execution_count": 79,
   "id": "14fa531e",
   "metadata": {},
   "outputs": [
    {
     "data": {
      "text/plain": [
       "4    30\n",
       "5    40\n",
       "6    50\n",
       "Name: 국어점수, dtype: int64"
      ]
     },
     "execution_count": 79,
     "metadata": {},
     "output_type": "execute_result"
    }
   ],
   "source": [
    "sr[sr>=30]"
   ]
  },
  {
   "cell_type": "code",
   "execution_count": 81,
   "id": "883b0aa0",
   "metadata": {},
   "outputs": [
    {
     "data": {
      "text/plain": [
       "3    20\n",
       "5    40\n",
       "Name: 국어점수, dtype: int64"
      ]
     },
     "execution_count": 81,
     "metadata": {},
     "output_type": "execute_result"
    }
   ],
   "source": [
    "sr[(sr == 20) | (sr == 40)]"
   ]
  },
  {
   "cell_type": "code",
   "execution_count": 93,
   "id": "87ca9692",
   "metadata": {},
   "outputs": [
    {
     "data": {
      "text/plain": [
       "3    20\n",
       "4    30\n",
       "5    40\n",
       "Name: 국어점수, dtype: int64"
      ]
     },
     "execution_count": 93,
     "metadata": {},
     "output_type": "execute_result"
    }
   ],
   "source": [
    "sr[(sr>=20) & (sr<=40)]\n",
    "sr[sr.between(20, 40)]"
   ]
  },
  {
   "cell_type": "code",
   "execution_count": 89,
   "id": "1d7ce2b3",
   "metadata": {},
   "outputs": [
    {
     "data": {
      "text/plain": [
       "3    20\n",
       "5    40\n",
       "Name: 국어점수, dtype: int64"
      ]
     },
     "execution_count": 89,
     "metadata": {},
     "output_type": "execute_result"
    }
   ],
   "source": [
    "sr[~((sr==20) | (sr==40))]\n",
    "sr[sr.isin([20, 40])]"
   ]
  },
  {
   "cell_type": "code",
   "execution_count": 87,
   "id": "0051bbb5",
   "metadata": {},
   "outputs": [
    {
     "data": {
      "text/plain": [
       "Series([], Name: 국어점수, dtype: int64)"
      ]
     },
     "execution_count": 87,
     "metadata": {},
     "output_type": "execute_result"
    }
   ],
   "source": [
    "sr[sr.index == 'aa']"
   ]
  },
  {
   "cell_type": "code",
   "execution_count": 91,
   "id": "c256add8",
   "metadata": {},
   "outputs": [
    {
     "data": {
      "text/plain": [
       "2    10\n",
       "4    30\n",
       "Name: 국어점수, dtype: int64"
      ]
     },
     "execution_count": 91,
     "metadata": {},
     "output_type": "execute_result"
    }
   ],
   "source": [
    "sr[~sr.isin([20, 40, 50])]"
   ]
  },
  {
   "cell_type": "code",
   "execution_count": null,
   "id": "c6d86984",
   "metadata": {},
   "outputs": [],
   "source": []
  }
 ],
 "metadata": {
  "kernelspec": {
   "display_name": "Python 3 (ipykernel)",
   "language": "python",
   "name": "python3"
  },
  "language_info": {
   "codemirror_mode": {
    "name": "ipython",
    "version": 3
   },
   "file_extension": ".py",
   "mimetype": "text/x-python",
   "name": "python",
   "nbconvert_exporter": "python",
   "pygments_lexer": "ipython3",
   "version": "3.9.7"
  }
 },
 "nbformat": 4,
 "nbformat_minor": 5
}
