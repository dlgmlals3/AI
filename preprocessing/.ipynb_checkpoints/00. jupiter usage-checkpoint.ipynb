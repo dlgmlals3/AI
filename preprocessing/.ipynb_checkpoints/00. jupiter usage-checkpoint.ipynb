{
 "cells": [
  {
   "cell_type": "code",
   "execution_count": null,
   "metadata": {},
   "outputs": [],
   "source": [
    "- 에디트모드(연두색) : 실행 (ctrl + enter) , tab(자동완성), shift + tab (아규먼트)\n",
    "ctrl + / (주석), esc(커맨드모드 전환), \n",
    "\n",
    "- 커맨드모드(하늘색) : enter(에디트모드), a(위의 셀 추가), b(아래 셀 추가)\n",
    "    , x(셀삭제) , z(삭제복원), o(결과값을 접었다 폈다.), y(코드셀), m(주석셀)"
   ]
  },
  {
   "cell_type": "code",
   "execution_count": 122,
   "metadata": {
    "collapsed": true
   },
   "outputs": [
    {
     "name": "stdout",
     "output_type": "stream",
     "text": [
      "hello\n"
     ]
    }
   ],
   "source": [
    "print('hello')"
   ]
  },
  {
   "cell_type": "code",
   "execution_count": 123,
   "metadata": {
    "collapsed": true
   },
   "outputs": [
    {
     "name": "stdout",
     "output_type": "stream",
     "text": [
      "\n"
     ]
    }
   ],
   "source": [
    "print()"
   ]
  },
  {
   "cell_type": "markdown",
   "metadata": {},
   "source": [
    "# 제목1\n",
    "## 제목2\n",
    "### 제목3"
   ]
  },
  {
   "cell_type": "markdown",
   "metadata": {},
   "source": [
    "이건주석이얌얌 마크다운이얌\n",
    "<h1> 제목4 </h1>"
   ]
  },
  {
   "cell_type": "markdown",
   "metadata": {},
   "source": [
    "print('hello')\n"
   ]
  },
  {
   "cell_type": "code",
   "execution_count": null,
   "metadata": {
    "collapsed": true
   },
   "outputs": [],
   "source": [
    "# 명명규칙  : a-z , A-Z, 0-9, 한글, "
   ]
  },
  {
   "cell_type": "code",
   "execution_count": 21,
   "metadata": {
    "collapsed": true
   },
   "outputs": [],
   "source": [
    "a = 10\n",
    "b = 20\n"
   ]
  },
  {
   "cell_type": "code",
   "execution_count": 18,
   "metadata": {
    "collapsed": true
   },
   "outputs": [
    {
     "name": "stdout",
     "output_type": "stream",
     "text": [
      "10\n"
     ]
    }
   ],
   "source": [
    "print(a)\n",
    "\n"
   ]
  },
  {
   "cell_type": "code",
   "execution_count": null,
   "metadata": {},
   "outputs": [],
   "source": [
    "데이터타입-연산자-제어문-반복문-함수\n"
   ]
  },
  {
   "cell_type": "code",
   "execution_count": 24,
   "metadata": {},
   "outputs": [
    {
     "name": "stdout",
     "output_type": "stream",
     "text": [
      "10\n",
      "123124235235235123123123123123123123\n",
      "<class 'int'>\n",
      "<class 'int'>\n"
     ]
    }
   ],
   "source": [
    "#  데이터 타입 : 정수, 실수, boolean\n",
    "#  데이터 타입 : 문자열, 리스트, 튜플, 딕셔너리\n",
    "\n",
    "#  데이터 타입\n",
    "\n",
    "# \n",
    "a = 10\n",
    "b = 123124235235235123123123123123123123\n",
    "print (a)\n",
    "print (b)\n",
    "print(type(a))\n",
    "print(type(b))"
   ]
  },
  {
   "cell_type": "markdown",
   "metadata": {},
   "source": [
    "## 실수타입"
   ]
  },
  {
   "cell_type": "code",
   "execution_count": 28,
   "metadata": {},
   "outputs": [
    {
     "name": "stdout",
     "output_type": "stream",
     "text": [
      "0.003141592\n",
      "3.14\n",
      "3141.592\n",
      "<class 'float'>\n",
      "<class 'float'>\n"
     ]
    }
   ],
   "source": [
    "f = 3.14\n",
    "g = 3.141592e3\n",
    "h = 3.141592e-3\n",
    "print(h)\n",
    "print(f)\n",
    "print(g)\n",
    "print(type(f))\n",
    "print(type(g))"
   ]
  },
  {
   "cell_type": "markdown",
   "metadata": {},
   "source": [
    "## boolean 타입"
   ]
  },
  {
   "cell_type": "code",
   "execution_count": null,
   "metadata": {},
   "outputs": [],
   "source": [
    "b = True\n",
    "print(b)\n",
    "print(type(b))"
   ]
  },
  {
   "cell_type": "markdown",
   "metadata": {},
   "source": [
    "## 문자열 타입"
   ]
  },
  {
   "cell_type": "code",
   "execution_count": 38,
   "metadata": {},
   "outputs": [
    {
     "name": "stdout",
     "output_type": "stream",
     "text": [
      "abc def\n",
      "abc def\n",
      "abc\n",
      "def\n",
      "abc\n",
      "def\n",
      "<class 'str'>\n",
      "<class 'str'>\n",
      "<class 'str'>\n",
      "<class 'str'>\n"
     ]
    }
   ],
   "source": [
    "s1 = 'abc\\\n",
    "def'\n",
    "s2 = \"abc\\\n",
    "def\"\n",
    "s3 = '''abc\n",
    "def'''\n",
    "s4 = \"\"\"abc\n",
    "def\"\"\"\n",
    "print(s1)\n",
    "print(s2)\n",
    "print(s3)\n",
    "print(s4)\n",
    "print(type(s1))\n",
    "print(type(s2))\n",
    "print(type(s3))\n",
    "print(type(s4))"
   ]
  },
  {
   "cell_type": "markdown",
   "metadata": {},
   "source": [
    "## 리스트 타임"
   ]
  },
  {
   "cell_type": "code",
   "execution_count": 40,
   "metadata": {},
   "outputs": [
    {
     "name": "stdout",
     "output_type": "stream",
     "text": [
      "[10, 20, 30, 40, 50]\n",
      "<class 'list'>\n"
     ]
    }
   ],
   "source": [
    "my = [10, 20, 30, 40, 50] #mutable(추가, 수정, 삭제)\n",
    "print(my)\n",
    "print( type(my))"
   ]
  },
  {
   "cell_type": "markdown",
   "metadata": {},
   "source": [
    "## 튜플 타입"
   ]
  },
  {
   "cell_type": "code",
   "execution_count": 41,
   "metadata": {},
   "outputs": [
    {
     "name": "stdout",
     "output_type": "stream",
     "text": [
      "(10, 20, 30, 40)\n",
      "<class 'tuple'>\n"
     ]
    }
   ],
   "source": [
    "t = (10, 20, 30, 40) #immutable (수정불가)\n",
    "print(t)\n",
    "print(type(t))"
   ]
  },
  {
   "cell_type": "markdown",
   "metadata": {},
   "source": [
    "## 딕셔너리타입"
   ]
  },
  {
   "cell_type": "code",
   "execution_count": 42,
   "metadata": {},
   "outputs": [
    {
     "name": "stdout",
     "output_type": "stream",
     "text": [
      "{'aa': 10, 'bb': 20, 'cc': 30}\n",
      "<class 'dict'>\n"
     ]
    }
   ],
   "source": [
    "d = {'aa':10, 'bb':20, 'cc':30}\n",
    "print(d)\n",
    "print(type(d))"
   ]
  },
  {
   "cell_type": "markdown",
   "metadata": {},
   "source": [
    "### 산술연산자\n",
    "우선순위 <br>\n",
    "1번째 ** <br>\n",
    "2번째 / 몫// 나머지% <br>\n",
    "3번째 + - <br>"
   ]
  },
  {
   "cell_type": "raw",
   "metadata": {},
   "source": [
    "a = 5\n",
    "rst = a // 2\n",
    "kst = a / 2\n",
    "jst = a % 2\n",
    "rst2 = 3+2*2**(4-1)\n",
    "print(rst2)\n",
    "print(rst)\n",
    "print(kst)\n",
    "print(jst)"
   ]
  },
  {
   "cell_type": "markdown",
   "metadata": {},
   "source": [
    "# 관계 연산자 : >, <=, <, <=, ==, !="
   ]
  },
  {
   "cell_type": "code",
   "execution_count": 52,
   "metadata": {},
   "outputs": [
    {
     "name": "stdout",
     "output_type": "stream",
     "text": [
      "True\n"
     ]
    }
   ],
   "source": [
    "a = 5\n",
    "rst = a > 0\n",
    "rst = a==0\n",
    "rst = 0 < a < 10\n",
    "print(rst)\n",
    "\n"
   ]
  },
  {
   "cell_type": "markdown",
   "metadata": {},
   "source": [
    "# 논리연산자 : and, or, not"
   ]
  },
  {
   "cell_type": "code",
   "execution_count": 54,
   "metadata": {},
   "outputs": [
    {
     "name": "stdout",
     "output_type": "stream",
     "text": [
      "False\n"
     ]
    }
   ],
   "source": [
    "a = 5\n",
    "rst = a > 0 and a == 0 # 모두 True : True\n",
    "rst = a > 0 or a == 0 # 모두 false : False\n",
    "rst = not a > 0\n",
    "print(rst)\n"
   ]
  },
  {
   "cell_type": "markdown",
   "metadata": {},
   "source": [
    "### 3항 연산자 : True 인 경우 if 조건 else False 인 경우 값"
   ]
  },
  {
   "cell_type": "markdown",
   "metadata": {},
   "source": [
    "조건 ? True 경우 값 : Flase 인 경우 값"
   ]
  },
  {
   "cell_type": "code",
   "execution_count": 57,
   "metadata": {},
   "outputs": [
    {
     "name": "stdout",
     "output_type": "stream",
     "text": [
      "200\n"
     ]
    }
   ],
   "source": [
    "a = -5\n",
    "rst = 100 if a > 0 else 200 # a > 0 ? 100 : 200\n",
    "print( rst )\n"
   ]
  },
  {
   "cell_type": "markdown",
   "metadata": {},
   "source": [
    "## 제어문"
   ]
  },
  {
   "cell_type": "markdown",
   "metadata": {},
   "source": [
    "- if\n",
    "- switch(지원하지 않음)\n"
   ]
  },
  {
   "cell_type": "code",
   "execution_count": 58,
   "metadata": {},
   "outputs": [
    {
     "name": "stdout",
     "output_type": "stream",
     "text": [
      "크다\n"
     ]
    }
   ],
   "source": [
    "a = 5\n",
    "if a > 0:\n",
    "    print('크다')\n",
    "elif a == 0:\n",
    "    print('같다')\n",
    "else:\n",
    "    print('나머지')"
   ]
  },
  {
   "cell_type": "markdown",
   "metadata": {},
   "source": [
    "반복문\n",
    "- while\n",
    "- for\n",
    "- do~while(지원X)"
   ]
  },
  {
   "cell_type": "code",
   "execution_count": 60,
   "metadata": {},
   "outputs": [
    {
     "name": "stdout",
     "output_type": "stream",
     "text": [
      "1\n",
      "2\n",
      "3\n",
      "4\n",
      "5\n"
     ]
    }
   ],
   "source": [
    "a = 1\n",
    "while a<=5:\n",
    "    print(a)\n",
    "    a += 1"
   ]
  },
  {
   "cell_type": "code",
   "execution_count": 61,
   "metadata": {},
   "outputs": [
    {
     "name": "stdout",
     "output_type": "stream",
     "text": [
      "10\n",
      "20\n",
      "30\n",
      "40\n"
     ]
    }
   ],
   "source": [
    "#for 변수 in 복합 데이터타입\n",
    "for n in [10,20,30,40]:\n",
    "    print(n)"
   ]
  },
  {
   "cell_type": "markdown",
   "metadata": {},
   "source": [
    "### 함수"
   ]
  },
  {
   "cell_type": "code",
   "execution_count": 74,
   "metadata": {},
   "outputs": [
    {
     "name": "stdout",
     "output_type": "stream",
     "text": [
      "(10, 20)\n",
      "fn call\n",
      "8\n",
      "10 20 30\n",
      "100 20 30\n",
      "100 200 30\n",
      "10 1000 30\n"
     ]
    }
   ],
   "source": [
    "def hap(a,b):\n",
    "    return a+b\n",
    "def fn():\n",
    "    print('fn call')\n",
    "def fn1():\n",
    "    return 10,20\n",
    "\n",
    "def fn2(a=10, b=20, c=30):\n",
    "    print(a, b, c)\n",
    "    \n",
    "rst = fn1()\n",
    "print(rst)\n",
    "   \n",
    "fn()\n",
    "print (hap(5, 3))\n",
    "fn2()\n",
    "fn2(100)\n",
    "fn2(100,200)\n",
    "fn2(b=1000)\n"
   ]
  },
  {
   "cell_type": "code",
   "execution_count": 93,
   "metadata": {},
   "outputs": [
    {
     "name": "stdout",
     "output_type": "stream",
     "text": [
      "139767765308864\n",
      "139767765311744\n",
      "139767765308864\n"
     ]
    }
   ],
   "source": [
    "a = 10\n",
    "b = 100\n",
    "print(id(a))\n",
    "print(id(b))\n",
    "c = 10\n",
    "print(id(c))"
   ]
  },
  {
   "cell_type": "code",
   "execution_count": 94,
   "metadata": {},
   "outputs": [
    {
     "name": "stdout",
     "output_type": "stream",
     "text": [
      "139767433614592\n",
      "139767433614592\n"
     ]
    }
   ],
   "source": [
    "my = [10, 20, 30]\n",
    "my1 = my\n",
    "print(id(my))\n",
    "print(id(my1))\n"
   ]
  },
  {
   "cell_type": "code",
   "execution_count": 104,
   "metadata": {},
   "outputs": [
    {
     "name": "stdout",
     "output_type": "stream",
     "text": [
      "200\n",
      "100\n"
     ]
    }
   ],
   "source": [
    "def fn(aa):\n",
    "    aa = 200\n",
    "    # 200이란 새로운 값이 할당되어 aa는 다른 객체를 가르킴\n",
    "    print(aa)\n",
    "    \n",
    "b = 100\n",
    "fn(b)\n",
    "print(b) # b라는 객체는 100을 가르키고 있고 100 출력.\n"
   ]
  },
  {
   "cell_type": "code",
   "execution_count": 125,
   "metadata": {
    "collapsed": true
   },
   "outputs": [
    {
     "name": "stdout",
     "output_type": "stream",
     "text": [
      "[33, 22, 33]\n"
     ]
    }
   ],
   "source": [
    "def fn2(bb):\n",
    "    my[0] = 33\n",
    "    print(bb)\n",
    "    \n",
    "my = [11, 22, 33]\n",
    "fn2(my)"
   ]
  },
  {
   "cell_type": "code",
   "execution_count": 2,
   "metadata": {},
   "outputs": [
    {
     "data": {
      "text/plain": [
       "12"
      ]
     },
     "execution_count": 2,
     "metadata": {},
     "output_type": "execute_result"
    }
   ],
   "source": [
    "import mylib\n",
    "mylib.hab2(3, 4)\n",
    "mylib.gob2(3, 4)"
   ]
  },
  {
   "cell_type": "code",
   "execution_count": 8,
   "metadata": {},
   "outputs": [
    {
     "data": {
      "text/plain": [
       "9"
      ]
     },
     "execution_count": 8,
     "metadata": {},
     "output_type": "execute_result"
    }
   ],
   "source": [
    "import mylib as my\n",
    "my.hab2(3,4)\n",
    "my.hab2(4,5)\n"
   ]
  },
  {
   "cell_type": "code",
   "execution_count": 11,
   "metadata": {},
   "outputs": [
    {
     "name": "stdout",
     "output_type": "stream",
     "text": [
      "7\n"
     ]
    }
   ],
   "source": [
    "from mylib import hab2\n",
    "\n",
    "print(hab2(3,4))"
   ]
  }
 ],
 "metadata": {
  "kernelspec": {
   "display_name": "Python 3 (ipykernel)",
   "language": "python",
   "name": "python3"
  },
  "language_info": {
   "codemirror_mode": {
    "name": "ipython",
    "version": 3
   },
   "file_extension": ".py",
   "mimetype": "text/x-python",
   "name": "python",
   "nbconvert_exporter": "python",
   "pygments_lexer": "ipython3",
   "version": "3.10.2"
  }
 },
 "nbformat": 4,
 "nbformat_minor": 4
}
