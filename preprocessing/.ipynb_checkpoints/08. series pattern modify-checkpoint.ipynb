{
 "cells": [
  {
   "cell_type": "markdown",
   "id": "d3088fc5",
   "metadata": {},
   "source": [
    "### 문자열 데이터 검색(정규식 패턴이용)\n",
    "정규 표현식 메타기호 : .^$*+?{}[]"
   ]
  },
  {
   "cell_type": "code",
   "execution_count": 80,
   "id": "f3444db2",
   "metadata": {
    "scrolled": true
   },
   "outputs": [
    {
     "data": {
      "text/plain": [
       "pandas.core.strings.accessor.StringMethods"
      ]
     },
     "execution_count": 80,
     "metadata": {},
     "output_type": "execute_result"
    }
   ],
   "source": [
    "type(sr.str)"
   ]
  },
  {
   "cell_type": "code",
   "execution_count": 85,
   "id": "2d5e2014",
   "metadata": {},
   "outputs": [
    {
     "data": {
      "text/plain": [
       "cc    김철수\n",
       "dd    김순이\n",
       "ee    이홍김\n",
       "Name: 국어점수, dtype: object"
      ]
     },
     "execution_count": 85,
     "metadata": {},
     "output_type": "execute_result"
    }
   ],
   "source": [
    "sr[sr.str.contains(\"김\")]"
   ]
  },
  {
   "cell_type": "code",
   "execution_count": 87,
   "id": "5fe5ad9b",
   "metadata": {},
   "outputs": [
    {
     "data": {
      "text/plain": [
       "cc    김철수\n",
       "dd    김순이\n",
       "Name: 국어점수, dtype: object"
      ]
     },
     "execution_count": 87,
     "metadata": {},
     "output_type": "execute_result"
    }
   ],
   "source": [
    "sr[sr.str.contains('^김')]"
   ]
  },
  {
   "cell_type": "code",
   "execution_count": 89,
   "id": "99866d94",
   "metadata": {},
   "outputs": [
    {
     "data": {
      "text/plain": [
       "ee    이홍김\n",
       "Name: 국어점수, dtype: object"
      ]
     },
     "execution_count": 89,
     "metadata": {},
     "output_type": "execute_result"
    }
   ],
   "source": [
    "sr[sr.str.contains('김$')] # $ 끝메타기호"
   ]
  },
  {
   "cell_type": "code",
   "execution_count": 90,
   "id": "eae67e6e",
   "metadata": {},
   "outputs": [
    {
     "data": {
      "text/plain": [
       "aa    홍길동\n",
       "bb    이순신\n",
       "dd    김순이\n",
       "ee    이홍김\n",
       "Name: 국어점수, dtype: object"
      ]
     },
     "execution_count": 90,
     "metadata": {},
     "output_type": "execute_result"
    }
   ],
   "source": [
    "sr[sr.str.contains('[홍이]')] # 홍 또는 이 둘중 하나"
   ]
  },
  {
   "cell_type": "code",
   "execution_count": 91,
   "id": "b6ddd5d1",
   "metadata": {},
   "outputs": [
    {
     "data": {
      "text/plain": [
       "bb    이순신\n",
       "Name: 국어점수, dtype: object"
      ]
     },
     "execution_count": 91,
     "metadata": {},
     "output_type": "execute_result"
    }
   ],
   "source": [
    "sr[sr.str.contains('[홍이]순')] # 홍 또는 이 둘중 하나"
   ]
  },
  {
   "cell_type": "code",
   "execution_count": 92,
   "id": "f016e076",
   "metadata": {},
   "outputs": [
    {
     "data": {
      "text/plain": [
       "aa    홍길동\n",
       "dd    김순이\n",
       "ee    이홍김\n",
       "Name: 국어점수, dtype: object"
      ]
     },
     "execution_count": 92,
     "metadata": {},
     "output_type": "execute_result"
    }
   ],
   "source": [
    "sr[sr.str.contains('길동|순이|이홍')]"
   ]
  },
  {
   "cell_type": "code",
   "execution_count": 94,
   "id": "b7f033f9",
   "metadata": {},
   "outputs": [
    {
     "data": {
      "text/plain": [
       "bb    이순신\n",
       "dd    김순이\n",
       "ee    이홍김\n",
       "Name: 국어점수, dtype: object"
      ]
     },
     "execution_count": 94,
     "metadata": {},
     "output_type": "execute_result"
    }
   ],
   "source": [
    "# 이 or 순 1 회이상 반복\n",
    "sr[sr.str.contains('[이순]+')]"
   ]
  },
  {
   "cell_type": "code",
   "execution_count": 96,
   "id": "a2b73589",
   "metadata": {},
   "outputs": [
    {
     "data": {
      "text/plain": [
       "ee    이홍김\n",
       "Name: 국어점수, dtype: object"
      ]
     },
     "execution_count": 96,
     "metadata": {},
     "output_type": "execute_result"
    }
   ],
   "source": [
    "# 한글이 1회 이상 반복 + 김\n",
    "# [a-z] [a-zA-Z]\n",
    "sr[sr.str.contains('[가-힇]+김')]"
   ]
  },
  {
   "cell_type": "markdown",
   "id": "36e1cf8d",
   "metadata": {},
   "source": [
    "# 문자열 바꾸기"
   ]
  },
  {
   "cell_type": "code",
   "execution_count": 100,
   "id": "39c9f97c",
   "metadata": {},
   "outputs": [
    {
     "name": "stdout",
     "output_type": "stream",
     "text": [
      "aa    홍길동\n",
      "bb    이순신\n",
      "cc    김철수\n",
      "dd    김순이\n",
      "ee    이홍김\n",
      "Name: 국어점수, dtype: object \n",
      "\n",
      "aa    홍길동\n",
      "bb    이순신\n",
      "cc    시리즈\n",
      "dd    김순이\n",
      "ee    이홍김\n",
      "Name: 국어점수, dtype: object\n"
     ]
    }
   ],
   "source": [
    "d1 = ['홍길동', '이순신', '김철수', '김순이', '이홍김']\n",
    "sr = pd.Series(d1, index = ['aa', 'bb', 'cc', 'dd', 'ee'], name = \"국어점수\")\n",
    "\n",
    "print(sr, '\\n')\n",
    "sr = sr.replace('김철수', '시리즈')\n",
    "print(sr)"
   ]
  },
  {
   "cell_type": "code",
   "execution_count": 102,
   "id": "67a219d3",
   "metadata": {
    "scrolled": true
   },
   "outputs": [
    {
     "name": "stdout",
     "output_type": "stream",
     "text": [
      "aa    홍길동\n",
      "bb    이순신\n",
      "cc    김철수\n",
      "dd    김순이\n",
      "ee    이홍김\n",
      "Name: 국어점수, dtype: object \n",
      "\n",
      "aa      홍길동\n",
      "bb      이순신\n",
      "cc    시리즈철수\n",
      "dd    시리즈순이\n",
      "ee    이홍시리즈\n",
      "Name: 국어점수, dtype: object\n"
     ]
    }
   ],
   "source": [
    "d1 = ['홍길동', '이순신', '김철수', '김순이', '이홍김']\n",
    "sr = pd.Series(d1, index = ['aa', 'bb', 'cc', 'dd', 'ee'], name = \"국어점수\")\n",
    "print(sr, '\\n')\n",
    "\n",
    "sr = sr.str.replace('김', '시리즈')\n",
    "print(sr)"
   ]
  },
  {
   "cell_type": "code",
   "execution_count": null,
   "id": "7c2d47d9",
   "metadata": {},
   "outputs": [],
   "source": [
    "08. series (search)"
   ]
  }
 ],
 "metadata": {
  "kernelspec": {
   "display_name": "Python 3 (ipykernel)",
   "language": "python",
   "name": "python3"
  },
  "language_info": {
   "codemirror_mode": {
    "name": "ipython",
    "version": 3
   },
   "file_extension": ".py",
   "mimetype": "text/x-python",
   "name": "python",
   "nbconvert_exporter": "python",
   "pygments_lexer": "ipython3",
   "version": "3.9.7"
  }
 },
 "nbformat": 4,
 "nbformat_minor": 5
}
