{
 "cells": [
  {
   "cell_type": "code",
   "execution_count": 5,
   "id": "2bcfd51b",
   "metadata": {},
   "outputs": [
    {
     "name": "stdout",
     "output_type": "stream",
     "text": [
      "aa    10\n",
      "bb    20\n",
      "cc    30\n",
      "dd    40\n",
      "ee    50\n",
      "Name: 국어점수, dtype: int64\n"
     ]
    }
   ],
   "source": [
    "import pandas as pd\n",
    "import numpy as np\n",
    "import matplotlib.pyplot as plt\n",
    "import matplotlib\n",
    "matplotlib.rcParams['font.family'] = 'Malgun Gothic'\n",
    "matplotlib.rcParams['axes.unicode_minus'] = False\n",
    "\n",
    "d1 = [10, 20, 30, 40, 50]\n",
    "sr = pd.Series(d1, index = ['aa', 'bb', 'cc', 'dd', 'ee'], name = \"국어점수\")\n",
    "print(sr)"
   ]
  },
  {
   "cell_type": "code",
   "execution_count": 6,
   "id": "b66e0909",
   "metadata": {},
   "outputs": [
    {
     "data": {
      "text/plain": [
       "150"
      ]
     },
     "execution_count": 6,
     "metadata": {},
     "output_type": "execute_result"
    }
   ],
   "source": [
    "sr.sum()"
   ]
  },
  {
   "cell_type": "code",
   "execution_count": 7,
   "id": "aefcaf8a",
   "metadata": {},
   "outputs": [
    {
     "data": {
      "text/plain": [
       "50"
      ]
     },
     "execution_count": 7,
     "metadata": {},
     "output_type": "execute_result"
    }
   ],
   "source": [
    "sr.max()"
   ]
  },
  {
   "cell_type": "code",
   "execution_count": 8,
   "id": "164d4356",
   "metadata": {},
   "outputs": [
    {
     "data": {
      "text/plain": [
       "10"
      ]
     },
     "execution_count": 8,
     "metadata": {},
     "output_type": "execute_result"
    }
   ],
   "source": [
    "sr.min()"
   ]
  },
  {
   "cell_type": "code",
   "execution_count": 10,
   "id": "87ab4100",
   "metadata": {},
   "outputs": [
    {
     "data": {
      "text/plain": [
       "'ee'"
      ]
     },
     "execution_count": 10,
     "metadata": {},
     "output_type": "execute_result"
    }
   ],
   "source": [
    "# 가장 큰값의 index\n",
    "sr.idxmax() "
   ]
  },
  {
   "cell_type": "code",
   "execution_count": 12,
   "id": "2fdcf4cf",
   "metadata": {},
   "outputs": [
    {
     "data": {
      "text/plain": [
       "40"
      ]
     },
     "execution_count": 12,
     "metadata": {},
     "output_type": "execute_result"
    }
   ],
   "source": [
    "# 45이하인 데이터의 가장 큰값을 구하시오\n",
    "(sr[sr<=45]).max()"
   ]
  },
  {
   "cell_type": "code",
   "execution_count": 17,
   "id": "308069d2",
   "metadata": {},
   "outputs": [
    {
     "data": {
      "text/plain": [
       "cc    30\n",
       "dd    40\n",
       "ee    50\n",
       "Name: 국어점수, dtype: int64"
      ]
     },
     "execution_count": 17,
     "metadata": {},
     "output_type": "execute_result"
    }
   ],
   "source": [
    "sr.tail(3)"
   ]
  },
  {
   "cell_type": "code",
   "execution_count": 21,
   "id": "0f2e8f77",
   "metadata": {},
   "outputs": [
    {
     "data": {
      "text/plain": [
       "ee    50\n",
       "Name: 국어점수, dtype: int64"
      ]
     },
     "execution_count": 21,
     "metadata": {},
     "output_type": "execute_result"
    }
   ],
   "source": [
    "sr.tail(1)"
   ]
  },
  {
   "cell_type": "code",
   "execution_count": 24,
   "id": "0bbb6dbb",
   "metadata": {},
   "outputs": [
    {
     "data": {
      "text/plain": [
       "ee    50\n",
       "dd    40\n",
       "cc    30\n",
       "Name: 국어점수, dtype: int64"
      ]
     },
     "execution_count": 24,
     "metadata": {},
     "output_type": "execute_result"
    }
   ],
   "source": [
    "# top 3 점수\n",
    "sr.nlargest(3)"
   ]
  },
  {
   "cell_type": "code",
   "execution_count": 30,
   "id": "b077c1e3",
   "metadata": {},
   "outputs": [
    {
     "name": "stdout",
     "output_type": "stream",
     "text": [
      "ee    50\n",
      "cc    40\n",
      "Name: 국어점수, dtype: int64 \n",
      "\n",
      "ee    50\n",
      "dd    40\n",
      "Name: 국어점수, dtype: int64 \n",
      "\n",
      "ee    50\n",
      "cc    40\n",
      "dd    40\n",
      "Name: 국어점수, dtype: int64 \n",
      "\n"
     ]
    }
   ],
   "source": [
    "sr['cc'] = 40\n",
    "# value 값이 동일할경우 keep 인자에 따라 정렬\n",
    "print(sr.nlargest(2), '\\n')\n",
    "print(sr.nlargest(2, keep='last'), '\\n')\n",
    "# 둘다나옴.\n",
    "print(sr.nlargest(2, keep='all'), '\\n')"
   ]
  },
  {
   "cell_type": "code",
   "execution_count": 32,
   "id": "ee6979d9",
   "metadata": {},
   "outputs": [
    {
     "data": {
      "text/plain": [
       "aa    10\n",
       "bb    20\n",
       "cc    40\n",
       "Name: 국어점수, dtype: int64"
      ]
     },
     "execution_count": 32,
     "metadata": {},
     "output_type": "execute_result"
    }
   ],
   "source": [
    "sr.nsmallest(3)"
   ]
  },
  {
   "cell_type": "code",
   "execution_count": 34,
   "id": "e856251f",
   "metadata": {},
   "outputs": [
    {
     "data": {
      "text/plain": [
       "16.43"
      ]
     },
     "execution_count": 34,
     "metadata": {},
     "output_type": "execute_result"
    }
   ],
   "source": [
    "# 표준편차\n",
    "round(sr.std(), 2)"
   ]
  },
  {
   "cell_type": "code",
   "execution_count": 35,
   "id": "056a9e67",
   "metadata": {},
   "outputs": [
    {
     "data": {
      "text/plain": [
       "270.0"
      ]
     },
     "execution_count": 35,
     "metadata": {},
     "output_type": "execute_result"
    }
   ],
   "source": [
    "# 분산\n",
    "sr.var()"
   ]
  },
  {
   "cell_type": "code",
   "execution_count": null,
   "id": "dc21cea4",
   "metadata": {},
   "outputs": [],
   "source": [
    "# 중간 값\n",
    "# if odd, center value\n",
    "# even, +2 and /2\n",
    "sr.median()"
   ]
  },
  {
   "cell_type": "code",
   "execution_count": 39,
   "id": "c4edab40",
   "metadata": {},
   "outputs": [
    {
     "name": "stdout",
     "output_type": "stream",
     "text": [
      "0.25    20.0\n",
      "0.50    40.0\n",
      "0.75    40.0\n",
      "Name: 국어점수, dtype: float64 \n",
      "\n",
      "20.0\n"
     ]
    }
   ],
   "source": [
    "print(sr.quantile([0.25, 0.5, 0.75]), '\\n')\n",
    "print(sr.quantile([0.25, 0.5, 0.75]).loc[0.25])"
   ]
  },
  {
   "cell_type": "code",
   "execution_count": 45,
   "id": "835776ca",
   "metadata": {},
   "outputs": [
    {
     "data": {
      "text/plain": [
       "array([10, 20, 40, 50], dtype=int64)"
      ]
     },
     "execution_count": 45,
     "metadata": {},
     "output_type": "execute_result"
    }
   ],
   "source": [
    "# numpy array로 가져옴.\n",
    "sr.unique()"
   ]
  },
  {
   "cell_type": "code",
   "execution_count": 47,
   "id": "2f64841e",
   "metadata": {},
   "outputs": [
    {
     "data": {
      "text/plain": [
       "40    2\n",
       "10    1\n",
       "20    1\n",
       "50    1\n",
       "Name: 국어점수, dtype: int64"
      ]
     },
     "execution_count": 47,
     "metadata": {},
     "output_type": "execute_result"
    }
   ],
   "source": [
    "sr.value_counts()"
   ]
  },
  {
   "cell_type": "markdown",
   "id": "4c646b62",
   "metadata": {},
   "source": [
    "# 계급 도수\n",
    "\n",
    "- 범위를 지정해서 몇갠지 볼수있어\n"
   ]
  },
  {
   "cell_type": "code",
   "execution_count": 48,
   "id": "b59a322e",
   "metadata": {},
   "outputs": [
    {
     "data": {
      "text/plain": [
       "aa    (9.96, 18.0]\n",
       "bb    (18.0, 26.0]\n",
       "cc    (34.0, 42.0]\n",
       "dd    (34.0, 42.0]\n",
       "ee    (42.0, 50.0]\n",
       "Name: 국어점수, dtype: category\n",
       "Categories (5, interval[float64, right]): [(9.96, 18.0] < (18.0, 26.0] < (26.0, 34.0] < (34.0, 42.0] < (42.0, 50.0]]"
      ]
     },
     "execution_count": 48,
     "metadata": {},
     "output_type": "execute_result"
    }
   ],
   "source": [
    "pd.cut(sr, 5)"
   ]
  },
  {
   "cell_type": "code",
   "execution_count": 60,
   "id": "bfadb179",
   "metadata": {},
   "outputs": [
    {
     "name": "stdout",
     "output_type": "stream",
     "text": [
      "[(0, 20], (0, 20], (20, 40], (20, 40], (40, 60]]\n",
      "Categories (3, interval[int64, right]): [(0, 20] < (20, 40] < (40, 60]]\n",
      "IntervalIndex([(0, 20], (20, 40], (40, 60]], dtype='interval[int64, right]')\n"
     ]
    }
   ],
   "source": [
    "sr1 = pd.cut(sr, [0, 20, 40, 60])\n",
    "print(sr1.values)\n",
    "type(sr1.values)\n",
    "print(sr1.values.categories)"
   ]
  },
  {
   "cell_type": "code",
   "execution_count": 52,
   "id": "eb1d9c18",
   "metadata": {},
   "outputs": [
    {
     "data": {
      "text/plain": [
       "aa    C\n",
       "bb    C\n",
       "cc    B\n",
       "dd    B\n",
       "ee    A\n",
       "Name: 국어점수, dtype: category\n",
       "Categories (3, object): ['C' < 'B' < 'A']"
      ]
     },
     "execution_count": 52,
     "metadata": {},
     "output_type": "execute_result"
    }
   ],
   "source": [
    "pd.cut(sr, [0, 20, 40, 60], labels=['C', 'B', 'A'])"
   ]
  },
  {
   "cell_type": "markdown",
   "id": "2b145942",
   "metadata": {},
   "source": [
    "# apply"
   ]
  },
  {
   "cell_type": "code",
   "execution_count": 65,
   "id": "edb8a406",
   "metadata": {},
   "outputs": [
    {
     "name": "stdout",
     "output_type": "stream",
     "text": [
      "v= 10\n",
      "======\n",
      "v= 20\n",
      "======\n",
      "v= 40\n",
      "======\n",
      "v= 40\n",
      "======\n",
      "v= 50\n",
      "======\n"
     ]
    },
    {
     "data": {
      "text/plain": [
       "aa    12\n",
       "bb    22\n",
       "cc    41\n",
       "dd    41\n",
       "ee    51\n",
       "Name: 국어점수, dtype: int64"
      ]
     },
     "execution_count": 65,
     "metadata": {},
     "output_type": "execute_result"
    }
   ],
   "source": [
    "def fn(v):\n",
    "    print ('v=', v)\n",
    "    print('======')\n",
    "    return v+2 if v<40 else v+1\n",
    "        \n",
    "# sr.map(fn)\n",
    "sr.apply(fn)\n"
   ]
  },
  {
   "cell_type": "code",
   "execution_count": 67,
   "id": "e54ade11",
   "metadata": {},
   "outputs": [
    {
     "data": {
      "text/plain": [
       "aa    12\n",
       "bb    22\n",
       "cc    41\n",
       "dd    41\n",
       "ee    51\n",
       "Name: 국어점수, dtype: int64"
      ]
     },
     "execution_count": 67,
     "metadata": {},
     "output_type": "execute_result"
    }
   ],
   "source": [
    "# lamda\n",
    "sr.apply(lambda v:v+2 if v<40 else v+1)"
   ]
  },
  {
   "cell_type": "code",
   "execution_count": 71,
   "id": "bd3157d9",
   "metadata": {},
   "outputs": [
    {
     "data": {
      "text/plain": [
       "aa    불합격\n",
       "bb    불합격\n",
       "cc     합격\n",
       "dd     합격\n",
       "ee     합격\n",
       "Name: 국어점수, dtype: object"
      ]
     },
     "execution_count": 71,
     "metadata": {},
     "output_type": "execute_result"
    }
   ],
   "source": [
    "# 국어점수가 40점이상 합격 아님 불합격\n",
    "sr.apply(lambda v:\"합격\" if v>=40 else \"불합격\")"
   ]
  },
  {
   "cell_type": "markdown",
   "id": "cb319fb1",
   "metadata": {},
   "source": [
    "# 반복문\n"
   ]
  },
  {
   "cell_type": "code",
   "execution_count": 73,
   "id": "8ff72ac0",
   "metadata": {},
   "outputs": [
    {
     "name": "stdout",
     "output_type": "stream",
     "text": [
      "10\n",
      "20\n",
      "40\n",
      "40\n",
      "50\n"
     ]
    }
   ],
   "source": [
    "for n in sr:\n",
    "    print (n)"
   ]
  },
  {
   "cell_type": "code",
   "execution_count": 75,
   "id": "3c060853",
   "metadata": {},
   "outputs": [
    {
     "name": "stdout",
     "output_type": "stream",
     "text": [
      "aa\n",
      "bb\n",
      "cc\n",
      "dd\n",
      "ee\n"
     ]
    }
   ],
   "source": [
    "for n in sr.index:\n",
    "    print(n)"
   ]
  },
  {
   "cell_type": "code",
   "execution_count": 79,
   "id": "6fb6a816",
   "metadata": {},
   "outputs": [
    {
     "name": "stdout",
     "output_type": "stream",
     "text": [
      "aa 10\n",
      "bb 20\n",
      "cc 40\n",
      "dd 40\n",
      "ee 50\n"
     ]
    }
   ],
   "source": [
    "# unpacking\n",
    "for i,v in sr.items():\n",
    "    print(i, v)"
   ]
  },
  {
   "cell_type": "markdown",
   "id": "1f429355",
   "metadata": {},
   "source": [
    "# 시각화"
   ]
  },
  {
   "cell_type": "code",
   "execution_count": 93,
   "id": "97725b35",
   "metadata": {},
   "outputs": [
    {
     "data": {
      "image/png": "[encoded data removed]",
      "text/plain": [
       "<Figure size 432x288 with 1 Axes>"
      ]
     },
     "metadata": {
      "needs_background": "light"
     },
     "output_type": "display_data"
    },
    {
     "data": {
      "text/plain": [
       "<AxesSubplot:>"
      ]
     },
     "execution_count": 93,
     "metadata": {},
     "output_type": "execute_result"
    },
    {
     "data": {
      "image/png": "[encoded data removed]",
      "text/plain": [
       "<Figure size 432x288 with 1 Axes>"
      ]
     },
     "metadata": {
      "needs_background": "light"
     },
     "output_type": "display_data"
    }
   ],
   "source": [
    "sr.plot(kind='bar', figsize=(6,4), title=\"grade\", \n",
    "        legend=True, grid=True, ylim=(0, 100), rot=0)\n",
    "# 메모리에 그림\n",
    "plt.show() # 비디오 메모리\n",
    "sr.plot()\n"
   ]
  },
  {
   "cell_type": "code",
   "execution_count": 95,
   "id": "302cf089",
   "metadata": {},
   "outputs": [
    {
     "data": {
      "image/png": "[encoded data removed]",
      "text/plain": [
       "<Figure size 432x288 with 1 Axes>"
      ]
     },
     "metadata": {
      "needs_background": "light"
     },
     "output_type": "display_data"
    }
   ],
   "source": [
    "# 수평바\n",
    "sr.plot(kind='barh')\n",
    "plt.show()"
   ]
  },
  {
   "cell_type": "code",
   "execution_count": 98,
   "id": "9a5c3e95",
   "metadata": {},
   "outputs": [
    {
     "data": {
      "image/png": "[encoded data removed]",
      "text/plain": [
       "<Figure size 432x288 with 1 Axes>"
      ]
     },
     "metadata": {
      "needs_background": "light"
     },
     "output_type": "display_data"
    }
   ],
   "source": [
    "sr.plot(kind='hist', bins=[0,30,60,90,100])\n",
    "plt.show()"
   ]
  },
  {
   "cell_type": "code",
   "execution_count": 101,
   "id": "4871ef30",
   "metadata": {},
   "outputs": [
    {
     "data": {
      "image/png": "[encoded data removed]",
      "text/plain": [
       "<Figure size 432x288 with 1 Axes>"
      ]
     },
     "metadata": {},
     "output_type": "display_data"
    }
   ],
   "source": [
    "sr.plot(kind='pie', autopct = \"%.2f\")\n",
    "plt.show()"
   ]
  },
  {
   "cell_type": "code",
   "execution_count": 105,
   "id": "7ba0f169",
   "metadata": {},
   "outputs": [
    {
     "data": {
      "image/png": "[encoded data removed]",
      "text/plain": [
       "<Figure size 432x288 with 1 Axes>"
      ]
     },
     "metadata": {
      "needs_background": "light"
     },
     "output_type": "display_data"
    }
   ],
   "source": [
    "sr.plot(kind='box', ylim = (0,100))\n",
    "plt.show()"
   ]
  },
  {
   "cell_type": "code",
   "execution_count": 104,
   "id": "afaeae61",
   "metadata": {},
   "outputs": [
    {
     "data": {
      "text/plain": [
       "0.25    20.0\n",
       "0.50    40.0\n",
       "0.75    40.0\n",
       "Name: 국어점수, dtype: float64"
      ]
     },
     "execution_count": 104,
     "metadata": {},
     "output_type": "execute_result"
    }
   ],
   "source": [
    "sr.quantile([0.25, 0.5, 0.75])"
   ]
  },
  {
   "cell_type": "code",
   "execution_count": 107,
   "id": "0a4205bf",
   "metadata": {},
   "outputs": [
    {
     "data": {
      "image/png": "[encoded data removed]",
      "text/plain": [
       "<Figure size 432x288 with 1 Axes>"
      ]
     },
     "metadata": {
      "needs_background": "light"
     },
     "output_type": "display_data"
    }
   ],
   "source": [
    "# 이상치 데이터 확인 동그라미로 표시됨.\n",
    "sr['ee'] = 100\n",
    "sr\n",
    "sr.plot(kind='box', ylim = (0,100))\n",
    "plt.show()"
   ]
  },
  {
   "cell_type": "markdown",
   "id": "1579ce94",
   "metadata": {},
   "source": [
    "# 시리즈 연습"
   ]
  },
  {
   "cell_type": "code",
   "execution_count": 154,
   "id": "cb44f4d6",
   "metadata": {},
   "outputs": [
    {
     "name": "stdout",
     "output_type": "stream",
     "text": [
      "1\n",
      " 90\n",
      "2\n",
      " Index(['홍길동', '이순신'], dtype='object')\n",
      "2\n",
      " Index(['홍길동', '이순신'], dtype='object')\n",
      "3\n",
      " [90 90 80 88]\n",
      "4\n",
      " [55 60 76 80 76]\n",
      "4\n",
      " [55 60 76 80 76]\n",
      "5\n",
      " 김철수1    88\n",
      "김철수2    30\n",
      "김철수3    25\n",
      "Name: 국어점수, dtype: int64\n"
     ]
    }
   ],
   "source": [
    "import pandas as pd\n",
    "import numpy as np\n",
    "import matplotlib.pyplot as plt\n",
    "\n",
    "sr = pd.Series( [90,90,55,60,76,80,76,88,30,25], name=\"국어점수\")\n",
    "sr.index = ['홍길동', '이순신', '임꺽정', '정난정', '이이', '이황', '정도전',\n",
    "        '김철수1', '김철수2', '김철수3']\n",
    "\n",
    "#1\n",
    "print(\"1\\n\", sr.max())\n",
    "#2\n",
    "print(\"2\\n\", sr[sr==sr.max()].index)\n",
    "print(\"2\\n\", sr.nlargest(1, keep='all').index)\n",
    "sr.nlargest()\n",
    "#3\n",
    "print(\"3\\n\", sr[sr>=80].values)\n",
    "#4\n",
    "print (\"4\\n\", sr[(sr>=50) & (sr<=80)].values)\n",
    "print (\"4\\n\", sr[sr.between(50, 80)].values)\n",
    "#5\n",
    "print (\"5\\n\", sr[sr.index.str.contains('^김')])"
   ]
  }
 ],
 "metadata": {
  "kernelspec": {
   "display_name": "Python 3 (ipykernel)",
   "language": "python",
   "name": "python3"
  },
  "language_info": {
   "codemirror_mode": {
    "name": "ipython",
    "version": 3
   },
   "file_extension": ".py",
   "mimetype": "text/x-python",
   "name": "python",
   "nbconvert_exporter": "python",
   "pygments_lexer": "ipython3",
   "version": "3.9.7"
  }
 },
 "nbformat": 4,
 "nbformat_minor": 5
}
