{
 "cells": [
  {
   "cell_type": "code",
   "execution_count": 48,
   "id": "68d4e371",
   "metadata": {},
   "outputs": [
    {
     "data": {
      "text/plain": [
       "aa    10\n",
       "bb    20\n",
       "cc    30\n",
       "dd    40\n",
       "ee    50\n",
       "Name: 국어점수, dtype: int64"
      ]
     },
     "execution_count": 48,
     "metadata": {},
     "output_type": "execute_result"
    }
   ],
   "source": [
    "import pandas as pd\n",
    "import numpy as np\n",
    "d1 = [10, 20, 30, 40, 50]\n",
    "sr = pd.Series(d1, index = ['aa', 'bb', 'cc', 'dd', 'ee'], name = \"국어점수\")\n",
    "sr"
   ]
  },
  {
   "cell_type": "markdown",
   "id": "cb3d7526",
   "metadata": {},
   "source": [
    "# 수정"
   ]
  },
  {
   "cell_type": "code",
   "execution_count": 15,
   "id": "94d032c5",
   "metadata": {},
   "outputs": [
    {
     "name": "stdout",
     "output_type": "stream",
     "text": [
      "aa    100\n",
      "bb    100\n",
      "cc    100\n",
      "dd    100\n",
      "ee     50\n",
      "Name: 국어점수, dtype: int64 \n",
      "\n",
      "aa    100\n",
      "bb    100\n",
      "cc    100\n",
      "dd    100\n",
      "ee     50\n",
      "Name: 국어점수, dtype: int64\n"
     ]
    }
   ],
   "source": [
    "print(sr, '\\n')\n",
    "sr[0] = 100\n",
    "sr['aa'] = 100\n",
    "print(sr)"
   ]
  },
  {
   "cell_type": "code",
   "execution_count": 21,
   "id": "33f242b4",
   "metadata": {},
   "outputs": [
    {
     "name": "stdout",
     "output_type": "stream",
     "text": [
      "aa    10\n",
      "bb    20\n",
      "cc    30\n",
      "dd    40\n",
      "ee    50\n",
      "Name: 국어점수, dtype: int64\n",
      "aa     10\n",
      "bb    200\n",
      "cc    200\n",
      "dd    200\n",
      "ee     50\n",
      "Name: 국어점수, dtype: int64\n"
     ]
    }
   ],
   "source": [
    "print(sr)\n",
    "sr[1:4] = 200\n",
    "sr['bb':'dd'] = 200\n",
    "sr.iloc[1:4] = 200\n",
    "sr.loc['bb':'dd'] = 200\n",
    "print(sr)"
   ]
  },
  {
   "cell_type": "code",
   "execution_count": 25,
   "id": "b85721fd",
   "metadata": {},
   "outputs": [
    {
     "name": "stdout",
     "output_type": "stream",
     "text": [
      "aa    10\n",
      "bb    20\n",
      "cc    30\n",
      "dd    40\n",
      "ee    50\n",
      "Name: 국어점수, dtype: int64\n",
      "aa    10\n",
      "bb    22\n",
      "cc    32\n",
      "dd    42\n",
      "ee    50\n",
      "Name: 국어점수, dtype: int64\n"
     ]
    }
   ],
   "source": [
    "print(sr)\n",
    "sr[1:4] = sr[1:4] + 2\n",
    "print(sr)"
   ]
  },
  {
   "cell_type": "code",
   "execution_count": 28,
   "id": "7cbc7b0a",
   "metadata": {},
   "outputs": [
    {
     "name": "stdout",
     "output_type": "stream",
     "text": [
      "aa    10\n",
      "bb    20\n",
      "cc    35\n",
      "dd    45\n",
      "ee    55\n",
      "Name: 국어점수, dtype: int64\n"
     ]
    }
   ],
   "source": [
    "# 30이상인 데이터에 5를 더한 값으로 수정하시오\n",
    "sr[sr>=30] = sr[sr>=30] + 5\n",
    "print(sr)"
   ]
  },
  {
   "cell_type": "markdown",
   "id": "79fc735d",
   "metadata": {},
   "source": [
    "### 추가"
   ]
  },
  {
   "cell_type": "code",
   "execution_count": 34,
   "id": "99ef566f",
   "metadata": {},
   "outputs": [
    {
     "data": {
      "text/plain": [
       "aa    10\n",
       "bb    20\n",
       "cc    30\n",
       "dd    40\n",
       "ee    50\n",
       "ff    60\n",
       "Name: 국어점수, dtype: int64"
      ]
     },
     "execution_count": 34,
     "metadata": {},
     "output_type": "execute_result"
    }
   ],
   "source": [
    "sr.loc['ff']= 60 # index가 있으면 수정 없으면 추가\n",
    "sr"
   ]
  },
  {
   "cell_type": "code",
   "execution_count": 37,
   "id": "d8fcb19d",
   "metadata": {},
   "outputs": [
    {
     "data": {
      "text/plain": [
       "aa    10\n",
       "bb    20\n",
       "cc    30\n",
       "dd    40\n",
       "ee    50\n",
       "ff    60\n",
       "gg    70\n",
       "hh    80\n",
       "ii    90\n",
       "dtype: int64"
      ]
     },
     "execution_count": 37,
     "metadata": {},
     "output_type": "execute_result"
    }
   ],
   "source": [
    "sr.append( pd.Series( [70,80,90], index = ['gg', 'hh', 'ii']) )"
   ]
  },
  {
   "cell_type": "markdown",
   "id": "7db99567",
   "metadata": {},
   "source": [
    "# 삭제"
   ]
  },
  {
   "cell_type": "code",
   "execution_count": 50,
   "id": "ae598c9f",
   "metadata": {},
   "outputs": [
    {
     "name": "stdout",
     "output_type": "stream",
     "text": [
      "bb    20\n",
      "cc    30\n",
      "ee    50\n",
      "Name: 국어점수, dtype: int64\n"
     ]
    }
   ],
   "source": [
    "# sr.drop( 부여된 인덱스명 )\n",
    "# sr.drop(['aa', 'dd'])\n",
    "\n",
    "# inplace false면 assign 해줘야 시리즈에 반영됨.\n",
    "# inplace true 바로 시리즈에 반영됨.\n",
    "sr = pd.Series(d1, index = ['aa', 'bb', 'cc', 'dd', 'ee'], name = \"국어점수\")\n",
    "sr.drop(['aa', 'dd'], inplace = True)\n",
    "print(sr)"
   ]
  },
  {
   "cell_type": "code",
   "execution_count": 64,
   "id": "d1f90f41",
   "metadata": {},
   "outputs": [
    {
     "name": "stdout",
     "output_type": "stream",
     "text": [
      "aa    10\n",
      "bb    20\n",
      "cc    30\n",
      "dd    40\n",
      "ee    50\n",
      "Name: 국어점수, dtype: int64 \n",
      "\n",
      "aa    10\n",
      "bb    20\n",
      "Name: 국어점수, dtype: int64\n"
     ]
    }
   ],
   "source": [
    "# 25 이상인 데이터 삭제하시오\n",
    "sr = pd.Series(d1, index = ['aa', 'bb', 'cc', 'dd', 'ee'], name = \"국어점수\")\n",
    "print(sr, '\\n')\n",
    "sr = sr.drop(sr[sr>=25].index)\n",
    "print(sr)"
   ]
  },
  {
   "cell_type": "markdown",
   "id": "4698f872",
   "metadata": {},
   "source": [
    "# 정렬"
   ]
  },
  {
   "cell_type": "code",
   "execution_count": 70,
   "id": "f198894e",
   "metadata": {},
   "outputs": [
    {
     "name": "stdout",
     "output_type": "stream",
     "text": [
      "bb    100\n",
      "ee     50\n",
      "dd     40\n",
      "cc     30\n",
      "aa     10\n",
      "Name: 국어점수, dtype: int64 \n",
      "\n",
      "ee     50\n",
      "dd     40\n",
      "cc     30\n",
      "bb    100\n",
      "aa     10\n",
      "Name: 국어점수, dtype: int64 \n",
      "\n"
     ]
    }
   ],
   "source": [
    "sr = pd.Series(d1, index = ['aa', 'bb', 'cc', 'dd', 'ee'], name = \"국어점수\")\n",
    "sr[1] = 100\n",
    "# 값 기반 정렬\n",
    "# ascending parameter : True 오름차순, false 내림차순\n",
    "print(sr.sort_values(ascending=False), '\\n')\n",
    "\n",
    "# 영어, 한글 지원.\n",
    "print(sr.sort_index(ascending=False), '\\n')"
   ]
  },
  {
   "cell_type": "code",
   "execution_count": 71,
   "id": "fe0e7355",
   "metadata": {},
   "outputs": [
    {
     "name": "stdout",
     "output_type": "stream",
     "text": [
      "aa    홍길동\n",
      "bb    이순신\n",
      "cc    김철수\n",
      "dd    김순이\n",
      "ee    이홍김\n",
      "Name: 국어점수, dtype: object\n"
     ]
    }
   ],
   "source": [
    "d1 = ['홍길동', '이순신', '김철수', '김순이', '이홍김']\n",
    "sr = pd.Series(d1, index = ['aa', 'bb', 'cc', 'dd', 'ee'], name = \"국어점수\")\n",
    "print(sr)\n"
   ]
  },
  {
   "cell_type": "markdown",
   "id": "73144b42",
   "metadata": {},
   "source": [
    "데이터가 문자열인 경우 검색은 str 속성을 이용한다.\n",
    "- sr.str # 문자열 데이터 처리 속성\n",
    "- sr.index.str #인덱스 문자열 데이터 처리 속성"
   ]
  },
  {
   "cell_type": "markdown",
   "id": "a681400a",
   "metadata": {},
   "source": [
    "# 문자열 인덱싱 슬라이싱"
   ]
  },
  {
   "cell_type": "code",
   "execution_count": 75,
   "id": "7ccc98c6",
   "metadata": {},
   "outputs": [
    {
     "data": {
      "text/plain": [
       "aa    동\n",
       "bb    신\n",
       "cc    수\n",
       "dd    이\n",
       "ee    김\n",
       "Name: 국어점수, dtype: object"
      ]
     },
     "execution_count": 75,
     "metadata": {},
     "output_type": "execute_result"
    }
   ],
   "source": [
    "sr.str[-1]"
   ]
  },
  {
   "cell_type": "code",
   "execution_count": 107,
   "id": "a4fc513d",
   "metadata": {
    "scrolled": true
   },
   "outputs": [
    {
     "name": "stdout",
     "output_type": "stream",
     "text": [
      "aa      길동\n",
      "bb      순신\n",
      "cc    리즈철수\n",
      "dd    리즈순이\n",
      "ee    홍시리즈\n",
      "Name: 국어점수, dtype: object\n",
      "Index(['aa', 'bb', 'cc', 'dd', 'ee'], dtype='object')\n"
     ]
    }
   ],
   "source": [
    "print(sr.str[1:])\n",
    "\n",
    "print(sr.index.str[:])"
   ]
  }
 ],
 "metadata": {
  "kernelspec": {
   "display_name": "Python 3 (ipykernel)",
   "language": "python",
   "name": "python3"
  },
  "language_info": {
   "codemirror_mode": {
    "name": "ipython",
    "version": 3
   },
   "file_extension": ".py",
   "mimetype": "text/x-python",
   "name": "python",
   "nbconvert_exporter": "python",
   "pygments_lexer": "ipython3",
   "version": "3.9.7"
  }
 },
 "nbformat": 4,
 "nbformat_minor": 5
}
