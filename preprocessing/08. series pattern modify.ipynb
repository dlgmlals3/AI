{
 "cells": [
  {
   "cell_type": "markdown",
   "id": "daaf8ae7",
   "metadata": {},
   "source": [
    "### 문자열 데이터 검색(정규식 패턴이용)\n",
    "정규 표현식 메타기호 : .^$*+?{}[]"
   ]
  },
  {
   "cell_type": "markdown",
   "id": "30f711fe",
   "metadata": {},
   "source": [
    "# 검색 Contatins"
   ]
  },
  {
   "cell_type": "code",
   "execution_count": 11,
   "id": "a002a6a1",
   "metadata": {
    "scrolled": true
   },
   "outputs": [
    {
     "data": {
      "text/plain": [
       "pandas.core.strings.accessor.StringMethods"
      ]
     },
     "execution_count": 11,
     "metadata": {},
     "output_type": "execute_result"
    }
   ],
   "source": [
    "import pandas as pd\n",
    "import numpy as np\n",
    "type(sr.str)"
   ]
  },
  {
   "cell_type": "code",
   "execution_count": 85,
   "id": "fec2f941",
   "metadata": {},
   "outputs": [
    {
     "data": {
      "text/plain": [
       "cc    김철수\n",
       "dd    김순이\n",
       "ee    이홍김\n",
       "Name: 국어점수, dtype: object"
      ]
     },
     "execution_count": 85,
     "metadata": {},
     "output_type": "execute_result"
    }
   ],
   "source": [
    "sr[sr.str.contains(\"김\")]"
   ]
  },
  {
   "cell_type": "code",
   "execution_count": 87,
   "id": "eb96d708",
   "metadata": {},
   "outputs": [
    {
     "data": {
      "text/plain": [
       "cc    김철수\n",
       "dd    김순이\n",
       "Name: 국어점수, dtype: object"
      ]
     },
     "execution_count": 87,
     "metadata": {},
     "output_type": "execute_result"
    }
   ],
   "source": [
    "sr[sr.str.contains('^김')]"
   ]
  },
  {
   "cell_type": "code",
   "execution_count": 89,
   "id": "f07462f7",
   "metadata": {},
   "outputs": [
    {
     "data": {
      "text/plain": [
       "ee    이홍김\n",
       "Name: 국어점수, dtype: object"
      ]
     },
     "execution_count": 89,
     "metadata": {},
     "output_type": "execute_result"
    }
   ],
   "source": [
    "sr[sr.str.contains('김$')] # $ 끝메타기호"
   ]
  },
  {
   "cell_type": "code",
   "execution_count": 90,
   "id": "2eb89dd7",
   "metadata": {},
   "outputs": [
    {
     "data": {
      "text/plain": [
       "aa    홍길동\n",
       "bb    이순신\n",
       "dd    김순이\n",
       "ee    이홍김\n",
       "Name: 국어점수, dtype: object"
      ]
     },
     "execution_count": 90,
     "metadata": {},
     "output_type": "execute_result"
    }
   ],
   "source": [
    "sr[sr.str.contains('[홍이]')] # 홍 또는 이 둘중 하나"
   ]
  },
  {
   "cell_type": "code",
   "execution_count": 91,
   "id": "9c272a30",
   "metadata": {},
   "outputs": [
    {
     "data": {
      "text/plain": [
       "bb    이순신\n",
       "Name: 국어점수, dtype: object"
      ]
     },
     "execution_count": 91,
     "metadata": {},
     "output_type": "execute_result"
    }
   ],
   "source": [
    "sr[sr.str.contains('[홍이]순')] # 홍 또는 이 둘중 하나"
   ]
  },
  {
   "cell_type": "code",
   "execution_count": 92,
   "id": "285e09ac",
   "metadata": {},
   "outputs": [
    {
     "data": {
      "text/plain": [
       "aa    홍길동\n",
       "dd    김순이\n",
       "ee    이홍김\n",
       "Name: 국어점수, dtype: object"
      ]
     },
     "execution_count": 92,
     "metadata": {},
     "output_type": "execute_result"
    }
   ],
   "source": [
    "sr[sr.str.contains('길동|순이|이홍')]"
   ]
  },
  {
   "cell_type": "code",
   "execution_count": 94,
   "id": "d239aa78",
   "metadata": {},
   "outputs": [
    {
     "data": {
      "text/plain": [
       "bb    이순신\n",
       "dd    김순이\n",
       "ee    이홍김\n",
       "Name: 국어점수, dtype: object"
      ]
     },
     "execution_count": 94,
     "metadata": {},
     "output_type": "execute_result"
    }
   ],
   "source": [
    "# 이 or 순 1 회이상 반복\n",
    "sr[sr.str.contains('[이순]+')]"
   ]
  },
  {
   "cell_type": "code",
   "execution_count": 96,
   "id": "af22f6c5",
   "metadata": {},
   "outputs": [
    {
     "data": {
      "text/plain": [
       "ee    이홍김\n",
       "Name: 국어점수, dtype: object"
      ]
     },
     "execution_count": 96,
     "metadata": {},
     "output_type": "execute_result"
    }
   ],
   "source": [
    "# 한글이 1회 이상 반복 + 김\n",
    "# [a-z] [a-zA-Z]\n",
    "sr[sr.str.contains('[가-힇]+김')]"
   ]
  },
  {
   "cell_type": "markdown",
   "id": "a575f910",
   "metadata": {},
   "source": [
    "# 문자열 바꾸기 (replace)"
   ]
  },
  {
   "cell_type": "code",
   "execution_count": 100,
   "id": "7b1a2bef",
   "metadata": {},
   "outputs": [
    {
     "name": "stdout",
     "output_type": "stream",
     "text": [
      "aa    홍길동\n",
      "bb    이순신\n",
      "cc    김철수\n",
      "dd    김순이\n",
      "ee    이홍김\n",
      "Name: 국어점수, dtype: object \n",
      "\n",
      "aa    홍길동\n",
      "bb    이순신\n",
      "cc    시리즈\n",
      "dd    김순이\n",
      "ee    이홍김\n",
      "Name: 국어점수, dtype: object\n"
     ]
    }
   ],
   "source": [
    "d1 = ['홍길동', '이순신', '김철수', '김순이', '이홍김']\n",
    "sr = pd.Series(d1, index = ['aa', 'bb', 'cc', 'dd', 'ee'], name = \"국어점수\")\n",
    "\n",
    "print(sr, '\\n')\n",
    "sr = sr.replace('김철수', '시리즈')\n",
    "print(sr)"
   ]
  },
  {
   "cell_type": "code",
   "execution_count": 102,
   "id": "340d9187",
   "metadata": {
    "scrolled": false
   },
   "outputs": [
    {
     "name": "stdout",
     "output_type": "stream",
     "text": [
      "aa    홍길동\n",
      "bb    이순신\n",
      "cc    김철수\n",
      "dd    김순이\n",
      "ee    이홍김\n",
      "Name: 국어점수, dtype: object \n",
      "\n",
      "aa      홍길동\n",
      "bb      이순신\n",
      "cc    시리즈철수\n",
      "dd    시리즈순이\n",
      "ee    이홍시리즈\n",
      "Name: 국어점수, dtype: object\n"
     ]
    }
   ],
   "source": [
    "d1 = ['홍길동', '이순신', '김철수', '김순이', '이홍김']\n",
    "sr = pd.Series(d1, index = ['aa', 'bb', 'cc', 'dd', 'ee'], name = \"국어점수\")\n",
    "print(sr, '\\n')\n",
    "\n",
    "sr = sr.str.replace('김', '시리즈')\n",
    "print(sr)"
   ]
  },
  {
   "cell_type": "markdown",
   "id": "1fd9cb6d",
   "metadata": {},
   "source": [
    "# 추출하기 (extract)"
   ]
  },
  {
   "cell_type": "code",
   "execution_count": 8,
   "id": "0e3739ab",
   "metadata": {},
   "outputs": [
    {
     "data": {
      "text/html": [
       "<div>\n",
       "<style scoped>\n",
       "    .dataframe tbody tr th:only-of-type {\n",
       "        vertical-align: middle;\n",
       "    }\n",
       "\n",
       "    .dataframe tbody tr th {\n",
       "        vertical-align: top;\n",
       "    }\n",
       "\n",
       "    .dataframe thead th {\n",
       "        text-align: right;\n",
       "    }\n",
       "</style>\n",
       "<table border=\"1\" class=\"dataframe\">\n",
       "  <thead>\n",
       "    <tr style=\"text-align: right;\">\n",
       "      <th></th>\n",
       "      <th>0</th>\n",
       "      <th>1</th>\n",
       "    </tr>\n",
       "  </thead>\n",
       "  <tbody>\n",
       "    <tr>\n",
       "      <th>aa</th>\n",
       "      <td>NaN</td>\n",
       "      <td>NaN</td>\n",
       "    </tr>\n",
       "    <tr>\n",
       "      <th>bb</th>\n",
       "      <td>NaN</td>\n",
       "      <td>NaN</td>\n",
       "    </tr>\n",
       "    <tr>\n",
       "      <th>cc</th>\n",
       "      <td>김</td>\n",
       "      <td>철수</td>\n",
       "    </tr>\n",
       "    <tr>\n",
       "      <th>dd</th>\n",
       "      <td>김</td>\n",
       "      <td>순이</td>\n",
       "    </tr>\n",
       "    <tr>\n",
       "      <th>ee</th>\n",
       "      <td>NaN</td>\n",
       "      <td>NaN</td>\n",
       "    </tr>\n",
       "  </tbody>\n",
       "</table>\n",
       "</div>"
      ],
      "text/plain": [
       "      0    1\n",
       "aa  NaN  NaN\n",
       "bb  NaN  NaN\n",
       "cc    김   철수\n",
       "dd    김   순이\n",
       "ee  NaN  NaN"
      ]
     },
     "execution_count": 8,
     "metadata": {},
     "output_type": "execute_result"
    }
   ],
   "source": [
    "d1 = ['홍길동', '이순신', '김철수', '김순이', '이홍김']\n",
    "sr = pd.Series(d1, index = ['aa', 'bb', 'cc', 'dd', 'ee'], name = \"국어점수\")\n",
    "sr.str.extract('(김)([가-힇]+)')"
   ]
  },
  {
   "cell_type": "code",
   "execution_count": 10,
   "id": "d94ccf35",
   "metadata": {},
   "outputs": [
    {
     "data": {
      "text/plain": [
       "aa    홍길동\n",
       "Name: 국어점수, dtype: object"
      ]
     },
     "execution_count": 10,
     "metadata": {},
     "output_type": "execute_result"
    }
   ],
   "source": [
    "sr[sr.index.str.contains('a')]"
   ]
  }
 ],
 "metadata": {
  "kernelspec": {
   "display_name": "Python 3 (ipykernel)",
   "language": "python",
   "name": "python3"
  },
  "language_info": {
   "codemirror_mode": {
    "name": "ipython",
    "version": 3
   },
   "file_extension": ".py",
   "mimetype": "text/x-python",
   "name": "python",
   "nbconvert_exporter": "python",
   "pygments_lexer": "ipython3",
   "version": "3.9.7"
  }
 },
 "nbformat": 4,
 "nbformat_minor": 5
}
