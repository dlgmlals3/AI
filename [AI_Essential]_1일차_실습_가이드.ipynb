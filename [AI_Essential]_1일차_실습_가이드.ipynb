{
  "cells": [
    {
      "cell_type": "markdown",
      "metadata": {
        "id": "view-in-github",
        "colab_type": "text"
      },
      "source": [
        "<a href=\"https://colab.research.google.com/github/dlgmlals3/AI/blob/main/%5BAI_Essential%5D_1%EC%9D%BC%EC%B0%A8_%EC%8B%A4%EC%8A%B5_%EA%B0%80%EC%9D%B4%EB%93%9C.ipynb\" target=\"_parent\"><img src=\"https://colab.research.google.com/assets/colab-badge.svg\" alt=\"Open In Colab\"/></a>"
      ]
    },
    {
      "cell_type": "markdown",
      "id": "693030fc",
      "metadata": {
        "id": "693030fc"
      },
      "source": [
        "# 01. Python"
      ]
    },
    {
      "cell_type": "markdown",
      "id": "4354f038",
      "metadata": {
        "id": "4354f038"
      },
      "source": [
        "## 01-001 Python 코드\n",
        "- 이 실습에서는 Python의 코드 구조에서 중요한 요소인 들여쓰기를 소개합니다. Python은 중괄호 대신 들여쓰기를 사용하여 코드 블록을 구분합니다. 들여쓰기는 가독성을 높이고, 코드의 논리적 흐름을 명확하게 나타내는 역할을 합니다. 함수 정의와 for문, if문을 작성하는 과정에서 들여쓰기를 어떻게 사용하는지 확인할 수 있습니다.\n"
      ]
    },
    {
      "cell_type": "code",
      "execution_count": null,
      "id": "33845045",
      "metadata": {
        "id": "33845045"
      },
      "outputs": [],
      "source": [
        "# Python: 들여쓰기로 코드 블록 설정\n",
        "def check_numbers(numbers):\n",
        "    for number in numbers:\n",
        "        if number % 2 == 0:\n",
        "            print(f'{number} is even')\n",
        "        else:\n",
        "            print(f'{number} is odd')\n",
        "\n",
        "# 함수 호출\n",
        "numbers = [1, 2, 3, 4, 5]\n",
        "check_numbers(numbers)"
      ]
    },
    {
      "cell_type": "markdown",
      "id": "d4fa45bb",
      "metadata": {
        "id": "d4fa45bb"
      },
      "source": [
        "- 파이썬의 들여쓰기 규칙을 학습하고, 이를 이용해 짝수와 홀수를 구분하는 간단한 함수를 구현하여 코드 블록을 정의하는 방법을 이해합니다.\n"
      ]
    },
    {
      "cell_type": "markdown",
      "id": "3aa94c4f",
      "metadata": {
        "id": "3aa94c4f"
      },
      "source": [
        "## 01-002 Python: for문을 이용한 시퀀스 순회 구조\n",
        "- 이 실습에서는 Python에서 `for` 루프가 시퀀스의 각 요소를 순차적으로 변수에 대입하고, 그 변수로 지정된 코드 블록을 반복 실행하는 기본 구조를 설명합니다. 시퀀스는 리스트, 튜플, 문자열과 같은 반복 가능한 객체를 의미하며, 이 구조는 데이터 처리 및 반복 작업에서 자주 사용됩니다.\n"
      ]
    },
    {
      "cell_type": "code",
      "execution_count": null,
      "id": "753fb67e",
      "metadata": {
        "id": "753fb67e"
      },
      "outputs": [],
      "source": [
        "# for문을 이용한 시퀀스 순회 구조\n",
        "# 시퀀스의 각 요소가 변수에 순차적으로 대입되어 실행 코드가 반복 수행됨\n",
        "for 변수 in 시퀀스:\n",
        "    실행할 코드"
      ]
    },
    {
      "cell_type": "markdown",
      "id": "6108f904",
      "metadata": {
        "id": "6108f904"
      },
      "source": [
        "- `for 변수 in 시퀀스:` 구조를 통해 시퀀스의 각 요소가 변수에 하나씩 대입되어 실행 코드가 반복되는 Python의 기본적인 반복문 개념을 학습합니다.\n"
      ]
    },
    {
      "cell_type": "markdown",
      "id": "db87ac98",
      "metadata": {
        "id": "db87ac98"
      },
      "source": [
        "## 01-003 Python: for문을 이용한 시퀀스 순회 구조\n",
        "- 이 실습에서는 Python의 `for`문을 사용하여 리스트의 각 요소를 순차적으로 변수에 대입하고 그 변수를 이용해 작업을 수행하는 기본적인 반복 구조를 학습합니다. `numbers` 리스트의 요소들이 `number` 변수에 하나씩 대입되며, `print()` 함수를 사용하여 각 값을 출력하는 방식입니다. 이 과정에서 Python의 `for`문이 반복적으로 데이터를 처리하는 방법을 이해할 수 있습니다.\n"
      ]
    },
    {
      "cell_type": "code",
      "execution_count": null,
      "id": "a89c82eb",
      "metadata": {
        "id": "a89c82eb"
      },
      "outputs": [],
      "source": [
        "numbers = [0, 1, 2, 3, 4]  # 리스트 생성\n",
        "\n",
        "for number in numbers:  # 리스트의 각 요소를 순차적으로 number 변수에 대입\n",
        "    print(number)  # number의 값을 출력"
      ]
    },
    {
      "cell_type": "markdown",
      "id": "b21dca62",
      "metadata": {
        "id": "b21dca62"
      },
      "source": [
        "- `for`문을 사용하여 리스트의 각 요소가 변수에 순차적으로 대입되는 원리를 학습하고, 이를 통해 각 요소를 출력하는 방법을 실습합니다.\n"
      ]
    },
    {
      "cell_type": "markdown",
      "id": "44709f67",
      "metadata": {
        "id": "44709f67"
      },
      "source": [
        "## 01-004 Python: range() 함수를 이용한 반복\n",
        "- 이 실습에서는 `range()` 함수를 사용하여 반복문을 구성하는 방법을 학습합니다. `range(5)`는 0부터 시작하여 5개의 숫자(0, 1, 2, 3, 4)를 생성합니다. `for`문에서 각 숫자가 `number` 변수에 순차적으로 대입되며, 이 변수의 값을 `print()` 함수를 통해 출력합니다. `range()` 함수는 특정 범위의 숫자를 반복할 때 매우 유용한 함수입니다.\n"
      ]
    },
    {
      "cell_type": "code",
      "execution_count": null,
      "id": "4f798d81",
      "metadata": {
        "id": "4f798d81"
      },
      "outputs": [],
      "source": [
        "# range() 함수를 사용한 반복문\n",
        "for number in range(5):  # 0부터 4까지의 숫자를 생성하여 number 변수에 대입\n",
        "    print(number)  # number의 값을 출력"
      ]
    },
    {
      "cell_type": "markdown",
      "id": "cbfc497c",
      "metadata": {
        "id": "cbfc497c"
      },
      "source": [
        "- `range()` 함수를 사용하여 지정된 범위 내의 숫자들을 생성하고, 이를 `for`문에서 사용하여 반복적으로 작업을 수행하는 방법을 실습합니다.\n"
      ]
    },
    {
      "cell_type": "markdown",
      "id": "85a2407e",
      "metadata": {
        "id": "85a2407e"
      },
      "source": [
        "## 01-005 Python: 함수의 기본 구조\n",
        "- 이 실습에서는 Python에서 함수를 정의하는 기본적인 구조를 학습합니다. 함수는 특정 작업을 수행하는 코드 블록이며, 매개변수를 통해 입력값을 받을 수 있습니다. `def` 키워드를 사용하여 함수를 정의하며, 함수의 이름과 매개변수 리스트를 지정합니다. 함수가 호출되면 지정된 코드가 실행되고, 필요한 경우 `return`을 사용하여 결과값을 반환할 수 있습니다. 반환값은 선택 사항입니다.\n"
      ]
    },
    {
      "cell_type": "code",
      "execution_count": null,
      "id": "5732817c",
      "metadata": {
        "id": "5732817c"
      },
      "outputs": [],
      "source": [
        "# 함수 정의 예시\n",
        "def 함수이름(매개변수1, 매개변수2):\n",
        "    # 실행할 코드\n",
        "    return 반환값  # 반환값은 선택 사항"
      ]
    },
    {
      "cell_type": "markdown",
      "id": "680979c0",
      "metadata": {
        "id": "680979c0"
      },
      "source": [
        "- Python에서 함수의 기본적인 정의 방법을 학습하고, 매개변수와 반환값의 개념을 이해합니다. 함수는 재사용 가능한 코드 블록으로, 프로그램 내에서 반복적으로 사용되는 작업을 캡슐화합니다.\n"
      ]
    },
    {
      "cell_type": "markdown",
      "id": "8f5d4be5",
      "metadata": {
        "id": "8f5d4be5"
      },
      "source": [
        "## 01-006 Python: 함수 정의 및 호출\n",
        "- 이 실습에서는 두 매개변수를 받아서 더한 값을 반환하는 간단한 함수를 정의하고 호출하는 방법을 학습합니다. `add` 함수는 두 매개변수 `a`와 `b`를 입력받아, 이 둘을 더한 값을 `return` 문을 통해 반환합니다. 이후, `add` 함수를 호출하여 `5`와 `3`을 인자로 전달한 후 결과값을 `print()`로 출력합니다.\n"
      ]
    },
    {
      "cell_type": "code",
      "execution_count": null,
      "id": "66eeb895",
      "metadata": {
        "id": "66eeb895"
      },
      "outputs": [],
      "source": [
        "# 두 값을 더하는 함수 정의\n",
        "def add(a, b):  # a와 b라는 두 매개변수를 받음\n",
        "    return a + b  # 두 값을 더한 결과를 반환\n",
        "\n",
        "# 함수 호출 및 결과 출력\n",
        "result = add(5, 3)  # add 함수를 호출하여 5와 3을 더한 결과를 반환받음\n",
        "print(result)  # 결과값 출력 -> 8"
      ]
    },
    {
      "cell_type": "markdown",
      "id": "639dc3e2",
      "metadata": {
        "id": "639dc3e2"
      },
      "source": [
        "- 매개변수를 사용하는 함수의 정의 방법과 함수 호출을 통해 값을 전달하고, 반환된 결과값을 출력하는 기본적인 함수 사용법을 실습합니다.\n"
      ]
    },
    {
      "cell_type": "markdown",
      "id": "87219767",
      "metadata": {
        "id": "87219767"
      },
      "source": [
        "## 01-007 Python: 기본 매개변수를 사용하는 함수\n",
        "- 이 실습에서는 함수 매개변수에 기본값을 설정하는 방법을 학습합니다. 함수의 매개변수에 기본값을 지정하면, 함수 호출 시 해당 매개변수를 생략해도 기본값이 사용됩니다. `welcome` 함수에서는 `name` 매개변수의 기본값을 'Guest'로 설정했으며, 이를 통해 매개변수가 전달되지 않으면 기본값으로 환영 메시지를 출력하고, 매개변수를 전달하면 그 값을 사용합니다.\n"
      ]
    },
    {
      "cell_type": "code",
      "execution_count": null,
      "id": "28650805",
      "metadata": {
        "id": "28650805"
      },
      "outputs": [],
      "source": [
        "# 기본 매개변수를 사용하는 함수 정의\n",
        "def welcome(name='Guest'):  # 기본값이 'Guest'인 매개변수 name\n",
        "    return f'Welcome {name}!'  # name 값을 사용해 환영 메시지 반환\n",
        "\n",
        "# 함수 호출 및 결과 출력\n",
        "print(welcome())  # 매개변수를 전달하지 않으면 기본값 'Guest'가 사용됨 -> 'Welcome Guest!'\n",
        "print(welcome('to AI Essential'))  # 'to AI Essential' 값을 전달 -> 'Welcome to AI Essential!'"
      ]
    },
    {
      "cell_type": "markdown",
      "id": "b9a93fd3",
      "metadata": {
        "id": "b9a93fd3"
      },
      "source": [
        "- 기본 매개변수를 설정하여 함수 호출 시 유연하게 매개변수를 처리하는 방법을 실습합니다. 매개변수를 생략하거나 값을 전달할 때 함수의 동작이 어떻게 달라지는지 이해할 수 있습니다.\n"
      ]
    },
    {
      "cell_type": "markdown",
      "id": "ce207703",
      "metadata": {
        "id": "ce207703"
      },
      "source": [
        "## 01-008 Python: 모듈 생성 및 사용\n",
        "- 이 실습에서는 Python에서 모듈을 생성하고 사용하는 방법을 학습합니다. `mymodule.py`라는 모듈을 생성하여 그 안에 두 개의 함수를 정의합니다. 모듈은 여러 함수나 클래스를 파일로 묶어서 재사용 가능한 코드를 만드는 방식입니다. 이때, `%%writefile` 매직 명령어는 Colab 환경에서 Python 코드를 파일로 저장할 때 사용됩니다. 이 명령어는 셀 안의 코드를 지정한 파일명으로 저장하는 역할을 합니다.\n"
      ]
    },
    {
      "cell_type": "code",
      "execution_count": null,
      "id": "914dee08",
      "metadata": {
        "id": "914dee08"
      },
      "outputs": [],
      "source": [
        "%%writefile mymodule.py\n",
        "# mymodule.py\n",
        "def welcome(name='Guest'):\n",
        "    return f'Welcome {name}!'  # 기본값을 사용하여 환영 메시지 반환\n",
        "\n",
        "def add(a, b):\n",
        "    return a + b  # 두 값을 더한 결과를 반환"
      ]
    },
    {
      "cell_type": "markdown",
      "id": "d1a3d228",
      "metadata": {
        "id": "d1a3d228"
      },
      "source": [
        "- `%%writefile` 명령어를 사용하여 Python 모듈을 생성하고, 모듈 안에 여러 함수를 정의하는 방법을 학습합니다. 모듈은 코드의 재사용성을 높이며, 별도의 파일로 나누어 관리할 수 있습니다.\n"
      ]
    },
    {
      "cell_type": "markdown",
      "id": "443334b1",
      "metadata": {
        "id": "443334b1"
      },
      "source": [
        "## 01-009 Python: 모듈을 사용하여 함수 호출하기\n",
        "- 이 실습에서는 Python 모듈을 `import`하여 그 안에 정의된 함수를 사용하는 방법을 학습합니다. 앞서 만든 `mymodule.py` 파일을 불러와서 `welcome` 함수와 `add` 함수를 호출합니다. Python에서는 모듈을 사용하여 코드를 재사용할 수 있으며, 모듈은 다른 파일에 정의된 함수나 클래스를 쉽게 불러와 사용할 수 있습니다.\n"
      ]
    },
    {
      "cell_type": "code",
      "execution_count": null,
      "id": "98747b62",
      "metadata": {
        "id": "98747b62"
      },
      "outputs": [],
      "source": [
        "# mymodule 모듈을 import\n",
        "import mymodule\n",
        "\n",
        "# 모듈 내 함수 호출\n",
        "print(mymodule.welcome('to AI Essential'))  # 'Welcome to AI Essential!' 출력\n",
        "print(mymodule.add(3, 5))  # 3 + 5 = 8 출력"
      ]
    },
    {
      "cell_type": "markdown",
      "id": "14460c2d",
      "metadata": {
        "id": "14460c2d"
      },
      "source": [
        "- `import` 키워드를 사용하여 모듈을 불러오고, 모듈 안에 정의된 함수를 호출하는 방법을 실습합니다. 모듈을 사용함으로써 코드의 재사용성과 유지보수가 개선됩니다.\n"
      ]
    },
    {
      "cell_type": "markdown",
      "id": "d48e9a29",
      "metadata": {
        "id": "d48e9a29"
      },
      "source": [
        "## 01-010 Python: 모듈을 별칭으로 불러오기\n",
        "- 이 실습에서는 모듈을 `import`할 때 별칭을 사용하는 방법을 학습합니다. `mymodule` 모듈을 `mm`이라는 짧은 이름으로 불러와 사용함으로써, 코드 작성 시 더 간결하게 모듈의 함수를 호출할 수 있습니다. `as` 키워드를 사용하여 모듈에 별칭을 지정할 수 있으며, 이렇게 하면 모듈 이름을 짧게 줄여 사용할 수 있습니다.\n"
      ]
    },
    {
      "cell_type": "code",
      "execution_count": null,
      "id": "b4d47074",
      "metadata": {
        "id": "b4d47074"
      },
      "outputs": [],
      "source": [
        "# mymodule 모듈을 별칭 'mm'으로 import\n",
        "import mymodule as mm\n",
        "\n",
        "# 모듈의 함수를 별칭을 사용하여 호출\n",
        "print(mm.welcome('to AI Essential'))  # 'Welcome to AI Essential!' 출력\n",
        "print(mm.add(3, 5))  # 3 + 5 = 8 출력"
      ]
    },
    {
      "cell_type": "markdown",
      "id": "8fb7e727",
      "metadata": {
        "id": "8fb7e727"
      },
      "source": [
        "- `import 모듈 as 별칭` 구문을 사용하여 모듈을 불러오고, 지정한 별칭으로 모듈의 함수를 호출하는 방법을 실습합니다. 이 방법은 긴 모듈 이름을 줄여서 간편하게 사용할 수 있는 장점이 있습니다.\n"
      ]
    },
    {
      "cell_type": "markdown",
      "id": "b0bc1b04",
      "metadata": {
        "id": "b0bc1b04"
      },
      "source": [
        "## 01-011 Python: 모듈에서 특정 함수만 불러오기\n",
        "- 이 실습에서는 `from 모듈 import 함수` 구문을 사용하여 모듈에서 특정 함수만 선택적으로 불러오는 방법을 학습합니다. `mymodule` 모듈에서 `welcome` 함수와 `add` 함수만을 가져와서 사용할 수 있습니다. 이를 통해 불필요한 함수나 모듈 전체를 불러오지 않고, 필요한 함수만을 선택적으로 사용할 수 있습니다.\n"
      ]
    },
    {
      "cell_type": "code",
      "execution_count": null,
      "id": "26fde30c",
      "metadata": {
        "id": "26fde30c"
      },
      "outputs": [],
      "source": [
        "# mymodule 모듈에서 특정 함수만 불러오기\n",
        "from mymodule import welcome, add\n",
        "\n",
        "# welcome 함수 호출\n",
        "print(welcome('to AI Essential'))  # 'Welcome to AI Essential!' 출력\n",
        "\n",
        "# add 함수 호출\n",
        "print(add(3, 5))  # 3 + 5 = 8 출력"
      ]
    },
    {
      "cell_type": "markdown",
      "id": "17c906bb",
      "metadata": {
        "id": "17c906bb"
      },
      "source": [
        "- `from 모듈 import 함수` 구문을 사용하여 특정 함수만을 불러와 사용하는 방법을 실습합니다. 모듈 전체를 불러오는 대신 필요한 함수만 가져와서 코드의 효율성을 높일 수 있습니다.\n"
      ]
    },
    {
      "cell_type": "markdown",
      "id": "6236a78c",
      "metadata": {
        "id": "6236a78c"
      },
      "source": [
        "---"
      ]
    },
    {
      "cell_type": "markdown",
      "id": "d542dc1c",
      "metadata": {
        "id": "d542dc1c"
      },
      "source": [
        "# 02. PyTorch Tensor"
      ]
    },
    {
      "cell_type": "markdown",
      "id": "949d1ba9",
      "metadata": {
        "id": "949d1ba9"
      },
      "source": [
        "## 02-001 PyTorch 라이브러리 임포트\n",
        "- 이 실습은 PyTorch 라이브러리를 임포트하여 이후의 계산 및 작업에서 사용할 수 있도록 준비합니다. PyTorch는 딥러닝을 위한 중요한 도구입니다.|\n"
      ]
    },
    {
      "cell_type": "code",
      "execution_count": null,
      "id": "07b52b21",
      "metadata": {
        "id": "07b52b21"
      },
      "outputs": [],
      "source": [
        "import torch  # PyTorch 라이브러리 임포트"
      ]
    },
    {
      "cell_type": "markdown",
      "id": "2f6b46ba",
      "metadata": {
        "id": "2f6b46ba"
      },
      "source": [
        "- PyTorch 라이브러리를 임포트하여 딥러닝과 과학 계산을 위한 환경을 설정하는 과정입니다.\n"
      ]
    },
    {
      "cell_type": "markdown",
      "id": "b76a7af4",
      "metadata": {
        "id": "b76a7af4"
      },
      "source": [
        "## 02-002 1D 텐서 생성 및 출력\n",
        "- 이 실습에서는 1차원 텐서를 생성하고 출력하는 방법을 학습합니다. torch.tensor() 함수를 사용하여 텐서를 생성하며, 이 함수는 다양한 형태의 텐서를 쉽게 만들 수 있습니다. 생성한 텐서는 바로 출력할 수 있습니다.\n"
      ]
    },
    {
      "cell_type": "code",
      "execution_count": null,
      "id": "8d79d288",
      "metadata": {
        "id": "8d79d288"
      },
      "outputs": [],
      "source": [
        "# 1차원 텐서를 생성 (값: 1.0, 2.0, 3.0)\n",
        "tensor_1d = torch.tensor([1.0, 2.0, 3.0])\n",
        "tensor_1d\n",
        "# 생성된 텐서를 출력 -> tensor([1., 2., 3.])"
      ]
    },
    {
      "cell_type": "markdown",
      "id": "166c9ee2",
      "metadata": {
        "id": "166c9ee2"
      },
      "source": [
        "- 1차원 텐서를 생성하고 이를 출력하는 방법을 실습합니다. 텐서는 딥러닝에서 데이터를 표현하는 기본 단위입니다.\n"
      ]
    },
    {
      "cell_type": "markdown",
      "id": "36ced722",
      "metadata": {
        "id": "36ced722"
      },
      "source": [
        "## 02-003 2D 텐서 생성 및 출력\n",
        "- 이 실습에서는 2차원 텐서를 생성하고 출력하는 방법을 학습합니다. 2D 텐서는 행렬을 나타내며, 딥러닝 및 과학적 계산에서 자주 사용됩니다. torch.tensor() 함수를 사용하여 2차원 텐서를 생성하고 이를 출력할 수 있습니다.\n"
      ]
    },
    {
      "cell_type": "code",
      "execution_count": null,
      "id": "10498645",
      "metadata": {
        "id": "10498645"
      },
      "outputs": [],
      "source": [
        "# 2차원 텐서를 생성 (값: [[1.0, 2.0], [3.0, 4.0]])\n",
        "tensor_2d = torch.tensor([[1.0, 2.0],\n",
        "                          [3.0, 4.0]])\n",
        "tensor_2d\n",
        "# 생성된 텐서를 출력 ->tensor([[1., 2.],\n",
        "#                           [3., 4.]])"
      ]
    },
    {
      "cell_type": "markdown",
      "id": "7b5528a7",
      "metadata": {
        "id": "7b5528a7"
      },
      "source": [
        "- 2차원 텐서를 생성하고 출력하는 과정을 실습합니다. 2D 텐서는 딥러닝에서 데이터나 파라미터를 행렬 형태로 저장하는 데 유용합니다.\n"
      ]
    },
    {
      "cell_type": "markdown",
      "id": "ad9d68bf",
      "metadata": {
        "id": "ad9d68bf"
      },
      "source": [
        "## 02-004 텐서를 GPU로 이동\n",
        "- 이 실습에서는 텐서를 GPU로 이동하는 방법을 다룹니다. 딥러닝 모델 학습 시 GPU를 사용하면 연산 속도가 크게 향상될 수 있습니다. 먼저 torch.cuda.is_available()로 GPU 사용 가능 여부를 확인한 후, 사용 가능하다면 to 함수를 이용하여 텐서를 GPU 메모리로 이동시킵니다.\n"
      ]
    },
    {
      "cell_type": "code",
      "execution_count": null,
      "id": "8b9ef0ec",
      "metadata": {
        "id": "8b9ef0ec"
      },
      "outputs": [],
      "source": [
        "device = 'cuda' if torch.cuda.is_available() else 'cpu' # GPU 사용 가능 여부 확인\n",
        "tensor_1d = tensor_1d.to(device)  # 1D 텐서 GPU로 이동\n",
        "tensor_1d.device"
      ]
    },
    {
      "cell_type": "markdown",
      "id": "06cd3dac",
      "metadata": {
        "id": "06cd3dac"
      },
      "source": [
        "- 이 실습은 텐서를 GPU로 이동하여 빠른 연산을 할 수 있도록 하는 방법을 보여줍니다. 이를 통해 GPU가 있는 환경에서의 효율적인 연산 처리가 가능합니다.\n"
      ]
    },
    {
      "cell_type": "markdown",
      "id": "c51de27b",
      "metadata": {
        "id": "c51de27b"
      },
      "source": [
        "## 02-005 텐서 생성 및 dtype 지정\n",
        "- 이 실습에서는 PyTorch 텐서를 생성하고, 생성 시 텐서의 데이터 타입(dtype)을 명시적으로 지정하는 방법을 학습합니다. dtype을 설정하면 텐서의 데이터 타입을 지정할 수 있으며, 이는 연산의 정확성과 성능에 영향을 미칩니다. 이 예제에서는 float64로 지정하여 높은 정밀도의 실수를 처리할 수 있도록 합니다.\n"
      ]
    },
    {
      "cell_type": "code",
      "execution_count": null,
      "id": "c6898393",
      "metadata": {
        "id": "c6898393"
      },
      "outputs": [],
      "source": [
        "tensor_1d = torch.tensor([1, 2, 3], dtype=torch.float64)  # dtype을 float64로 지정\n",
        "tensor_1d  # 텐서 출력 -> tensor([1., 2., 3.], dtype=torch.float64)"
      ]
    },
    {
      "cell_type": "code",
      "execution_count": null,
      "id": "0e3b7159",
      "metadata": {
        "id": "0e3b7159"
      },
      "outputs": [],
      "source": [
        "tensor_1d = tensor_1d.to(torch.int64)  # dtype을 int64로 지정\n",
        "tensor_1d  # 텐서 출력 -> tensor([1, 2, 3])"
      ]
    },
    {
      "cell_type": "markdown",
      "id": "b1df85e4",
      "metadata": {
        "id": "b1df85e4"
      },
      "source": [
        "- PyTorch 텐서를 생성하고, dtype을 설정하여 텐서의 데이터 타입을 명시적으로 지정하는 방법을 실습합니다. 이 과정은 데이터 타입을 정확히 제어해야 할 때 유용합니다.\n"
      ]
    },
    {
      "cell_type": "markdown",
      "id": "cc05520f",
      "metadata": {
        "id": "cc05520f"
      },
      "source": [
        "## 02-006 4차원 텐서의 2차원 변환\n",
        "- 이 실습에서는 4차원 텐서를 2차원 텐서로 변환하는 방법을 학습합니다. reshape() 메서드를 사용하여 (10, 64, 7, 7) 크기의 텐서를 (10, 3136) 크기의 2차원 텐서로 변경합니다. reshape()의 -1은 나머지 차원을 자동으로 계산하는 데 유용하며, 데이터의 구조를 변경할 때 많이 사용됩니다.\n"
      ]
    },
    {
      "cell_type": "code",
      "execution_count": null,
      "id": "36a8ebb0",
      "metadata": {
        "id": "36a8ebb0"
      },
      "outputs": [],
      "source": [
        "x = torch.randn(10, 64, 7, 7)  # 4차원 텐서 생성: (10, 64, 7, 7)\n",
        "x.shape"
      ]
    },
    {
      "cell_type": "code",
      "execution_count": null,
      "id": "aab8fdda",
      "metadata": {
        "id": "aab8fdda"
      },
      "outputs": [],
      "source": [
        "y = x.reshape(x.shape[0], -1)  # 텐서를 (10, 64 * 7 * 7)으로 변환, 즉 2차원 텐서로 변경\n",
        "# -1은 나머지 차원을 자동으로 계산하게 하여 (10, 3136)으로 변경\n",
        "y.shape  # y의 차원은 (10, 3136)"
      ]
    },
    {
      "cell_type": "markdown",
      "id": "064ab851",
      "metadata": {
        "id": "064ab851"
      },
      "source": [
        "- 4차원 텐서를 2차원 텐서로 변환하는 방법을 실습합니다. reshape() 함수는 데이터를 재구성하는 데 유용합니다.\n"
      ]
    },
    {
      "cell_type": "markdown",
      "id": "a8bd9f08",
      "metadata": {
        "id": "a8bd9f08"
      },
      "source": [
        "## 02-007 4차원 텐서의 차원 재배열\n",
        "- 이 실습에서는 4차원 텐서의 차원을 재배열하는 방법을 학습합니다. torch.permute() 메서드를 사용해 텐서의 차원 순서를 변경하여 (10, 28, 28, 3)에서 (10, 3, 28, 28)으로 바꿉니다. 이 방법은 이미지 처리와 같이 차원의 순서가 중요한 작업에서 유용합니다.\n"
      ]
    },
    {
      "cell_type": "code",
      "execution_count": null,
      "id": "ab076014",
      "metadata": {
        "id": "ab076014"
      },
      "outputs": [],
      "source": [
        "x = torch.randn(10, 28, 28, 3)  # 4차원 텐서 생성: (10, 28, 28, 3)\n",
        "y = x.permute(0, 3, 1, 2)  # 차원의 순서를 (10, 3, 28, 28)로 재배열\n",
        "y.shape  # y의 차원은 (10, 3, 28, 28)"
      ]
    },
    {
      "cell_type": "markdown",
      "id": "05bb13b2",
      "metadata": {
        "id": "05bb13b2"
      },
      "source": [
        "- 4차원 텐서의 차원을 재배열하는 방법을 실습합니다. permute() 함수는 차원 순서를 자유롭게 변경할 수 있어 다양한 데이터 전처리 작업에서 사용됩니다.\n"
      ]
    },
    {
      "cell_type": "markdown",
      "id": "cda3afe3",
      "metadata": {
        "id": "cda3afe3"
      },
      "source": [
        "## 02-008 1D 텐서에서 요소 선택\n",
        "- 이 실습에서는 1차원 텐서를 생성하고, 특정 요소를 선택하는 방법을 학습합니다. PyTorch 텐서에서 요소를 인덱스로 선택하는 방식은 Python 리스트와 유사하며, 0부터 시작하는 인덱스를 사용하여 요소를 참조할 수 있습니다. 예제에서는 첫 번째 요소인 tensor(10)을 선택합니다.\n"
      ]
    },
    {
      "cell_type": "code",
      "execution_count": null,
      "id": "9b8d3b0e",
      "metadata": {
        "id": "9b8d3b0e"
      },
      "outputs": [],
      "source": [
        "# 1D 텐서 생성\n",
        "tensor_1d = torch.tensor([10, 20, 30, 40])\n",
        "\n",
        "# 첫 번째 요소 선택 (Python 인덱스는 0부터 시작)\n",
        "print(tensor_1d[0]) # 출력: tensor(10)\n",
        "\n",
        "# 마지막 요소 선택\n",
        "print(tensor_1d[-1]) # 출력: tensor(40)"
      ]
    },
    {
      "cell_type": "markdown",
      "id": "1a021011",
      "metadata": {
        "id": "1a021011"
      },
      "source": [
        "- 1차원 텐서에서 인덱스를 사용해 특정 요소를 선택하는 방법을 실습합니다. 이는 텐서의 데이터를 조작하는 기본적인 방법입니다.\n"
      ]
    },
    {
      "cell_type": "markdown",
      "id": "633ce2af",
      "metadata": {
        "id": "633ce2af"
      },
      "source": [
        "## 02-009 2D 텐서에서 특정 요소 선택\n",
        "- 이 실습에서는 2차원 텐서에서 특정 행과 열의 요소를 선택하는 방법을 학습합니다. 인덱스를 사용하여 2D 텐서의 특정 위치에 접근할 수 있으며, Python에서 0부터 시작하는 인덱싱을 사용합니다. 예제에서는 첫 번째 행과 두 번째 열의 요소인 tensor(2)를 선택합니다.\n"
      ]
    },
    {
      "cell_type": "code",
      "execution_count": null,
      "id": "5133c8c0",
      "metadata": {
        "id": "5133c8c0"
      },
      "outputs": [],
      "source": [
        "# 2D 텐서 생성\n",
        "tensor_2d = torch.tensor([[1, 2, 3], [4, 5, 6], [7, 8, 9]])\n",
        "\n",
        "# 첫 번째 행, 두 번째 열 요소 선택\n",
        "print(tensor_2d[0, 1]) # 출력: tensor(2)\n",
        "\n",
        "\n",
        "# 마지막 행, 마지막 열 요소 선택\n",
        "print(tensor_2d[-1, -1])# 출력: tensor(9)"
      ]
    },
    {
      "cell_type": "markdown",
      "id": "3a619672",
      "metadata": {
        "id": "3a619672"
      },
      "source": [
        "- 2차원 텐서에서 특정 행과 열의 요소를 선택하는 방법을 실습합니다. 이를 통해 텐서의 원하는 데이터를 쉽게 접근하고 조작할 수 있습니다.\n"
      ]
    },
    {
      "cell_type": "markdown",
      "id": "ae8f685d",
      "metadata": {
        "id": "ae8f685d"
      },
      "source": [
        "## 02-010 1D 텐서에서 슬라이싱으로 요소 선택\n",
        "- 이 실습에서는 1차원 텐서에서 슬라이싱을 사용하여 요소를 선택하는 방법을 학습합니다. Python 리스트와 유사하게, PyTorch 텐서에서도 콜론(:)을 사용하여 특정 범위의 요소들을 선택할 수 있습니다. 예제에서는 처음부터 인덱스 3까지의 요소를 선택하여 tensor([10, 20, 30, 40])을 반환합니다.\n"
      ]
    },
    {
      "cell_type": "code",
      "execution_count": null,
      "id": "f92f4c7a",
      "metadata": {
        "id": "f92f4c7a"
      },
      "outputs": [],
      "source": [
        "# 1D 텐서 생성\n",
        "tensor_1d = torch.tensor([10, 20, 30, 40, 50])\n",
        "\n",
        "# 처음부터 인덱스 3까지의 요소 선택\n",
        "tensor_1d[:4]  # 출력: tensor([10, 20, 30, 40])"
      ]
    },
    {
      "cell_type": "markdown",
      "id": "1a0346db",
      "metadata": {
        "id": "1a0346db"
      },
      "source": [
        "- 슬라이싱을 사용하여 1차원 텐서에서 특정 범위의 요소를 선택하는 방법을 실습합니다. 이 방법은 텐서의 일부분을 쉽게 추출할 수 있어 유용합니다.\n"
      ]
    },
    {
      "cell_type": "markdown",
      "id": "7b7d3fd9",
      "metadata": {
        "id": "7b7d3fd9"
      },
      "source": [
        "## 02-011 2D 텐서에서 슬라이싱으로 요소 선택\n",
        "- 이 실습에서는 2차원 텐서에서 특정 요소를 슬라이싱을 통해 선택하는 방법을 학습합니다. PyTorch 텐서에서 행을 선택할 때, 첫 번째 인덱스로 행을 지정하고, 열의 모든 요소를 선택하기 위해 콜론(:)을 사용합니다. 예제에서는 첫 번째 행인 tensor([1, 2, 3])을 반환합니다.\n"
      ]
    },
    {
      "cell_type": "code",
      "execution_count": null,
      "id": "2369451c",
      "metadata": {
        "id": "2369451c"
      },
      "outputs": [],
      "source": [
        "# 2D 텐서 슬라이싱\n",
        "tensor_2d = torch.tensor([[1, 2, 3], [4, 5, 6], [7, 8, 9]])\n",
        "\n",
        "# 첫 번째 행 선택\n",
        "print(tensor_2d[0, :])  # 출력: tensor([1, 2, 3])\n",
        "\n",
        "# 첫 번째 열 선택\n",
        "print(tensor_2d[:, 0])  # 출력: tensor([1, 4, 7])"
      ]
    },
    {
      "cell_type": "markdown",
      "id": "b3b8b192",
      "metadata": {
        "id": "b3b8b192"
      },
      "source": [
        "- 2차원 텐서에서 특정 요소를 슬라이싱하여 선택하는 방법을 실습합니다. 이 방법은 텐서의 특정 행을 추출할 때 유용합니다.\n"
      ]
    },
    {
      "cell_type": "markdown",
      "id": "33f6a157",
      "metadata": {
        "id": "33f6a157"
      },
      "source": [
        "## 02-012 1D 텐서에서 특정 요소 수정\n",
        "- 이 실습에서는 1차원 텐서에서 특정 요소의 값을 수정하는 방법을 학습합니다. 인덱스를 사용하여 텐서의 특정 위치에 접근한 후, 해당 위치의 값을 새로운 값으로 변경할 수 있습니다. 또한 슬라이싱을 통해 여러 요소에 접근한 후, 해당 범위의 값을 새로운 값으로 변경할 수 있습니다. 예제에서는 인덱스 0 위치의 요소를 100으로 인덱스 1부터 3까지의 요소를 200, 300, 400으로 수정합니다.\n"
      ]
    },
    {
      "cell_type": "code",
      "execution_count": null,
      "id": "75430ea1",
      "metadata": {
        "id": "75430ea1"
      },
      "outputs": [],
      "source": [
        "# 1D 텐서 생성\n",
        "tensor = torch.tensor([10, 20, 30, 40, 50])\n",
        "\n",
        "# 인덱스 0 위치의 요소 수정\n",
        "tensor[0] = 100\n",
        "print(tensor)  # 출력: tensor([100,  20,  30,  40,  50])\n",
        "\n",
        "\n",
        "# 인덱스 1부터 3까지의 요소 수정\n",
        "tensor[1:4] = torch.tensor([200, 300, 400])\n",
        "print(tensor)  # 출력: tensor([100, 200, 300, 400,  50])"
      ]
    },
    {
      "cell_type": "markdown",
      "id": "6f0327a0",
      "metadata": {
        "id": "6f0327a0"
      },
      "source": [
        "- 슬라이싱을 사용해 1차원 텐서의 여러 요소를 동시에 수정하는 방법을 실습합니다. 이는 텐서의 일부 요소를 일괄적으로 변경할 때 유용합니다.\n"
      ]
    },
    {
      "cell_type": "markdown",
      "id": "15cfd829",
      "metadata": {
        "id": "15cfd829"
      },
      "source": [
        "## 02-013 2D 텐서에서 행의 값 수정\n",
        "- 이 실습에서는 2차원 텐서에서 특정 행의 값을 일괄적으로 수정하는 방법을 학습합니다. 슬라이싱을 사용해 첫 번째 행을 선택한 후, 그 값을 모두 0으로 변경합니다. 이와 같은 방법은 행 단위로 데이터를 갱신하거나 초기화할 때 유용합니다.\n"
      ]
    },
    {
      "cell_type": "code",
      "execution_count": null,
      "id": "019f0312",
      "metadata": {
        "id": "019f0312"
      },
      "outputs": [],
      "source": [
        "# 2D 텐서 생성\n",
        "tensor_2d = torch.tensor([[1, 2, 3], [4, 5, 6], [7, 8, 9]])\n",
        "\n",
        "# 첫 번째 행을 모두 0으로 수정\n",
        "tensor_2d[0, :] = 0\n",
        "print(tensor_2d)\n",
        "# 출력: tensor([[0, 0, 0],\n",
        "#               [4, 5, 6],\n",
        "#               [7, 8, 9]])"
      ]
    },
    {
      "cell_type": "markdown",
      "id": "dc196e7a",
      "metadata": {
        "id": "dc196e7a"
      },
      "source": [
        "- 2차원 텐서에서 특정 행의 값을 수정하는 방법을 실습합니다. 슬라이싱을 통해 텐서의 행 전체를 간편하게 변경할 수 있습니다.\n"
      ]
    },
    {
      "cell_type": "markdown",
      "id": "e7275851",
      "metadata": {
        "id": "e7275851"
      },
      "source": [
        "## 02-014 요소별 덧셈\n",
        "- 이 실습에서는 두 텐서의 요소별 덧셈을 수행하는 방법을 학습합니다. x와 y는 같은 크기의 텐서로, 각 요소끼리 더하여 새로운 텐서를 생성합니다. '+' 연산자를 사용하거나 torch.add() 함수를 사용할 수 있습니다.\n"
      ]
    },
    {
      "cell_type": "code",
      "execution_count": null,
      "id": "6caabde3",
      "metadata": {
        "id": "6caabde3"
      },
      "outputs": [],
      "source": [
        "# Tensor 생성\n",
        "x = torch.tensor([1, 2, 3])\n",
        "y = torch.tensor([4, 5, 6])\n",
        "\n",
        "# 요소별 덧셈\n",
        "add_result = x + y  # 또는 torch.add(x, y)\n",
        "add_result  # 출력: tensor([5, 7, 9])"
      ]
    },
    {
      "cell_type": "markdown",
      "id": "52e33e7d",
      "metadata": {
        "id": "52e33e7d"
      },
      "source": [
        "- 두 텐서의 같은 위치에 있는 요소끼리 더하는 요소별 덧셈을 실습합니다. 이는 텐서 간의 연산에서 자주 사용됩니다.\n"
      ]
    },
    {
      "cell_type": "markdown",
      "id": "af2ec1c4",
      "metadata": {
        "id": "af2ec1c4"
      },
      "source": [
        "## 02-015 브로드캐스팅을 통한 요소별 덧셈\n",
        "- 이 실습에서는 브로드캐스팅을 사용하여 텐서 간의 요소별 덧셈을 수행하는 방법을 학습합니다. 브로드캐스팅은 크기가 다른 텐서 간에 연산이 가능하도록 작은 텐서를 큰 텐서에 맞추어 확장하는 방식입니다. 예제에서는 2x3 텐서 x와 1x3 텐서 y 간의 덧셈을 수행하여 각 행에 y의 요소를 더합니다.\n"
      ]
    },
    {
      "cell_type": "code",
      "execution_count": null,
      "id": "f76fceb8",
      "metadata": {
        "id": "f76fceb8"
      },
      "outputs": [],
      "source": [
        "# Tensor 생성\n",
        "x = torch.tensor([[1, 2, 3], [4, 5, 6]])\n",
        "y = torch.tensor([1, 2, 3])\n",
        "\n",
        "# 브로드캐스팅을 통한 요소별 덧셈\n",
        "result = x + y\n",
        "result\n",
        "# 출력: tensor([[2, 4, 6],\n",
        "#               [5, 7, 9]])"
      ]
    },
    {
      "cell_type": "markdown",
      "id": "dd0a9d28",
      "metadata": {
        "id": "dd0a9d28"
      },
      "source": [
        "- 브로드캐스팅을 사용해 크기가 다른 텐서 간의 요소별 덧셈을 실습합니다. 이는 텐서 간의 연산에서 매우 유용한 기능입니다.\n"
      ]
    },
    {
      "cell_type": "markdown",
      "id": "9423ab79",
      "metadata": {
        "id": "9423ab79"
      },
      "source": [
        "## 02-016 텐서에서 최대값 구하기\n",
        "- 이 실습에서는 텐서에서 최대값을 구하는 방법을 학습합니다. torch.max() 함수를 사용하여 텐서 내에서 가장 큰 값을 찾을 수 있습니다.\n"
      ]
    },
    {
      "cell_type": "code",
      "execution_count": null,
      "id": "bfa81d77",
      "metadata": {
        "id": "bfa81d77"
      },
      "outputs": [],
      "source": [
        "# Tensor 생성\n",
        "x = torch.tensor([[7, 1, 3],[2, 8, 6],[4, 5, 9]])\n",
        "# tensor([[7, 1, 3],\n",
        "#         [2, 8, 6],\n",
        "#         [4, 5, 9]])\n",
        "\n",
        "# 모든 요소 중 최대값\n",
        "print(torch.max(x))  # 출력: tensor(9)\n",
        "\n",
        "# 특정 차원에서 최대값과 인덱스\n",
        "print(torch.max(x, dim=1))  # 출력 : torch.return_types.max(values=tensor([7, 8, 9]), indices=tensor([0, 1, 2]))\n",
        "\n",
        "# 두 Tensor간 원소별 최대 값 반환\n",
        "print(torch.max(x[0], x[1]))  # 출력 : tensor([7, 8, 6])"
      ]
    },
    {
      "cell_type": "markdown",
      "id": "46ae7e7f",
      "metadata": {
        "id": "46ae7e7f"
      },
      "source": [
        "- 텐서의 요소 중에서 최대값을 구하는 방법을 실습합니다.\n"
      ]
    },
    {
      "cell_type": "markdown",
      "id": "07581065",
      "metadata": {
        "id": "07581065"
      },
      "source": [
        "## 02-017  텐서에서 합계값 구하기\n",
        "- 이 실습에서는 텐서에서 합계값을 구하는 방법을 학습합니다. torch.sum() 함수를 사용하여 텐서 내에서 요소들의 합계 값을 계산할 수 있습니다.\n"
      ]
    },
    {
      "cell_type": "code",
      "execution_count": null,
      "id": "c1ce6c1f",
      "metadata": {
        "id": "c1ce6c1f"
      },
      "outputs": [],
      "source": [
        "# Tensor 생성\n",
        "x = torch.tensor([[7, 1, 3],[2, 8, 6],[4, 5, 9]])\n",
        "# tensor([[7, 1, 3],\n",
        "#         [2, 8, 6],\n",
        "#         [4, 5, 9]])\n",
        "\n",
        "# 모든 요소 합\n",
        "print(torch.sum(x))  # 출력: tensor(45)\n",
        "\n",
        "# 특정 차원 별 합\n",
        "print(torch.sum(x, dim=1))  # 출력 : tensor([11, 16, 18])"
      ]
    },
    {
      "cell_type": "markdown",
      "id": "4e6733b6",
      "metadata": {
        "id": "4e6733b6"
      },
      "source": [
        "- 텐서의 요소 중에서 합계값을 구하는 방법을 실습합니다.\n"
      ]
    },
    {
      "cell_type": "markdown",
      "id": "c06ec169",
      "metadata": {
        "id": "c06ec169"
      },
      "source": [
        "## 연습문제-02-001 1차원 텐서 생성\n",
        "- 부터 9까지의 1차원 텐서를 생성합니다.\n"
      ]
    },
    {
      "cell_type": "code",
      "execution_count": null,
      "id": "b7929006",
      "metadata": {
        "id": "b7929006"
      },
      "outputs": [],
      "source": [
        "# 1차원 텐서 tensor_1d을 0부터 9까지의 정수로 생성\n",
        "tensor_1d = torch.tensor([0,1,2,3,4,5,6,7,8,9])\n",
        "tensor_1d  # 생성된 텐서를 출력"
      ]
    },
    {
      "cell_type": "markdown",
      "id": "73cf76b3",
      "metadata": {
        "id": "73cf76b3"
      },
      "source": [
        "- 1차원 텐서를 생성하여 출력하는 방법을 실습합니다.\n"
      ]
    },
    {
      "cell_type": "markdown",
      "id": "8d76e327",
      "metadata": {
        "id": "8d76e327"
      },
      "source": [
        "## 연습문제-02-002 텐서 속성 확인\n",
        "- 생성된 텐서의 속성을 확인하는 방법을 실습합니다. 텐서의 데이터 타입, 장치, 형태를 알아보는 것은 중요한 과정입니다.\n"
      ]
    },
    {
      "cell_type": "code",
      "execution_count": null,
      "id": "5ca77035",
      "metadata": {
        "id": "5ca77035"
      },
      "outputs": [],
      "source": [
        "# 1차원 텐서 tensor_1d의 데이터 타입과 할당된 장치, 형태를 확인합니다.\n",
        "#  dtype, device, shape\n",
        "tensor_1d.dtype, tensor_1d.device, tensor_1d.shape"
      ]
    },
    {
      "cell_type": "markdown",
      "id": "d9330f15",
      "metadata": {
        "id": "d9330f15"
      },
      "source": [
        "- 텐서의 데이터 타입, 장치를 확인하는 방법을 실습합니다.\n"
      ]
    },
    {
      "cell_type": "markdown",
      "id": "58f8353e",
      "metadata": {
        "id": "58f8353e"
      },
      "source": [
        "## 연습문제-02-003 텐서의 크기 변경\n",
        "- reshape() 함수를 사용하여 텐서의 크기를 변경하는 방법을 실습합니다.\n"
      ]
    },
    {
      "cell_type": "code",
      "execution_count": null,
      "id": "d0a68e0a",
      "metadata": {
        "id": "d0a68e0a"
      },
      "outputs": [],
      "source": [
        "# 1차원 텐서 tensor_1d의 크기를 2x5로 변경\n",
        "tensor_2x5 = tensor_1d.reshape(2, 5)  # 1차원 텐서를 2x5 텐서로 변경\n",
        "tensor_2x5"
      ]
    },
    {
      "cell_type": "markdown",
      "id": "3c41f765",
      "metadata": {
        "id": "3c41f765"
      },
      "source": [
        "- reshape() 함수를 사용해 텐서의 크기를 변경하는지 실습합니다.\n"
      ]
    },
    {
      "cell_type": "markdown",
      "id": "7d6cbcf5",
      "metadata": {
        "id": "7d6cbcf5"
      },
      "source": [
        "## 연습문제-02-004 텐서에서 최대값과 위치 찾기\n",
        "- max() 함수를 사용하여 텐서에서 가장 큰 값을 찾는 방법을 실습합니다.\n"
      ]
    },
    {
      "cell_type": "code",
      "execution_count": null,
      "id": "ebcb6e6e",
      "metadata": {
        "id": "ebcb6e6e"
      },
      "outputs": [],
      "source": [
        "# 모든 요소 중 최대값\n",
        "print(torch.max(tensor_2x5))  # 출력: tensor(9)\n",
        "\n",
        "# 특정 차원에서 최대값과 인덱스\n",
        "print(torch.max(tensor_2x5, dim=1))  # 출력 : torch.return_types.max(values=tensor([4, 9]), indices=tensor([4, 4]))\n",
        "\n",
        "# 두 Tensor간 원소별 최대 값 반환\n",
        "print(torch.max(tensor_2x5[0], tensor_2x5[1]))  # 출력 : tensor([5, 6, 7, 8, 9])"
      ]
    },
    {
      "cell_type": "markdown",
      "id": "40b71162",
      "metadata": {
        "id": "40b71162"
      },
      "source": [
        "- ---\n"
      ]
    },
    {
      "cell_type": "markdown",
      "id": "77cd770e",
      "metadata": {
        "id": "77cd770e"
      },
      "source": [
        "# 03. 인공지능"
      ]
    },
    {
      "cell_type": "markdown",
      "id": "44497160",
      "metadata": {
        "id": "44497160"
      },
      "source": [
        "## 03-001 모듈 불러오기\n",
        "- 이 실습에서는 PyTorch와 JAEN 라이브러리에서 필요한 모듈을 임포트하는 과정을 학습합니다\n"
      ]
    },
    {
      "cell_type": "code",
      "execution_count": null,
      "id": "486cd89d",
      "metadata": {
        "id": "486cd89d"
      },
      "outputs": [],
      "source": [
        "%%capture\n",
        "!pip install JAEN -qU"
      ]
    },
    {
      "cell_type": "code",
      "execution_count": null,
      "id": "14274cac",
      "metadata": {
        "id": "14274cac"
      },
      "outputs": [],
      "source": [
        "# 모듈 설정\n",
        "import torch\n",
        "from JAEN.utils import plot_activation_function"
      ]
    },
    {
      "cell_type": "markdown",
      "id": "cc92090e",
      "metadata": {
        "id": "cc92090e"
      },
      "source": [
        "- PyTorch와 JAEN 패키지에서 필요한 모듈을 설정하고 활성화 함수 시각화 함수를 불러오는 과정을 실습합니다."
      ]
    },
    {
      "cell_type": "markdown",
      "id": "9167ac0b",
      "metadata": {
        "id": "9167ac0b"
      },
      "source": [
        "## 03-002 시그모이드 활성화 함수 구현 및 시각화\n",
        "- 이 실습에서는 시그모이드(sigmoid) 활성화 함수를 직접 구현하고, 해당 함수를 시각화하는 방법을 학습합니다. 시그모이드 함수는 입력값을 0과 1 사이의 값으로 변환하며, 뉴런의 활성화를 결정하는 데 사용됩니다. 이후, plot_activation_function() 함수를 사용하여 시그모이드 함수의 그래프를 시각화합니다.\n"
      ]
    },
    {
      "cell_type": "code",
      "execution_count": null,
      "id": "5fddd9b6",
      "metadata": {
        "id": "5fddd9b6"
      },
      "outputs": [],
      "source": [
        "def sigmoid(x):\n",
        "    return 1 / (1 + torch.exp(-x))\n",
        "\n",
        "plot_activation_function(sigmoid)\n",
        "plot_activation_function(torch.sigmoid)"
      ]
    },
    {
      "cell_type": "markdown",
      "id": "8d29f02b",
      "metadata": {
        "id": "8d29f02b"
      },
      "source": [
        "- 시그모이드 활성화 함수를 구현하고, 이를 시각화하는 과정을 실습합니다. 시그모이드 함수는 신경망에서 자주 사용되는 비선형 활성화 함수입니다.\n"
      ]
    },
    {
      "cell_type": "markdown",
      "id": "2792caa0",
      "metadata": {
        "id": "2792caa0"
      },
      "source": [
        "## 03-003 Tanh 활성화 함수 구현 및 시각화\n",
        "- 이 실습에서는 하이퍼볼릭 탄젠트(Tanh) 활성화 함수를 직접 구현하고, 이를 시각화하는 방법을 학습합니다. Tanh 함수는 입력값을 -1과 1 사이로 변환하며, 시그모이드 함수보다 기울기가 더 큰 비선형 활성화 함수입니다. 이후, plot_activation_function() 함수를 사용하여 Tanh 함수의 그래프를 시각화합니다.\n"
      ]
    },
    {
      "cell_type": "code",
      "execution_count": null,
      "id": "06be52dc",
      "metadata": {
        "id": "06be52dc"
      },
      "outputs": [],
      "source": [
        "def tanh(x):\n",
        "    return (torch.exp(x) - torch.exp(-x)) / (torch.exp(x) + torch.exp(-x))\n",
        "\n",
        "plot_activation_function(tanh)\n",
        "plot_activation_function(torch.tanh)"
      ]
    },
    {
      "cell_type": "markdown",
      "id": "d41ec48b",
      "metadata": {
        "id": "d41ec48b"
      },
      "source": [
        "- Tanh 활성화 함수를 구현하고, 이를 시각화하는 과정을 실습합니다. Tanh 함수는 신경망에서 자주 사용되는 비선형 활성화 함수로, 시그모이드 함수와 유사한 역할을 수행합니다.\n"
      ]
    },
    {
      "cell_type": "markdown",
      "id": "d3dda23e",
      "metadata": {
        "id": "d3dda23e"
      },
      "source": [
        "## 03-004 ReLU 활성화 함수 구현 및 시각화\n",
        "- 이 실습에서는 ReLU(Rectified Linear Unit) 활성화 함수를 직접 구현하고, 이를 시각화하는 방법을 학습합니다. ReLU 함수는 입력값이 0보다 작으면 0을 출력하고, 0보다 크면 그 값을 그대로 출력하는 함수입니다. ReLU는 현재 딥러닝에서 가장 널리 사용되는 활성화 함수 중 하나입니다. 이후, plot_activation_function() 함수를 사용하여 ReLU 함수의 그래프를 시각화합니다.\n"
      ]
    },
    {
      "cell_type": "code",
      "execution_count": null,
      "id": "6bf865f3",
      "metadata": {
        "id": "6bf865f3"
      },
      "outputs": [],
      "source": [
        "def relu(x):\n",
        "    return torch.max(torch.tensor(0.0), x)\n",
        "\n",
        "plot_activation_function(relu)\n",
        "plot_activation_function(torch.relu)"
      ]
    },
    {
      "cell_type": "markdown",
      "id": "faa7e62f",
      "metadata": {
        "id": "faa7e62f"
      },
      "source": [
        "- ReLU 활성화 함수를 구현하고, 이를 시각화하는 과정을 실습합니다. ReLU는 비선형성을 제공하며, 신경망 학습에서 중요한 역할을 합니다.\n"
      ]
    },
    {
      "cell_type": "markdown",
      "id": "30c0c12b",
      "metadata": {
        "id": "30c0c12b"
      },
      "source": [
        "## 03-005 Leaky ReLU 활성화 함수 구현 및 시각화\n",
        "- 이 실습에서는 Leaky ReLU 활성화 함수를 직접 구현하고, 이를 시각화하는 방법을 학습합니다. Leaky ReLU는 ReLU의 변형으로, 입력값이 0보다 작을 때도 작은 기울기(alpha 값)를 허용하여 죽은 뉴런 문제를 완화합니다. torch.where() 함수를 사용하여 양수일 때는 x를, 음수일 때는 alpha * x를 반환합니다.\n"
      ]
    },
    {
      "cell_type": "code",
      "execution_count": null,
      "id": "00c37fad",
      "metadata": {
        "id": "00c37fad"
      },
      "outputs": [],
      "source": [
        "def leaky_relu(x, alpha=0.01):\n",
        "    return torch.max(x, alpha * x)\n",
        "\n",
        "plot_activation_function(leaky_relu)\n",
        "plot_activation_function(torch.nn.functional.leaky_relu)"
      ]
    },
    {
      "cell_type": "markdown",
      "id": "b44f714f",
      "metadata": {
        "id": "b44f714f"
      },
      "source": [
        "- Leaky ReLU 활성화 함수를 구현하고, 이를 시각화하는 과정을 실습합니다. Leaky ReLU는 ReLU 함수의 단점을 보완한 활성화 함수로, 기울기 소실 문제를 줄이는 데 유용합니다.\n"
      ]
    },
    {
      "cell_type": "markdown",
      "id": "c096a575",
      "metadata": {
        "id": "c096a575"
      },
      "source": [
        "## 03-006 ELU 활성화 함수 구현 및 시각화\n",
        "- 이 실습에서는 ELU(Exponential Linear Unit) 활성화 함수를 구현하고, 이를 시각화하는 방법을 학습합니다. ELU 함수는 ReLU와 유사하지만, 음수 값에 대해서는 exponential 함수를 사용해 부드러운 곡선을 제공합니다. alpha는 음수 구간에서의 기울기를 조정하는 매개변수입니다. torch.where()를 사용해 양수일 때는 x를, 음수일 때는 alpha * (torch.exp(x) 1)을 반환합니다.\n"
      ]
    },
    {
      "cell_type": "code",
      "execution_count": null,
      "id": "1edf01db",
      "metadata": {
        "id": "1edf01db"
      },
      "outputs": [],
      "source": [
        "def elu(x, alpha=1.0):\n",
        "    return torch.where(x > 0, x, alpha * (torch.exp(x) - 1))\n",
        "\n",
        "plot_activation_function(elu)\n",
        "plot_activation_function(torch.nn.functional.elu)"
      ]
    },
    {
      "cell_type": "markdown",
      "id": "6cc6f1ce",
      "metadata": {
        "id": "6cc6f1ce"
      },
      "source": [
        "- ELU 활성화 함수를 구현하고, 이를 시각화하는 과정을 실습합니다. ELU는 음수 구간에서 더 부드러운 비선형성을 제공하여 신경망 학습에서 유용하게 사용됩니다.\n"
      ]
    },
    {
      "cell_type": "markdown",
      "id": "026fc906",
      "metadata": {
        "id": "026fc906"
      },
      "source": [
        "## 03-007 requires_grad=True로 설정된 텐서 생성\n",
        "- 이 실습에서는 텐서 생성 시 requires_grad=True로 설정하여 해당 텐서의 연산에 대한 기울기를 자동으로 계산하도록 지정하는 방법을 학습합니다. 이 설정을 통해 텐서가 연산 그래프에서 기울기(gradient)를 추적하게 되어 역전파(backpropagation)를 수행할 수 있습니다.\n"
      ]
    },
    {
      "cell_type": "code",
      "execution_count": null,
      "id": "b3cbd33e",
      "metadata": {
        "id": "b3cbd33e"
      },
      "outputs": [],
      "source": [
        "# requires_grad=True로 설정된 텐서 생성\n",
        "x = torch.tensor([2.0, 3.0], requires_grad=True)\n",
        "x"
      ]
    },
    {
      "cell_type": "markdown",
      "id": "e45d1191",
      "metadata": {
        "id": "e45d1191"
      },
      "source": [
        "- requires_grad=True 옵션을 사용하여 기울기 계산이 가능한 텐서를 생성하는 과정을 실습합니다. 이 옵션은 신경망 학습 과정에서 매우 중요한 역할을 합니다.\n"
      ]
    },
    {
      "cell_type": "markdown",
      "id": "6e44a858",
      "metadata": {
        "id": "6e44a858"
      },
      "source": [
        "## 03-008 텐서의 연산 및 역전파 수행\n",
        "- 이 실습에서는 텐서의 연산과 역전파를 수행하는 방법을 학습합니다. 텐서 x에 대해 제곱 연산을 수행하여 y를 구하고, y의 요소를 합산하여 z를 계산합니다. 이후, z.backward()를 호출하여 역전파를 수행하고, 텐서 x에 대한 기울기를 계산합니다.\n"
      ]
    },
    {
      "cell_type": "code",
      "execution_count": null,
      "id": "9d153c6c",
      "metadata": {
        "id": "9d153c6c"
      },
      "outputs": [],
      "source": [
        "# 텐서의 연산\n",
        "y = x ** 2  # y = [4, 9]\n",
        "z = y.sum()  # z = 13\n",
        "\n",
        "# 역전파 수행\n",
        "z.backward()"
      ]
    },
    {
      "cell_type": "markdown",
      "id": "d9095f99",
      "metadata": {
        "id": "d9095f99"
      },
      "source": [
        "- 텐서의 연산을 수행한 후, 역전파를 통해 기울기 계산을 수행하는 과정을 실습합니다. 역전파는 신경망 학습에서 기울기 업데이트에 중요한 역할을 합니다.\n"
      ]
    },
    {
      "cell_type": "markdown",
      "id": "13743e17",
      "metadata": {
        "id": "13743e17"
      },
      "source": [
        "## 03-009 텐서의 기울기(gradient) 계산\n",
        "- 이 실습에서는 텐서 x에 대한 기울기(gradient)를 계산하는 방법을 학습합니다. z에 대해 역전파를 수행한 후, x.grad를 사용하여 z가 x에 대해 어떻게 변화하는지(편미분)를 계산합니다. 여기서 x1과 x2 각각에 대해 편미분한 결과는 tensor([4., 6.])입니다.\n"
      ]
    },
    {
      "cell_type": "code",
      "execution_count": null,
      "id": "74a3843d",
      "metadata": {
        "id": "74a3843d"
      },
      "outputs": [],
      "source": [
        "# x에 대한 z의 그래디언트 (z가 x에 대해 어떻게 변화하는지를 계산, 편미분 수행)\n",
        "x.grad  # 출력: tensor([4., 6.])\n",
        "\n",
        "# z = x1^2 + x2^2\n",
        "# dz/dx1 = 2 * x1 = 2 * 2 = 4\n",
        "# dz/dx2 = 2 * x2 = 2 * 3 = 6"
      ]
    },
    {
      "cell_type": "markdown",
      "id": "dd2ebf52",
      "metadata": {
        "id": "dd2ebf52"
      },
      "source": [
        "- 텐서의 기울기를 계산하고, 각 변수에 대한 편미분 결과를 확인하는 과정을 실습합니다. 기울기 계산은 신경망 학습에서 손실 함수의 변화를 분석하는 데 중요한 역할을 합니다.\n"
      ]
    },
    {
      "cell_type": "markdown",
      "id": "a0f33a2c",
      "metadata": {
        "id": "a0f33a2c"
      },
      "source": [
        "## 03-010 DataLoader와 Dataset 모듈 임포트\n",
        "- 이 실습에서는 PyTorch의 DataLoader와 Dataset 모듈을 임포트하는 방법을 학습합니다. Dataset은 사용자 정의 데이터셋을 만들기 위한 기본 클래스이고, DataLoader는 이 데이터셋을 배치 단위로 로드하는 데 사용됩니다. 이 두 모듈은 대규모 데이터 처리를 효율적으로 수행할 수 있도록 도와줍니다.\n"
      ]
    },
    {
      "cell_type": "code",
      "execution_count": null,
      "id": "ee2d3d24",
      "metadata": {
        "id": "ee2d3d24"
      },
      "outputs": [],
      "source": [
        "import torch\n",
        "from torch.utils.data import DataLoader, Dataset"
      ]
    },
    {
      "cell_type": "markdown",
      "id": "a29ad00a",
      "metadata": {
        "id": "a29ad00a"
      },
      "source": [
        "- PyTorch의 데이터 처리를 위한 기본 모듈인 DataLoader와 Dataset을 임포트하는 과정을 실습합니다. 이를 통해 효율적인 데이터 로딩과 배치 처리를 수행할 수 있습니다.\n"
      ]
    },
    {
      "cell_type": "markdown",
      "id": "c6e58fb1",
      "metadata": {
        "id": "c6e58fb1"
      },
      "source": [
        "## 03-011 커스텀 데이터셋 클래스 구현\n",
        "- 이 실습에서는 PyTorch의 Dataset 클래스를 상속하여 커스텀 데이터셋을 만드는 방법을 학습합니다. CustomDataset 클래스는 데이터와 레이블을 받아 저장하고, __len__() 메서드는 데이터셋의 크기를 반환하며, __getitem__() 메서드는 인덱스에 해당하는 데이터를 반환합니다. 이를 통해 사용자는 자신만의 데이터셋을 정의하고 DataLoader로 쉽게 처리할 수 있습니다.\n"
      ]
    },
    {
      "cell_type": "code",
      "execution_count": null,
      "id": "03b6b22d",
      "metadata": {
        "id": "03b6b22d"
      },
      "outputs": [],
      "source": [
        "class CustomDataset(Dataset):\n",
        "    def __init__(self, data, labels):\n",
        "        self.data = data\n",
        "        self.labels = labels\n",
        "\n",
        "    def __len__(self):\n",
        "        return len(self.data)\n",
        "\n",
        "    def __getitem__(self, idx):\n",
        "        x = self.data[idx]\n",
        "        y = self.labels[idx]\n",
        "        return x, y"
      ]
    },
    {
      "cell_type": "markdown",
      "id": "fe060d5c",
      "metadata": {
        "id": "fe060d5c"
      },
      "source": [
        "- Dataset 클래스를 상속하여 커스텀 데이터셋을 정의하는 과정을 실습합니다. 이 과정은 맞춤형 데이터셋을 PyTorch 모델에 전달할 때 유용합니다.\n"
      ]
    },
    {
      "cell_type": "markdown",
      "id": "3afef532",
      "metadata": {
        "id": "3afef532"
      },
      "source": [
        "## 03-012 커스텀 데이터셋과 DataLoader 생성\n",
        "- 이 실습에서는 예시 데이터를 사용하여 커스텀 데이터셋과 DataLoader를 생성하는 방법을 학습합니다. 100개의 샘플로 구성된 3차원 벡터 데이터를 생성하고, 이에 대응하는 이진 레이블을 만듭니다. 그런 다음, CustomDataset 클래스를 사용하여 데이터셋을 만들고, DataLoader를 통해 데이터를 배치 단위로 로드할 수 있도록 설정합니다.\n"
      ]
    },
    {
      "cell_type": "code",
      "execution_count": null,
      "id": "cafe5b85",
      "metadata": {
        "id": "cafe5b85"
      },
      "outputs": [],
      "source": [
        "# 예시 데이터\n",
        "data = torch.randn(100, 3)  # 100개의 샘플, 각 샘플은 3차원 벡터\n",
        "labels = torch.randint(0, 2, (100,))  # 이진 분류를 위한 100개의 레이블\n",
        "\n",
        "# 데이터셋 및 DataLoader 생성\n",
        "dataset = CustomDataset(data, labels)\n",
        "dataloader = DataLoader(dataset, batch_size=3)"
      ]
    },
    {
      "cell_type": "markdown",
      "id": "2f1e75b0",
      "metadata": {
        "id": "2f1e75b0"
      },
      "source": [
        "- 예시 데이터를 사용해 커스텀 데이터셋과 DataLoader를 생성하고, 데이터를 배치 단위로 로드하는 과정을 실습합니다. 이 과정은 대규모 데이터셋을 효율적으로 처리할 때 필수적입니다.\n"
      ]
    },
    {
      "cell_type": "markdown",
      "id": "2c8ded2a",
      "metadata": {
        "id": "2c8ded2a"
      },
      "source": [
        "## 03-013 DataLoader에서 배치 조회\n",
        "- 이 실습에서는 DataLoader에서 로드된 데이터를 배치 단위로 조회하는 방법을 학습합니다. DataLoader를 리스트로 변환하여 각 배치를 확인할 수 있으며, 첫 번째 배치를 조회하여 해당 배치의 데이터와 레이블을 확인합니다. 이를 통해 데이터셋에서 배치 단위로 데이터를 쉽게 가져올 수 있습니다.\n"
      ]
    },
    {
      "cell_type": "code",
      "execution_count": null,
      "id": "1ccce4e9",
      "metadata": {
        "id": "1ccce4e9"
      },
      "outputs": [],
      "source": [
        "# DataLoader에서 모든 배치를 리스트로 변환\n",
        "all_batches = list(dataloader)\n",
        "batch_data, batch_labels = all_batches[0]  # 첫번째 배치 조회\n",
        "batch_data, batch_labels"
      ]
    },
    {
      "cell_type": "markdown",
      "id": "ec7e12cb",
      "metadata": {
        "id": "ec7e12cb"
      },
      "source": [
        "- DataLoader에서 로드된 데이터를 배치 단위로 조회하고, 첫 번째 배치의 데이터를 확인하는 과정을 실습합니다. 배치 처리는 신경망 학습에서 중요한 역할을 합니다.\n"
      ]
    },
    {
      "cell_type": "markdown",
      "id": "cc522b27",
      "metadata": {
        "id": "cc522b27"
      },
      "source": [
        "## 03-014 DataLoader에서 마지막 배치 조회\n",
        "- 이 실습에서는 DataLoader에서 마지막 배치를 조회하는 방법을 학습합니다. 리스트의 음수 인덱스를 사용하여 마지막 배치를 가져올 수 있으며, 이를 통해 해당 배치의 데이터와 레이블을 확인할 수 있습니다. 마지막 배치는 전체 데이터셋의 크기와 배치 크기에 따라 일부 요소만 포함될 수 있습니다.\n"
      ]
    },
    {
      "cell_type": "code",
      "execution_count": null,
      "id": "32013660",
      "metadata": {
        "id": "32013660"
      },
      "outputs": [],
      "source": [
        "batch_data, batch_labels = all_batches[-1]  # 마지막 배치 조회\n",
        "batch_data, batch_labels"
      ]
    },
    {
      "cell_type": "markdown",
      "id": "5a74ab24",
      "metadata": {
        "id": "5a74ab24"
      },
      "source": [
        "- DataLoader에서 마지막 배치를 조회하고, 해당 배치의 데이터를 확인하는 과정을 실습합니다. 이는 배치 처리에서 특정한 위치의 데이터를 조회할 때 유용합니다.\n"
      ]
    },
    {
      "cell_type": "markdown",
      "id": "5d3ffb12",
      "metadata": {
        "id": "5d3ffb12"
      },
      "source": [
        "## 03-015 DataLoader에서 변경된 배치 크기로 마지막 배치 조회\n",
        "- 이 실습에서는 DataLoader의 배치 크기를 변경한 후, 마지막 배치를 조회하는 방법을 학습합니다. 배치 크기를 7로 설정하여 DataLoader에서 데이터를 로드한 뒤, 마지막 배치를 확인합니다. 변경된 배치 크기는 전체 데이터셋을 나누는 방식에 영향을 미치며, 마지막 배치의 크기는 나머지 데이터에 따라 달라질 수 있습니다.\n"
      ]
    },
    {
      "cell_type": "code",
      "execution_count": null,
      "id": "060fe649",
      "metadata": {
        "id": "060fe649"
      },
      "outputs": [],
      "source": [
        "dataloader = DataLoader(dataset, batch_size=7)\n",
        "all_batches = list(dataloader)\n",
        "batch_data, batch_labels = all_batches[-1]  # 마지막 배치 조회\n",
        "batch_data, batch_labels"
      ]
    },
    {
      "cell_type": "markdown",
      "id": "2a2a4bb6",
      "metadata": {
        "id": "2a2a4bb6"
      },
      "source": [
        "- DataLoader의 배치 크기를 변경한 후, 마지막 배치를 조회하여 해당 데이터를 확인하는 과정을 실습합니다. 이는 배치 크기에 따른 데이터 처리의 변화를 이해하는 데 유용합니다.\n"
      ]
    },
    {
      "cell_type": "markdown",
      "id": "191fb1ce",
      "metadata": {
        "id": "191fb1ce"
      },
      "source": [
        "## 03-016 셔플된 DataLoader에서 마지막 배치 조회\n",
        "- 이 실습에서는 DataLoader에서 데이터를 셔플한 후 마지막 배치를 조회하는 방법을 학습합니다. DataLoader의 shuffle=True 옵션을 사용하여 데이터를 무작위로 섞은 뒤, 배치 크기를 7로 설정하여 데이터를 로드합니다. 이후, 마지막 배치를 조회하여 셔플된 데이터가 제대로 처리되는지 확인합니다.\n"
      ]
    },
    {
      "cell_type": "code",
      "execution_count": null,
      "id": "9eb974fe",
      "metadata": {
        "id": "9eb974fe"
      },
      "outputs": [],
      "source": [
        "dataloader = DataLoader(dataset, batch_size=7, shuffle=True)\n",
        "all_batches = list(dataloader)\n",
        "batch_data, batch_labels = all_batches[-1]  # 마지막 배치 조회\n",
        "batch_data, batch_labels"
      ]
    },
    {
      "cell_type": "markdown",
      "id": "156542e1",
      "metadata": {
        "id": "156542e1"
      },
      "source": [
        "- 셔플된 DataLoader에서 마지막 배치를 조회하여 데이터를 확인하는 과정을 실습합니다. 셔플은 모델 학습 시 데이터의 순서에 의한 편향을 줄이는 데 유용합니다.\n"
      ]
    },
    {
      "cell_type": "markdown",
      "id": "18b82ae0",
      "metadata": {
        "id": "18b82ae0"
      },
      "source": [
        "## 03-017 마지막 배치를 버리는 DataLoader에서 마지막 배치 조회\n",
        "- 이 실습에서는 DataLoader에서 배치 크기에 맞지 않는 마지막 배치를 버린 후 남은 마지막 배치를 조회하는 방법을 학습합니다. drop_last=True 옵션을 사용하여 전체 데이터셋에서 남는 데이터가 있을 경우 이를 버리고, 나머지 데이터를 배치로 처리하지 않도록 설정합니다. 이후, 마지막 배치를 조회하여 데이터를 확인합니다.\n"
      ]
    },
    {
      "cell_type": "code",
      "execution_count": null,
      "id": "513c2187",
      "metadata": {
        "id": "513c2187"
      },
      "outputs": [],
      "source": [
        "dataloader = DataLoader(dataset, batch_size=7, shuffle=True, drop_last=True)\n",
        "all_batches = list(dataloader)\n",
        "batch_data, batch_labels = all_batches[-1]  # 마지막 배치 조회\n",
        "batch_data, batch_labels"
      ]
    },
    {
      "cell_type": "markdown",
      "id": "4ec646d4",
      "metadata": {
        "id": "4ec646d4"
      },
      "source": [
        "- DataLoader에서 drop_last=True 옵션을 사용하여 마지막 남은 데이터를 버린 후, 남은 마지막 배치를 조회하는 과정을 실습합니다. 이는 특정 배치 크기에 맞추어 데이터를 균일하게 처리할 때 유용합니다.\n"
      ]
    },
    {
      "cell_type": "markdown",
      "id": "6430f480",
      "metadata": {
        "id": "6430f480"
      },
      "source": [
        "## 연습문제-03-001 커스텀 데이터셋과 DataLoader 생성\n",
        "- 이 실습에서는 150개의 샘플과 3개의 클래스 레이블을 가진 새로운 랜덤 데이터를 사용하여 커스텀 데이터셋을 생성하고, DataLoader를 설정하는 방법을 학습합니다. 데이터셋은 4차원 벡터로 구성되며, 이 데이터를 DataLoader를 통해 배치 단위로 처리할 수 있습니다.\n"
      ]
    },
    {
      "cell_type": "code",
      "execution_count": null,
      "id": "e3cce9b0",
      "metadata": {
        "id": "e3cce9b0"
      },
      "outputs": [],
      "source": [
        "# 새로운 랜덤 데이터 생성\n",
        "data = torch.randn(150, 4)  # 150개의 샘플, 각 샘플은 4차원 벡터\n",
        "labels = torch.randint(0, 3, (150,))  # 3개의 클래스로 분류되는 150개의 레이블\n",
        "\n",
        "# 커스텀 데이터셋과 DataLoader 생성\n",
        "# 커스텀 데이터셋 클래스는 03-019 재활용\n",
        "dataset = CustomDataset(data, labels)\n",
        "\n",
        "# 미니 배치 크기는 5\n",
        "dataloader = DataLoader(dataset, batch_size=5)"
      ]
    },
    {
      "cell_type": "markdown",
      "id": "03ff2f35",
      "metadata": {
        "id": "03ff2f35"
      },
      "source": [
        "- 새로운 랜덤 데이터를 사용해 커스텀 데이터셋과 DataLoader를 생성하고, 데이터를 배치 단위로 로드하는 방법을 실습합니다.\n"
      ]
    },
    {
      "cell_type": "markdown",
      "id": "80083330",
      "metadata": {
        "id": "80083330"
      },
      "source": [
        "## 연습문제-03-002 DataLoader에서 배치 조회\n",
        "- 이 실습에서는 새로운 랜덤 데이터로 생성한 DataLoader에서 첫 번째 배치를 조회하는 방법을 학습합니다. 리스트로 변환된 DataLoader에서 첫 번째 배치의 데이터를 가져와 출력합니다.\n"
      ]
    },
    {
      "cell_type": "code",
      "execution_count": null,
      "id": "1a84f9a3",
      "metadata": {
        "id": "1a84f9a3"
      },
      "outputs": [],
      "source": [
        "# DataLoader에서 모든 배치를 리스트로 변환\n",
        "all_batches = list(dataloader)\n",
        "\n",
        "# 첫 번째 배치 조회\n",
        "batch_data, batch_labels = all_batches[0]  # 첫번째 배치의 데이터와 레이블 조회\n",
        "batch_data, batch_labels"
      ]
    },
    {
      "cell_type": "markdown",
      "id": "db5a44cc",
      "metadata": {
        "id": "db5a44cc"
      },
      "source": [
        "- DataLoader에서 새로운 랜덤 데이터를 사용하여 첫 번째 배치의 데이터를 확인하는 방법을 실습합니다.\n"
      ]
    },
    {
      "cell_type": "markdown",
      "id": "0a286c54",
      "metadata": {
        "id": "0a286c54"
      },
      "source": [
        "## 연습문제-03-003 DataLoader에서 마지막 배치 조회 (새로운 배치 크기)\n",
        "- 이 실습에서는 DataLoader의 배치 크기를 7로 설정하여 마지막 배치를 조회하는 방법을 학습합니다. 배치 크기가 변경됨에 따라 마지막 배치의 데이터가 어떻게 구성되는지 확인합니다.\n"
      ]
    },
    {
      "cell_type": "code",
      "execution_count": null,
      "id": "57d86325",
      "metadata": {
        "id": "57d86325"
      },
      "outputs": [],
      "source": [
        "# DataLoader에서 배치 크기를 7로 설정\n",
        "dataloader = DataLoader(dataset, batch_size=7)\n",
        "\n",
        "# DataLoader에서 마지막 배치 조회\n",
        "all_batches = list(dataloader)\n",
        "batch_data, batch_labels = all_batches[-1]  # 마지막 배치의 데이터와 레이블 조회\n",
        "batch_data, batch_labels"
      ]
    },
    {
      "cell_type": "markdown",
      "id": "c6cfe10e",
      "metadata": {
        "id": "c6cfe10e"
      },
      "source": [
        "- 배치 크기를 7로 설정한 DataLoader에서 마지막 배치를 조회하는 방법을 실습합니다.\n"
      ]
    },
    {
      "cell_type": "markdown",
      "id": "2a64291e",
      "metadata": {
        "id": "2a64291e"
      },
      "source": [
        "## 연습문제-03-004 셔플된 DataLoader에서 마지막 배치 조회\n",
        "- 이 실습에서는 DataLoader에서 데이터를 셔플한 후 마지막 배치를 조회하는 방법을 학습합니다. shuffle=True 옵션을 사용하여 데이터를 무작위로 섞어 로드하고, 마지막 배치를 조회하여 셔플된 데이터를 확인합니다.\n"
      ]
    },
    {
      "cell_type": "code",
      "execution_count": null,
      "id": "cf094a3a",
      "metadata": {
        "id": "cf094a3a"
      },
      "outputs": [],
      "source": [
        "# DataLoader에서 shuffle=True로 설정하여 셔플된 데이터 로드\n",
        "dataloader = DataLoader(dataset, batch_size=7, shuffle=True)\n",
        "\n",
        "# 셔플된 DataLoader에서 마지막 배치 조회\n",
        "all_batches = list(dataloader)\n",
        "batch_data, batch_labels = all_batches[-1]  # 마지막 배치의 데이터와 레이블 조회\n",
        "batch_data, batch_labels"
      ]
    },
    {
      "cell_type": "markdown",
      "id": "5802f163",
      "metadata": {
        "id": "5802f163"
      },
      "source": [
        "- 셔플된 DataLoader에서 마지막 배치를 조회하여 데이터를 확인하는 과정을 실습합니다.\n"
      ]
    },
    {
      "cell_type": "markdown",
      "id": "5f36334e",
      "metadata": {
        "id": "5f36334e"
      },
      "source": [
        "## 연습문제-03-005 drop_last가 설정된 DataLoader에서 마지막 배치 조회\n",
        "- 이 실습에서는 drop_last=True로 설정된 DataLoader에서 마지막 배치를 조회하는 방법을 학습합니다.\n"
      ]
    },
    {
      "cell_type": "code",
      "execution_count": null,
      "id": "19943cf6",
      "metadata": {
        "id": "19943cf6"
      },
      "outputs": [],
      "source": [
        "# DataLoader에서 batch_size=7, shuffle=True, drop_last=True로 설정하여 셔플된 데이터 로드\n",
        "dataloader = DataLoader(dataset, batch_size=7, shuffle=True, drop_last=True)\n",
        "\n",
        "# 셔플된 DataLoader에서 마지막 배치 조회\n",
        "all_batches = list(dataloader)\n",
        "batch_data, batch_labels = all_batches[-1]  # 마지막 배치의 데이터와 레이블 조회\n",
        "batch_data, batch_labels"
      ]
    },
    {
      "cell_type": "markdown",
      "id": "83bf4c07",
      "metadata": {
        "id": "83bf4c07"
      },
      "source": [
        "- 데이터 개수가 배치 사이즈보다 적은 경우 해당 배치를 삭제하는 DataLoader에서 마지막 배치를 조회하고, 데이터를 확인하는 방법을 실습합니다.\n"
      ]
    }
  ],
  "metadata": {
    "kernelspec": {
      "display_name": "Python 3 (ipykernel)",
      "language": "python",
      "name": "python3"
    },
    "language_info": {
      "codemirror_mode": {
        "name": "ipython",
        "version": 3
      },
      "file_extension": ".py",
      "mimetype": "text/x-python",
      "name": "python",
      "nbconvert_exporter": "python",
      "pygments_lexer": "ipython3",
      "version": "3.10.16"
    },
    "colab": {
      "provenance": [],
      "include_colab_link": true
    }
  },
  "nbformat": 4,
  "nbformat_minor": 5
}