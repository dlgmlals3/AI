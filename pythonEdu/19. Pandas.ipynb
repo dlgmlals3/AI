{
 "cells": [
  {
   "cell_type": "code",
   "execution_count": 1,
   "id": "3d4e950f",
   "metadata": {},
   "outputs": [
    {
     "name": "stdout",
     "output_type": "stream",
     "text": [
      "0    4\n",
      "1    7\n",
      "2   -5\n",
      "3    3\n",
      "dtype: int64\n",
      "[ 4  7 -5  3]\n"
     ]
    }
   ],
   "source": [
    "import pandas as pd\n",
    "import numpy as np\n",
    "\n",
    "obj = pd.Series([4, 7, -5, 3])\n",
    "print(obj)\n",
    "print(obj.values)"
   ]
  },
  {
   "cell_type": "code",
   "execution_count": 10,
   "id": "d2d93bfd",
   "metadata": {},
   "outputs": [
    {
     "name": "stdout",
     "output_type": "stream",
     "text": [
      "a    4\n",
      "b    7\n",
      "a   -5\n",
      "c    3\n",
      "dtype: int64\n",
      "a    4\n",
      "a   -5\n",
      "dtype: int64\n",
      "c    3\n",
      "a    4\n",
      "a   -5\n",
      "d    6\n",
      "dtype: int64\n",
      "a     True\n",
      "b     True\n",
      "a    False\n",
      "c     True\n",
      "d     True\n",
      "dtype: bool\n",
      "a    4\n",
      "b    7\n",
      "c    3\n",
      "d    6\n",
      "dtype: int64\n",
      "a     8\n",
      "b    14\n",
      "a   -10\n",
      "c     6\n",
      "d    12\n",
      "dtype: int64\n",
      "a      54.598150\n",
      "b    1096.633158\n",
      "a       0.006738\n",
      "c      20.085537\n",
      "d     403.428793\n",
      "dtype: float64\n"
     ]
    }
   ],
   "source": [
    "obj = pd.Series([4, 7, -5, 3], index = ['a', 'b', 'a', 'c'])\n",
    "print(obj)\n",
    "print(obj['a'])\n",
    "obj['d'] = 6\n",
    "print(obj[['c', 'a', 'd']])\n",
    "\n",
    "print(obj > 0)\n",
    "print(obj[obj > 0])\n",
    "print(obj * 2)\n",
    "print(np.exp(obj))"
   ]
  },
  {
   "cell_type": "code",
   "execution_count": 12,
   "id": "cd3e6e7f",
   "metadata": {},
   "outputs": [
    {
     "name": "stdout",
     "output_type": "stream",
     "text": [
      "Ohoi      350000\n",
      "Texas     710000\n",
      "Oregon      6000\n",
      "Jtan        5000\n",
      "dtype: int64\n"
     ]
    }
   ],
   "source": [
    "sdata = {'Ohoi': 350000, 'Texas':710000, 'Oregon' : 6000, 'Jtan':5000}\n",
    "obj = pd.Series(sdata)\n",
    "print(obj)"
   ]
  },
  {
   "cell_type": "code",
   "execution_count": 18,
   "id": "13ad5c4e",
   "metadata": {},
   "outputs": [
    {
     "name": "stdout",
     "output_type": "stream",
     "text": [
      "        one  two  three\n",
      "first     0    1      2\n",
      "second    3    4      5\n",
      "   year   state  pop\n",
      "0  2000    Ohio  1.5\n",
      "1  2001    Ohio  1.7\n",
      "2  2002    Ohoi  3.6\n",
      "3  2001  Nevada  2.4\n",
      "4  2002  Nevada  2.9\n",
      "5  2003  Nevada  3.2\n",
      "\n",
      "\n",
      "       year   state  pop\n",
      "one    2000    Ohio  1.5\n",
      "two    2001    Ohio  1.7\n",
      "three  2002    Ohoi  3.6\n",
      "four   2001  Nevada  2.4\n",
      "five   2002  Nevada  2.9\n",
      "six    2003  Nevada  3.2 \n",
      "\n",
      "Index(['year', 'state', 'pop'], dtype='object') \n",
      "\n",
      "one        Ohio\n",
      "two        Ohio\n",
      "three      Ohoi\n",
      "four     Nevada\n",
      "five     Nevada\n",
      "six      Nevada\n",
      "Name: state, dtype: object \n",
      "\n",
      "one      2000\n",
      "two      2001\n",
      "three    2002\n",
      "four     2001\n",
      "five     2002\n",
      "six      2003\n",
      "Name: year, dtype: int64 \n",
      "\n",
      "year     2002\n",
      "state    Ohoi\n",
      "pop       3.6\n",
      "Name: three, dtype: object \n",
      "\n"
     ]
    }
   ],
   "source": [
    "# pandas dataFrame\n",
    "import pandas as pd\n",
    "import numpy as np\n",
    "\n",
    "frame = pd.DataFrame(np.arange(6).reshape(2, 3),\n",
    "                    index = ['first', 'second'],\n",
    "                    columns = ['one', 'two', 'three'])\n",
    "print(frame)\n",
    "\n",
    "data = {'state' : ['Ohio', 'Ohio', 'Ohoi', 'Nevada', 'Nevada', 'Nevada'],\n",
    "       'year' : [2000, 2001, 2002, 2001, 2002, 2003],\n",
    "       'pop' : [1.5, 1.7, 3.6, 2.4, 2.9, 3.2]}\n",
    "print(pd.DataFrame(data, columns=['year', 'state', 'pop']))\n",
    "\n",
    "frame2 = pd.DataFrame(data, columns=['year', 'state', 'pop'], \n",
    "                     index = ['one', 'two', 'three', 'four', 'five', 'six'])\n",
    "print('\\n')\n",
    "print(frame2 , '\\n')\n",
    "print(frame2.columns , '\\n')\n",
    "print(frame2['state'], '\\n')\n",
    "print(frame2.year, '\\n')\n",
    "print(frame2.loc['three'], '\\n')\n"
   ]
  },
  {
   "cell_type": "code",
   "execution_count": 19,
   "id": "d08970a4",
   "metadata": {},
   "outputs": [
    {
     "name": "stdout",
     "output_type": "stream",
     "text": [
      "a    4\n",
      "b    2\n",
      "c    6\n",
      "d    9\n",
      "dtype: int64\n",
      "2 \n",
      "\n",
      "2 \n",
      "\n",
      "b    2\n",
      "c    6\n",
      "dtype: int64 \n",
      "\n",
      "b    2\n",
      "c    6\n",
      "dtype: int64 \n",
      "\n"
     ]
    }
   ],
   "source": [
    "# 인덱싱\n",
    "\n",
    "import pandas as pd\n",
    "import numpy as np\n",
    "\n",
    "\n",
    "obj = pd.Series([4,2,6,9], index=list('abcd'))\n",
    "print(obj)\n",
    "print(obj['b'], '\\n')\n",
    "print(obj[1], '\\n')\n",
    "print(obj[1:3], '\\n') # 3번째 데이터 포함 X\n",
    "print(obj['b':'c'], '\\n') # 'c' 데이터 포함"
   ]
  },
  {
   "cell_type": "code",
   "execution_count": 33,
   "id": "6e71e59a",
   "metadata": {},
   "outputs": [
    {
     "name": "stdout",
     "output_type": "stream",
     "text": [
      "1\n",
      "            one  two  three  four\n",
      "Ohoi         0    1      2     3\n",
      "Colorrado    4    5      6     7\n",
      "utah         8    9     10    11\n",
      "NewYork     12   13     14    15\n",
      "2\n",
      " four    11\n",
      "one      8\n",
      "two      9\n",
      "Name: utah, dtype: int32\n",
      "3\n",
      "            one  two  three\n",
      "Ohoi         0    1      2\n",
      "Colorrado    4    5      6\n",
      "utah         8    9     10\n",
      "NewYork     12   13     14\n",
      "Ohoi          2\n",
      "Colorrado     6\n",
      "utah         10\n",
      "NewYork      14\n",
      "Name: three, dtype: int32\n",
      "4\n",
      "            one  two  three\n",
      "Colorrado    4    5      6\n",
      "utah         8    9     10\n",
      "NewYork     12   13     14\n"
     ]
    }
   ],
   "source": [
    "# data frame\n",
    "import pandas as pd\n",
    "import numpy as np\n",
    "frame = pd.DataFrame(np.arange(16).reshape(4, 4),\n",
    "                    index = ['Ohoi', 'Colorrado', 'utah', 'NewYork'],\n",
    "                    columns = ['one', 'two', 'three', 'four'])\n",
    "print('1\\n', frame)\n",
    "\n",
    "print('2\\n', frame.iloc[2, [3,0,1]])\n",
    "\n",
    "print('3\\n', frame.iloc[:,:3])\n",
    "\n",
    "print(frame.three)\n",
    "\n",
    "print('4\\n', frame.iloc[:, :3][frame.three > 5])\n",
    "      "
   ]
  }
 ],
 "metadata": {
  "kernelspec": {
   "display_name": "Python 3 (ipykernel)",
   "language": "python",
   "name": "python3"
  },
  "language_info": {
   "codemirror_mode": {
    "name": "ipython",
    "version": 3
   },
   "file_extension": ".py",
   "mimetype": "text/x-python",
   "name": "python",
   "nbconvert_exporter": "python",
   "pygments_lexer": "ipython3",
   "version": "3.9.12"
  }
 },
 "nbformat": 4,
 "nbformat_minor": 5
}
