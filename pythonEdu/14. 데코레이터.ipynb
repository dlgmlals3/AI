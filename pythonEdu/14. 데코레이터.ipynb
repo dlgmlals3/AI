{
 "cells": [
  {
   "cell_type": "code",
   "execution_count": 2,
   "id": "e3a56c21",
   "metadata": {},
   "outputs": [
    {
     "name": "stdout",
     "output_type": "stream",
     "text": [
      "hello 함수시작\n",
      "hello\n",
      "hello 함수종료\n",
      "insa 함수시작\n",
      "insa\n",
      "insa 함수종료\n"
     ]
    }
   ],
   "source": [
    "# @ staticmethod, @classmethod @abstractmethod 등을 붙일때 @ 시작하는 것들이 데코레이터 이다.\n",
    "\n",
    "# 데코레이터는 함수를 수정하지 않은 상태에서 추가 기능을 구현할때 사용한다.\n",
    "\n",
    "def trace(func):\n",
    "    def wrapper():\n",
    "        print(func.__name__, '함수시작')\n",
    "        func()\n",
    "        print(func.__name__, '함수종료')\n",
    "    return wrapper\n",
    "\n",
    "def hello():\n",
    "    print('hello')\n",
    "def insa():\n",
    "    print('insa')\n",
    "hello = trace(hello)\n",
    "hello()\n",
    "\n",
    "insa = trace(insa)\n",
    "insa()"
   ]
  },
  {
   "cell_type": "code",
   "execution_count": null,
   "id": "000493ff",
   "metadata": {},
   "outputs": [],
   "source": [
    "# 데코레이터 사용\n",
    "# hello = trace(hello)\n",
    "\n",
    "def trace(func):\n",
    "    def wrapper():\n",
    "        print(func.__name__, '함수시작')\n",
    "        func()\n",
    "        print(func.__name__, '함수종료')\n",
    "    return wrapper\n",
    "\n",
    "@trace\n",
    "def hello():\n",
    "    print('hello')\n",
    "\n",
    "@trace\n",
    "def insa():\n",
    "    print('insa')\n",
    "\n",
    "\n",
    "hello()\n",
    "insa()"
   ]
  },
  {
   "cell_type": "code",
   "execution_count": 3,
   "id": "0f9bd8dc",
   "metadata": {},
   "outputs": [
    {
     "name": "stdout",
     "output_type": "stream",
     "text": [
      "sum: a = 40, b = 100 -> 140\n",
      "140\n"
     ]
    }
   ],
   "source": [
    "# 인자가 두개 함수 경우 데코레이터\n",
    "\n",
    "def trace2(func):\n",
    "    def wrapper(a, b):\n",
    "        r = func(a, b)\n",
    "        print('{}: a = {}, b = {} -> {}'.format(func.__name__, a, b, r))\n",
    "        return r\n",
    "    return wrapper\n",
    "\n",
    "@trace2\n",
    "def sum(a, b):\n",
    "    return a + b\n",
    "print(sum(40, 100))\n"
   ]
  },
  {
   "cell_type": "code",
   "execution_count": 5,
   "id": "663b3546",
   "metadata": {},
   "outputs": [
    {
     "name": "stdout",
     "output_type": "stream",
     "text": [
      "get_max(args=(10, 40, 29, 50, 100), kwargs={})->100\n",
      "100\n",
      "get_min(args=(), kwargs={'x': 10, 'y': 40, 'z': 5})->5\n",
      "5\n"
     ]
    }
   ],
   "source": [
    "# 가변인수 함수도 가능\n",
    "\n",
    "def trace3(func):\n",
    "    def wrapper(*args, **kwargs):\n",
    "        r = func(*args, **kwargs)\n",
    "        print('{0}(args={1}, kwargs={2})->{3}'.format(func.__name__, args, kwargs, r))\n",
    "        return r\n",
    "    return wrapper\n",
    "\n",
    "@trace3\n",
    "def get_max(*args):\n",
    "    return max(args)\n",
    "\n",
    "@trace3\n",
    "def get_min(**kwargs):\n",
    "    return min(kwargs.values())\n",
    "\n",
    "print(get_max(10,40,29,50,100))\n",
    "print(get_min(x=10, y=40, z=5))"
   ]
  },
  {
   "cell_type": "code",
   "execution_count": 6,
   "id": "6c91c8e6",
   "metadata": {},
   "outputs": [
    {
     "name": "stdout",
     "output_type": "stream",
     "text": [
      "hello function start\n",
      "hello\n",
      "hello function end\n"
     ]
    }
   ],
   "source": [
    "# 클래스 내에서 __call__ 호출됨.\n",
    "class CTrace:\n",
    "    def __init__(self, func):\n",
    "        self.func = func\n",
    "    def __call__(self):\n",
    "        print(self.func.__name__, 'function start')\n",
    "        self.func()\n",
    "        print(self.func.__name__, 'function end')\n",
    "\n",
    "@CTrace\n",
    "def hello():\n",
    "    print('hello')\n",
    "hello()\n",
    "\n"
   ]
  },
  {
   "cell_type": "code",
   "execution_count": 10,
   "id": "5435af4d",
   "metadata": {},
   "outputs": [
    {
     "name": "stdout",
     "output_type": "stream",
     "text": [
      "sum(a = 20 b = 40) -> 300\n",
      "300\n",
      "subtract(a = 20 b = 40) -> -200\n",
      "-200\n"
     ]
    }
   ],
   "source": [
    "class CTrace2:\n",
    "    def __init__(self, x):\n",
    "        self.x = x\n",
    "        \n",
    "    def __call__(self, func):\n",
    "        def wrapper(a, b):\n",
    "            r = func(a, b) * self.x\n",
    "            print('{0}(a = {1} b = {2}) -> {3}'.format(func.__name__, a, b, r))\n",
    "            return r\n",
    "        return wrapper\n",
    "    \n",
    "@CTrace2(5)\n",
    "def sum(a, b):\n",
    "    return a + b\n",
    "\n",
    "@CTrace2(10)\n",
    "def subtract(a, b):\n",
    "    return a - b\n",
    "\n",
    "print(sum(20, 40))\n",
    "print(subtract(20, 40))"
   ]
  },
  {
   "cell_type": "code",
   "execution_count": null,
   "id": "88f7092e",
   "metadata": {},
   "outputs": [],
   "source": []
  }
 ],
 "metadata": {
  "kernelspec": {
   "display_name": "Python 3 (ipykernel)",
   "language": "python",
   "name": "python3"
  },
  "language_info": {
   "codemirror_mode": {
    "name": "ipython",
    "version": 3
   },
   "file_extension": ".py",
   "mimetype": "text/x-python",
   "name": "python",
   "nbconvert_exporter": "python",
   "pygments_lexer": "ipython3",
   "version": "3.9.12"
  }
 },
 "nbformat": 4,
 "nbformat_minor": 5
}
