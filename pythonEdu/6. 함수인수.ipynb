{
 "cells": [
  {
   "cell_type": "code",
   "execution_count": 1,
   "id": "9c2eb1de",
   "metadata": {},
   "outputs": [
    {
     "name": "stdout",
     "output_type": "stream",
     "text": [
      "10 40 70\n"
     ]
    }
   ],
   "source": [
    "# 함수 인수 3개의 매개변수를 받는 함수를 아래와 같이 정의한다.\n",
    "def print_nums(a, b, c):\n",
    "    print(a, b, c)\n",
    "print_nums(10, 40, 70)"
   ]
  },
  {
   "cell_type": "code",
   "execution_count": 2,
   "id": "76d1c1f6",
   "metadata": {},
   "outputs": [
    {
     "name": "stdout",
     "output_type": "stream",
     "text": [
      "10 20 30\n",
      "10 20 30\n",
      "10 20 30\n"
     ]
    }
   ],
   "source": [
    "# 언패킹 활용\n",
    "# 인수를 순서대로 넣을때는 리스트나 튜플을 이용할 수 있다.\n",
    "# 아래와 같이 리스트 또는 튜플 앞에 *을 붙여서 사용\n",
    "data = [10, 20, 30]\n",
    "print_nums(data[0], data[1], data[2])\n",
    "print(*data)\n",
    "print_nums(*data)"
   ]
  },
  {
   "cell_type": "code",
   "execution_count": 3,
   "id": "be41457c",
   "metadata": {},
   "outputs": [
    {
     "name": "stdout",
     "output_type": "stream",
     "text": [
      "<class 'tuple'>\n",
      "30\n",
      "<class 'tuple'>\n",
      "100\n",
      "<class 'tuple'>\n",
      "160\n"
     ]
    }
   ],
   "source": [
    "# 가변인수 함수\n",
    "# 튜플 언팩킹 인수개수가 정해지지 않는 가변인수에 이용한다.\n",
    "\n",
    "def add(*data): # *로 인하여 data는 팩킹형태의  튜플로 전달 받음.\n",
    "    print(type(data))\n",
    "    result = 0\n",
    "    for d in data:\n",
    "        result += d\n",
    "    return result\n",
    "\n",
    "\n",
    "print(add(10, 20)) # add 함수 가변인자는 언팩킹 형태\n",
    "print(add(10, 20, 30, 40)) # add 함수 가변인자는 언팩킹 형태\n",
    "x = (40, 50, 70)\n",
    "print(add(*x))"
   ]
  },
  {
   "cell_type": "code",
   "execution_count": 5,
   "id": "e10cea79",
   "metadata": {},
   "outputs": [
    {
     "name": "stdout",
     "output_type": "stream",
     "text": [
      "name: kim\n",
      "age: 30\n",
      "address: suwon\n",
      "name: lee\n",
      "age: 40\n",
      "address: incheon\n",
      "name: lee\n",
      "age: 40\n",
      "address: incheon\n"
     ]
    }
   ],
   "source": [
    "# 키워드 인수\n",
    "# 인수의 순서와 용도를 매번 기억하지 않도록 키워드 인수라는 기능을 제공\n",
    "\n",
    "def person_print(name, age, address):\n",
    "    print('name:', name)\n",
    "    print('age:', age)\n",
    "    print('address:', address)\n",
    "    \n",
    "person_print('kim', 30, 'suwon')\n",
    "person_print(name='lee', age=40, address='incheon')\n",
    "person_print(age=40, address='incheon', name='lee')"
   ]
  },
  {
   "cell_type": "code",
   "execution_count": 10,
   "id": "7d83537e",
   "metadata": {},
   "outputs": [
    {
     "name": "stdout",
     "output_type": "stream",
     "text": [
      "name: 홍길동\n",
      "age: 30\n",
      "address: 서울시\n",
      "name: 홍길동\n",
      "age: 30\n",
      "address: 서울시\n",
      "name: 홍길동\n",
      "age: 30\n",
      "address: 서울시\n"
     ]
    }
   ],
   "source": [
    "# 키워드 인수와 딕셔너리 언팩킹\n",
    "# 딕셔너리에 키워드 값 형식으로 인수를 저장하고, 앞에 **를 붙여서 함수에 넣는다.\n",
    "data = {'name':'홍길동', 'age':30, 'address':'서울시'}\n",
    "person_print(data['name'], data['age'], data['address'])\n",
    "person_print(name=data['name'], age=data['age'], address=data['address'])\n",
    "person_print(**data) # 언팩킹의 언팩킹... 이해가 돼지 ?"
   ]
  },
  {
   "cell_type": "code",
   "execution_count": 12,
   "id": "7397cdd3",
   "metadata": {},
   "outputs": [
    {
     "name": "stdout",
     "output_type": "stream",
     "text": [
      "seoul : 90000\n",
      "incheon : 30230\n",
      "busan : 56222\n",
      "\n",
      "seoul : 90000\n",
      "busan : 56222\n",
      "\n",
      "seoul : 90000\n",
      "suwon : 32523\n",
      "incheon : 30230\n",
      "busan : 56222\n",
      "\n"
     ]
    }
   ],
   "source": [
    "def city_info(**data): # 언팩킹 형태로 받겠다. ==> data는 팩킹형태\n",
    "    for k, v in data.items(): # 팩킹 형태의 data를 접근하여 print\n",
    "        print(k , ':', v)\n",
    "    print()\n",
    "\n",
    "city_info(seoul=90000, incheon=30230, busan=56222) # 함수의 인자가 언팩킹 형태\n",
    "city_info(seoul=90000, busan=56222)\n",
    "data = {'seoul':90000, 'suwon':32523, 'incheon':30230, 'busan':56222} # 팩킹형태\n",
    "city_info(**data) # 팩킹 형태를 함수에서 언팩킹으로 바꿔야 하기 때문에 ** 붙임\n"
   ]
  },
  {
   "cell_type": "code",
   "execution_count": 14,
   "id": "ddd7bc6f",
   "metadata": {},
   "outputs": [
    {
     "name": "stdout",
     "output_type": "stream",
     "text": [
      "name :  kim\n",
      "age : 50\n",
      "address :  busan\n",
      "name :  lee\n",
      "age : 40\n",
      "address :  seoul\n",
      "name :  lee\n",
      "age : 20\n",
      "address :  seoul\n"
     ]
    }
   ],
   "source": [
    "# 디폴트 매개변수\n",
    "def person_info(name, age=40, address='seoul'):\n",
    "    print('name : ', name)\n",
    "    print('age :', age)\n",
    "    print('address : ', address)\n",
    "    \n",
    "person_info('kim', 50, 'busan')\n",
    "person_info('lee')\n",
    "person_info(age=20, name='lee')\n"
   ]
  },
  {
   "cell_type": "code",
   "execution_count": null,
   "id": "af2a6fde",
   "metadata": {},
   "outputs": [],
   "source": [
    "# 디폴트 매개 변수는 중간에 끼어들어갈수 없다.\n",
    "# 디폴트 매개변수 구성시 뒤쪽으로 몰아주어 구성한다.\n",
    "def person_info(name, age=40, address):\n",
    "    print('name : ', name)\n",
    "    print('age : ', age)\n",
    "    print('address : ', address)\n",
    "    \n",
    "# def personinfo(name, age, address='seoul')\n",
    "# def personinfo(name, age=40, address='seoul')\n",
    "# def personinfo(name='lee', age=40, address='seoul')\n"
   ]
  }
 ],
 "metadata": {
  "kernelspec": {
   "display_name": "Python 3 (ipykernel)",
   "language": "python",
   "name": "python3"
  },
  "language_info": {
   "codemirror_mode": {
    "name": "ipython",
    "version": 3
   },
   "file_extension": ".py",
   "mimetype": "text/x-python",
   "name": "python",
   "nbconvert_exporter": "python",
   "pygments_lexer": "ipython3",
   "version": "3.9.12"
  }
 },
 "nbformat": 4,
 "nbformat_minor": 5
}
