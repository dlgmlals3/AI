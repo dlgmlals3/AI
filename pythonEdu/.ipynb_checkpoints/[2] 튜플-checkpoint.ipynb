{
 "cells": [
  {
   "cell_type": "code",
   "execution_count": 6,
   "id": "8998f996",
   "metadata": {},
   "outputs": [
    {
     "name": "stdout",
     "output_type": "stream",
     "text": [
      "data :  <class 'list'> data1 :  <class 'tuple'> data3 :  <class 'tuple'>\n"
     ]
    },
    {
     "ename": "TypeError",
     "evalue": "'tuple' object does not support item assignment",
     "output_type": "error",
     "traceback": [
      "\u001b[1;31m---------------------------------------------------------------------------\u001b[0m",
      "\u001b[1;31mTypeError\u001b[0m                                 Traceback (most recent call last)",
      "Input \u001b[1;32mIn [6]\u001b[0m, in \u001b[0;36m<cell line: 12>\u001b[1;34m()\u001b[0m\n\u001b[0;32m     10\u001b[0m data[\u001b[38;5;241m0\u001b[39m] \u001b[38;5;241m=\u001b[39m \u001b[38;5;241m100\u001b[39m\n\u001b[0;32m     11\u001b[0m \u001b[38;5;66;03m# compile error 발생\u001b[39;00m\n\u001b[1;32m---> 12\u001b[0m data1[\u001b[38;5;241m0\u001b[39m] \u001b[38;5;241m=\u001b[39m \u001b[38;5;241m100\u001b[39m\n",
      "\u001b[1;31mTypeError\u001b[0m: 'tuple' object does not support item assignment"
     ]
    }
   ],
   "source": [
    "# 튜플은 리스트와 달리 내용을 변경할수 없다.\n",
    "# 리스트와 같이 내용을 변경하는 append 같은 메서드는 사용할수 없고 요소의 정보를 구하는 메서드\n",
    "# index()는 매개변수값이 위치한 인덱스를 리턴한다. 같은값이 여러개일 경우 처음 찾은 인덱스 반환\n",
    "\n",
    "data = [10, 20, 30]\n",
    "data1 = (10, 20, 30)\n",
    "data2 = 10, 20, 30\n",
    "print('data : ', type(data), 'data1 : ', type(data1), 'data3 : ', type(data2))\n",
    "\n",
    "data[0] = 100\n",
    "# compile error 발생\n",
    "# data1[0] = 100"
   ]
  },
  {
   "cell_type": "code",
   "execution_count": 16,
   "id": "afaedddc",
   "metadata": {},
   "outputs": [
    {
     "name": "stdout",
     "output_type": "stream",
     "text": [
      "tuple unpacking  100 200\n",
      "200 100\n",
      "200 100\n"
     ]
    }
   ],
   "source": [
    "# 튜플은 Collection 으로 의미는 없으나 문법적으로 유용하게 사용\n",
    "data = 100, 200\n",
    "\n",
    "# 변수 Unpacking \n",
    "data, data1 = 100, 200\n",
    "print('tuple unpacking ', data, data1)\n",
    "\n",
    "# 함수 Unpacking\n",
    "def swapFunc(data, data1):\n",
    "    return data1, data\n",
    "\n",
    "data, data1 = swapFunc(100, 200)\n",
    "print(data, data1)\n",
    "    \n",
    "# Swap\n",
    "data = 100; data1 = 200\n",
    "data, data1 = data1, data\n",
    "print(data, data1)"
   ]
  },
  {
   "cell_type": "code",
   "execution_count": 5,
   "id": "3ecfac75",
   "metadata": {},
   "outputs": [
    {
     "name": "stdout",
     "output_type": "stream",
     "text": [
      "<class 'tuple'>\n",
      "2\n",
      "38 21 53 62 19 "
     ]
    }
   ],
   "source": [
    "# count()는 매개변수 값의 개수를 리턴한다.\n",
    "\n",
    "data1 = (38, 21, 53, 62, 19, 53)\n",
    "print(type(data1))\n",
    "print(data1.count(53))\n",
    "\n",
    "# 튜플 요소 출력\n",
    "data3 = 38,21,53,62,19\n",
    "for i in data3:\n",
    "    print(i, end=' ')\n",
    "    "
   ]
  },
  {
   "cell_type": "code",
   "execution_count": null,
   "id": "99c4edc7",
   "metadata": {},
   "outputs": [],
   "source": [
    "# 컴프리핸션\n"
   ]
  },
  {
   "cell_type": "code",
   "execution_count": 11,
   "id": "2a75ebbe",
   "metadata": {},
   "outputs": [
    {
     "name": "stdout",
     "output_type": "stream",
     "text": [
      "(0, 2, 4, 6, 8)\n",
      "<generator object <genexpr> at 0x000001D309417D60>\n"
     ]
    }
   ],
   "source": [
    "# 튜플 컴프리핸션 사용\n",
    "# 파이썬에서는 리스트와 마찬가지로 튜플을 생성을 할때도 컴프리핸션 문법을 지원한다.\n",
    "# 튜플을 사용할때는 ()를 사용하지 않고 tupel()을 이용해야 한다.\n",
    "# tuple을  명시하지 않으면 generator 객체를 생성한다.\n",
    "\n",
    "data1 = tuple(i for i in range(10) if i%2 == 0)\n",
    "print(data1)\n",
    "data2 = (i for i in range(10) if i % 2 == 0)\n",
    "print(data2)\n",
    "\n"
   ]
  },
  {
   "cell_type": "code",
   "execution_count": 22,
   "id": "36a427cc",
   "metadata": {},
   "outputs": [
    {
     "name": "stdout",
     "output_type": "stream",
     "text": [
      "[1, 2, 3, 4]\n",
      "[1, 2, 3, 4]\n"
     ]
    }
   ],
   "source": [
    "# map()은 자료구조의 각 요소를 지정된 함수로 처리해준다.\n",
    "\n",
    "data = [1.2, 2.5, 3.7, 4.6]\n",
    "for i in range(len(data)):\n",
    "    data[i] = int(data[i])\n",
    "print(data)\n",
    "\n",
    "data = [1.2, 2.5, 3.7, 4.6]\n",
    "data = list(map(int, data))\n",
    "print(data)"
   ]
  },
  {
   "cell_type": "code",
   "execution_count": 23,
   "id": "fb88b5a1",
   "metadata": {},
   "outputs": [
    {
     "name": "stdout",
     "output_type": "stream",
     "text": [
      "300 500\n",
      "['300', '500']\n"
     ]
    }
   ],
   "source": [
    "data = input().split()\n",
    "print(data)"
   ]
  },
  {
   "cell_type": "code",
   "execution_count": 11,
   "id": "1c8abaa3",
   "metadata": {},
   "outputs": [
    {
     "name": "stdout",
     "output_type": "stream",
     "text": [
      "30 40\n",
      "<class 'map'>\n",
      "<class 'list'> [30, 40]\n"
     ]
    }
   ],
   "source": [
    "# map을 사용해서 string --> int 형 바꾼후 리스트화\n",
    "data1 = map(int, input().split())\n",
    "print(type(data1))\n",
    "data = list(data1)\n",
    "print(type(data), data)"
   ]
  },
  {
   "cell_type": "code",
   "execution_count": 12,
   "id": "9330c3dd",
   "metadata": {},
   "outputs": [
    {
     "name": "stdout",
     "output_type": "stream",
     "text": [
      "<class 'int'> 10 20\n",
      "30 40\n",
      "<class 'int'> 30 40\n",
      "40 50\n",
      "<class 'int'> 40 50\n"
     ]
    }
   ],
   "source": [
    "data = [10, 20]\n",
    "data1, data2 = data\n",
    "print(type(data1), data1, data2)\n",
    "\n",
    "data, data1 = list(map(int, input().split()))\n",
    "print(type(data), data, data1)\n",
    "\n",
    "\n",
    "# map 객체는 언팩킹도 가능하다\n",
    "data, data1 = map(int, input().split())\n",
    "print(type(data), data, data1)"
   ]
  }
 ],
 "metadata": {
  "kernelspec": {
   "display_name": "Python 3 (ipykernel)",
   "language": "python",
   "name": "python3"
  },
  "language_info": {
   "codemirror_mode": {
    "name": "ipython",
    "version": 3
   },
   "file_extension": ".py",
   "mimetype": "text/x-python",
   "name": "python",
   "nbconvert_exporter": "python",
   "pygments_lexer": "ipython3",
   "version": "3.9.12"
  }
 },
 "nbformat": 4,
 "nbformat_minor": 5
}
