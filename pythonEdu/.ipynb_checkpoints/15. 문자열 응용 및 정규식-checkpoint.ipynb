{
 "cells": [
  {
   "cell_type": "code",
   "execution_count": 1,
   "id": "7bcc7640",
   "metadata": {},
   "outputs": [
    {
     "name": "stdout",
     "output_type": "stream",
     "text": [
      "1ppl2\n"
     ]
    }
   ],
   "source": [
    "table = str.maketrans('aeiou', '12345')\n",
    "str1 = 'apple'.translate(table)\n",
    "print(str1)\n",
    "    "
   ]
  },
  {
   "cell_type": "code",
   "execution_count": 44,
   "id": "96939431",
   "metadata": {},
   "outputs": [
    {
     "name": "stdout",
     "output_type": "stream",
     "text": [
      "redbluegreenyellow\n",
      "red-blue-green-yellow\n"
     ]
    }
   ],
   "source": [
    "# 문자열 연결\n",
    "data = ['red', 'blue', 'green', 'yellow']\n",
    "str2 = ''.join(data)\n",
    "print(str2)\n",
    "str2 = '-'.join(data)\n",
    "print(str2)"
   ]
  },
  {
   "cell_type": "code",
   "execution_count": 43,
   "id": "5df08902",
   "metadata": {},
   "outputs": [
    {
     "name": "stdout",
     "output_type": "stream",
     "text": [
      "hello python   \n",
      "   hello python\n",
      "hello python\n",
      "h..ello pyth..on..\n",
      "..h..ello pyth..on\n",
      "h..ello pyth..on\n"
     ]
    }
   ],
   "source": [
    "# 특정문자 삭제\n",
    "str2 = '   hello python   '\n",
    "print(str2.lstrip())\n",
    "print(str2.rstrip())\n",
    "print(str2.strip())\n",
    "\n",
    "str2 = '..h..ello pyth..on..'\n",
    "print(str2.lstrip('..'))\n",
    "print(str2.rstrip('..'))\n",
    "print(str2.strip('..'))\n"
   ]
  },
  {
   "cell_type": "code",
   "execution_count": 6,
   "id": "1d1231cb",
   "metadata": {},
   "outputs": [
    {
     "name": "stdout",
     "output_type": "stream",
     "text": [
      "good day       \n",
      "       good day\n",
      "    good day   \n"
     ]
    }
   ],
   "source": [
    "# 문자열 정렬\n",
    "# 15는 15개의 문자의 길이 ... 없으면 공백처리\n",
    "data = 'good day'\n",
    "print(data.ljust(15))\n",
    "print(data.rjust(15))\n",
    "print(data.center(15))"
   ]
  },
  {
   "cell_type": "code",
   "execution_count": 7,
   "id": "978cc932",
   "metadata": {},
   "outputs": [
    {
     "name": "stdout",
     "output_type": "stream",
     "text": [
      "00432\n",
      "0053.56\n",
      "0000string\n"
     ]
    }
   ],
   "source": [
    "# 문자의 나머지 0으로 채움.\n",
    "data = '432'\n",
    "print(data.zfill(5))\n",
    "print('53.56'.zfill(7))\n",
    "print('string'.zfill(10))\n"
   ]
  },
  {
   "cell_type": "code",
   "execution_count": 14,
   "id": "235a9f43",
   "metadata": {},
   "outputs": [
    {
     "name": "stdout",
     "output_type": "stream",
     "text": [
      "<re.Match object; span=(0, 5), match='hello'>\n",
      "0\n",
      "5\n"
     ]
    }
   ],
   "source": [
    "# 정규 포현식\n",
    "# 패턴 문자열 만들때 re 모듈 compile 사용하거나, 문자열 앞에 r' '  합니다.\n",
    "\n",
    "import re\n",
    "\n",
    "rc = re.compile('hello')\n",
    "rdata = re.match('hello', 'hellow, world')\n",
    "rdata = re.match(r'hellow', 'hellow, world')\n",
    "rdata = re.match(rc, 'hello, world')\n",
    "print(rdata)\n",
    "print(rdata.span()[0])\n",
    "print(rdata.span()[1])\n"
   ]
  },
  {
   "cell_type": "code",
   "execution_count": 20,
   "id": "1246d5be",
   "metadata": {},
   "outputs": [
    {
     "name": "stdout",
     "output_type": "stream",
     "text": [
      "<re.Match object; span=(0, 5), match='hello'>\n",
      "<re.Match object; span=(6, 11), match='world'>\n",
      "None\n",
      "<re.Match object; span=(5, 10), match='world'>\n"
     ]
    }
   ],
   "source": [
    "# search match와 달리 문자열 중간 탐색 가능\n",
    "\n",
    "obj = re.search('^hello', 'hellow, world')\n",
    "print(obj)\n",
    "obj = re.search('world$', 'hello world')\n",
    "print(obj)\n",
    "obj = re.match('world', 'hello world')\n",
    "print(obj)\n",
    "\n",
    "obj = re.search('hello|world', 'good world')\n",
    "print(obj)"
   ]
  },
  {
   "cell_type": "code",
   "execution_count": 22,
   "id": "63ca32e5",
   "metadata": {},
   "outputs": [
    {
     "name": "stdout",
     "output_type": "stream",
     "text": [
      "<re.Match object; span=(0, 3), match='121'>\n",
      "<re.Match object; span=(0, 3), match='121'>\n",
      "<re.Match object; span=(0, 1), match='b'>\n",
      "None\n",
      "<re.Match object; span=(0, 3), match='aab'>\n",
      "<re.Match object; span=(0, 3), match='aab'>\n"
     ]
    }
   ],
   "source": [
    "# 정규 표현식 표현\n",
    "# [ ] 대괄호 안에 찾고자 하는 문자 1개 넣는다.\n",
    "print(re.match(r'[0-9]*', '121hello'))\n",
    "print(re.match(r'[0-9]+', '121hello'))\n",
    "\n",
    "print(re.match(r'a*b', 'b'))\n",
    "print(re.match(r'a+b', 'b'))\n",
    "print(re.match(r'a*b', 'aab'))\n",
    "print(re.match(r'a+b', 'aab'))"
   ]
  },
  {
   "cell_type": "code",
   "execution_count": 23,
   "id": "449661d0",
   "metadata": {},
   "outputs": [
    {
     "name": "stdout",
     "output_type": "stream",
     "text": [
      "<re.Match object; span=(0, 3), match='abd'>\n",
      "<re.Match object; span=(0, 4), match='abcd'>\n"
     ]
    }
   ],
   "source": [
    "# ? 문자 0개 또는 1개 , .은 해당 위치에 아무 문자(숫자) 1개\n",
    "print(re.match(r'ab?d', 'abd'))\n",
    "print(re.match(r'ab.d', 'abcd'))"
   ]
  },
  {
   "cell_type": "code",
   "execution_count": 24,
   "id": "1ca6b7d4",
   "metadata": {},
   "outputs": [
    {
     "name": "stdout",
     "output_type": "stream",
     "text": [
      "<re.Match object; span=(0, 13), match='010-7777-7878'>\n",
      "<re.Match object; span=(0, 11), match='02-777-7878'>\n"
     ]
    }
   ],
   "source": [
    "# { 시작개수, 끝개수} 시작개수와 끝개수로 범위 안에 문자열이 있는지 판단\n",
    "print(re.match(r'[0-9]{2,3}-[0-9]{3,4}-[0-9]{4}', '010-7777-7878'))\n",
    "print(re.match(r'[0-9]{2,3}-[0-9]{3,4}-[0-9]{4}', '02-777-7878'))"
   ]
  },
  {
   "cell_type": "code",
   "execution_count": 25,
   "id": "a1eb5d25",
   "metadata": {},
   "outputs": [
    {
     "name": "stdout",
     "output_type": "stream",
     "text": [
      "<re.Match object; span=(0, 12), match='everyone5656'>\n",
      "<re.Match object; span=(0, 5), match='안녕하세요'>\n"
     ]
    }
   ],
   "source": [
    "# 영문 문자 범위는 []안에 a-z, A-Z 와 같이 표현 해주면 된다.\n",
    "# 한글을 검색하고 싶으면 [] 안에 가-힣 와 같이 표현\n",
    "print(re.match(r'[a-zA-Z0-9]+','everyone5656'))\n",
    "print(re.match(r'[가-힣]+','안녕하세요5656'))"
   ]
  },
  {
   "cell_type": "code",
   "execution_count": 27,
   "id": "714fa16d",
   "metadata": {},
   "outputs": [
    {
     "name": "stdout",
     "output_type": "stream",
     "text": [
      "<re.Match object; span=(0, 5), match='every'>\n",
      "<re.Match object; span=(0, 4), match='안녕하세'>\n"
     ]
    }
   ],
   "source": [
    "print(re.match(r'[^A-Z]+', 'everyOne'))\n",
    "print(re.match(r'[^0-9]+', '안녕하세9요5656'))"
   ]
  },
  {
   "cell_type": "code",
   "execution_count": 28,
   "id": "3a85bfa1",
   "metadata": {},
   "outputs": [
    {
     "name": "stdout",
     "output_type": "stream",
     "text": [
      "<re.Match object; span=(0, 3), match='342'>\n",
      "<re.Match object; span=(0, 8), match='everyone'>\n",
      "<re.Match object; span=(0, 11), match='342everyone'>\n",
      "<re.Match object; span=(0, 2), match='()'>\n"
     ]
    }
   ],
   "source": [
    "# \\d : 숫자, \\D : 숫자아님 \\w : 문자(숫자), \\D : 문자(숫자) 아님\n",
    "print(re.match(r'\\d+', '342everyone'))   # 342\n",
    "print(re.match(r'\\D+', 'everyone5656')) # everyone \n",
    "print(re.match(r'\\w+', '342everyone')) # 342everyone\n",
    "print(re.match(r'\\W+', '()everyone5656')) # ()\n"
   ]
  },
  {
   "cell_type": "code",
   "execution_count": 30,
   "id": "bf7f78df",
   "metadata": {},
   "outputs": [
    {
     "name": "stdout",
     "output_type": "stream",
     "text": [
      "10\n",
      "2283\n",
      "10 2283\n",
      "10 2283\n",
      "('10', '2283')\n"
     ]
    }
   ],
   "source": [
    "# ()를 이용하여 그룹을 지정하여 사용\n",
    "m = re.match('([0-9]+) ([0-9]+)', '10 2283')\n",
    "print(m.group(1))\n",
    "print(m.group(2))\n",
    "print(m.group(0))\n",
    "print(m.group())\n",
    "print(m.groups())"
   ]
  },
  {
   "cell_type": "code",
   "execution_count": null,
   "id": "e2c4db2e",
   "metadata": {},
   "outputs": [],
   "source": [
    "# findall 함수를 사용하며 패턴에 매칭되는 모든 문자열을 가져올 수 있다.\n",
    "fdata = re.findall('[0-9]+', '12 22 4 string python 3 82')\n",
    "print(fdata)"
   ]
  },
  {
   "cell_type": "code",
   "execution_count": 34,
   "id": "f3869248",
   "metadata": {},
   "outputs": [
    {
     "name": "stdout",
     "output_type": "stream",
     "text": [
      "fruit box fruit tree\n",
      "num num num string python num num\n"
     ]
    }
   ],
   "source": [
    "# sub함수는 기존문자열을 특정 문자열로 치환할때 사용한다.\n",
    "data = re.sub('apple|orange', 'fruit', 'apple box orange tree') # 두번째 인자가 바꿀 문자열\n",
    "print(data)\n",
    "\n",
    "data = re.sub('[0-9]+', 'num', '12 22 4 string python 3 82')\n",
    "print(data)"
   ]
  },
  {
   "cell_type": "code",
   "execution_count": 5,
   "id": "02d522f4",
   "metadata": {},
   "outputs": [
    {
     "name": "stdout",
     "output_type": "stream",
     "text": [
      "120 220 40 string python 30 820\n",
      "120 230 40 string python 30 820\n"
     ]
    }
   ],
   "source": [
    "# 정규 표현식 람다로 지정\n",
    "import re\n",
    "def multiple(m):\n",
    "    n = int(m.group())\n",
    "    return str(n*10)\n",
    "\n",
    "data = re.sub('[0-9]+', multiple, '12 22 4 string python 3 82')\n",
    "print(data)\n",
    "\n",
    "data = re.sub('[0-9]+', lambda m:str(int(m.group())*10), '12 23 4 string python 3 82')\n",
    "print(data)"
   ]
  },
  {
   "cell_type": "code",
   "execution_count": 1,
   "id": "12a5c533",
   "metadata": {},
   "outputs": [
    {
     "name": "stdout",
     "output_type": "stream",
     "text": [
      "10\n"
     ]
    }
   ],
   "source": [
    "print(str('10'))"
   ]
  }
 ],
 "metadata": {
  "kernelspec": {
   "display_name": "Python 3 (ipykernel)",
   "language": "python",
   "name": "python3"
  },
  "language_info": {
   "codemirror_mode": {
    "name": "ipython",
    "version": 3
   },
   "file_extension": ".py",
   "mimetype": "text/x-python",
   "name": "python",
   "nbconvert_exporter": "python",
   "pygments_lexer": "ipython3",
   "version": "3.9.12"
  }
 },
 "nbformat": 4,
 "nbformat_minor": 5
}
