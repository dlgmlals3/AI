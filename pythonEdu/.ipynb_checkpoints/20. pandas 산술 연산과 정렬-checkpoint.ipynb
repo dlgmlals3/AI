{
 "cells": [
  {
   "cell_type": "code",
   "execution_count": 3,
   "id": "fc195a8e",
   "metadata": {},
   "outputs": [
    {
     "name": "stdout",
     "output_type": "stream",
     "text": [
      "1\n",
      "    a  b   c   d\n",
      "0  0  1   2   3\n",
      "1  4  5   6   7\n",
      "2  8  9  10  11\n",
      "2\n",
      "     a   b   c   d   e\n",
      "0   0   1   2   3   4\n",
      "1   5   6   7   8   9\n",
      "2  10  11  12  13  14\n",
      "3  15  16  17  18  19\n",
      "3\n",
      "       a     b     c     d   e\n",
      "0   0.0   2.0   4.0   6.0 NaN\n",
      "1   9.0  11.0  13.0  15.0 NaN\n",
      "2  18.0  20.0  22.0  24.0 NaN\n",
      "3   NaN   NaN   NaN   NaN NaN\n",
      "4\n",
      "       a     b     c     d     e\n",
      "0   0.0   2.0   4.0   6.0   4.0\n",
      "1   9.0  11.0  13.0  15.0   9.0\n",
      "2  18.0  20.0  22.0  24.0  14.0\n",
      "3  15.0  16.0  17.0  18.0  19.0\n"
     ]
    }
   ],
   "source": [
    "import pandas as pd\n",
    "import numpy as np\n",
    "\n",
    "df1 = pd.DataFrame(np.arange(12).reshape((3,4)), \n",
    "                  columns=list('abcd'))\n",
    "\n",
    "df2 = pd.DataFrame(np.arange(20).reshape((4,5)),\n",
    "                   columns=list('abcde'))\n",
    "\n",
    "print('1\\n', df1)\n",
    "\n",
    "print('2\\n', df2)\n",
    "\n",
    "# 일반적인 연산방법은 모자란 부분을 nan 으로 채움\n",
    "\n",
    "print('3\\n', df1 + df2)\n",
    "\n",
    "# 비어있는 값이 있는 경우 0으로 채워라\n",
    "print('4\\n', df1.add(df2, fill_value=0))"
   ]
  },
  {
   "cell_type": "code",
   "execution_count": 4,
   "id": "727e1723",
   "metadata": {},
   "outputs": [
    {
     "name": "stdout",
     "output_type": "stream",
     "text": [
      "d    0\n",
      "a    1\n",
      "d    2\n",
      "c    3\n",
      "dtype: int32\n",
      "a    1\n",
      "c    3\n",
      "d    0\n",
      "d    2\n",
      "dtype: int32\n",
      "1\n",
      "        d  a  b  c\n",
      "three  0  1  2  3\n",
      "one    4  5  6  7\n",
      "2\n",
      "        a  b  c  d\n",
      "three  1  2  3  0\n",
      "one    5  6  7  4\n",
      "3\n",
      "        d  c  b  a\n",
      "three  0  3  2  1\n",
      "one    4  7  6  5\n",
      "4\n",
      "        d  a  b  c\n",
      "one    4  5  6  7\n",
      "three  0  1  2  3\n"
     ]
    }
   ],
   "source": [
    "import numpy as np\n",
    "import pandas as pd\n",
    "\n",
    "obj = pd.Series(np.arange(4), index=list('dadc'))\n",
    "print(obj)\n",
    "print(obj.sort_index())\n",
    "\n",
    "frame = pd.DataFrame(np.arange(8).reshape(2,4),\n",
    "                    index=['three', 'one'],\n",
    "                    columns=list('dabc'))\n",
    "\n",
    "print('1\\n', frame)\n",
    "# key 행 정렬 오름차순\n",
    "print('2\\n', frame.sort_index(axis=1)) \n",
    "\n",
    "# key 행 정렬 내림차숨\n",
    "print('3\\n', frame.sort_index(axis=1, ascending=False))\n",
    " \n",
    "# key 컬럼 정렬 오름차순\n",
    "print('4\\n', frame.sort_index(axis=0))"
   ]
  },
  {
   "cell_type": "code",
   "execution_count": 6,
   "id": "6670574d",
   "metadata": {},
   "outputs": [
    {
     "name": "stdout",
     "output_type": "stream",
     "text": [
      "2   -5\n",
      "3    3\n",
      "0    4\n",
      "1    7\n",
      "dtype: int64\n",
      "1\n",
      "    b  a\n",
      "0  4  0\n",
      "1  7  1\n",
      "2 -3  0\n",
      "3  2  1\n",
      "2\n",
      "    b  a\n",
      "2 -3  0\n",
      "3  2  1\n",
      "0  4  0\n",
      "1  7  1\n",
      "3\n",
      "    b  a\n",
      "2 -3  0\n",
      "0  4  0\n",
      "3  2  1\n",
      "1  7  1\n"
     ]
    }
   ],
   "source": [
    "import numpy as np\n",
    "import pandas as pd\n",
    "\n",
    "# Sort_value는 value 값을 기준으로 정렬, 이때 축도 같이 이동\n",
    "obj = pd.Series([4, 7, -5, 3])\n",
    "print(obj.sort_values())\n",
    "\n",
    "data = {'b':[4,7,-3,2], 'a':[0, 1, 0, 1]}\n",
    "frame2 = pd.DataFrame(data)\n",
    "\n",
    "print('1\\n', frame2)\n",
    "\n",
    " # 컬럼 'b'  기준으로 오름차순 정렬\n",
    "print('2\\n', frame2.sort_values(by='b'))\n",
    "\n",
    "# 컬럼 'a' 기준으로 오름차순 정렬 후 값이 같은 경우, b 의 값 기준으로  오름차순으로 정렬\n",
    "print('3\\n', frame2.sort_values(by=['a', 'b'])) "
   ]
  },
  {
   "cell_type": "code",
   "execution_count": 8,
   "id": "96e93a11",
   "metadata": {},
   "outputs": [
    {
     "name": "stdout",
     "output_type": "stream",
     "text": [
      "1\n",
      "         one       two\n",
      "a -0.204708  0.478943\n",
      "b -0.519439 -0.555730\n",
      "c  1.965781  1.393406\n",
      "d  0.092908  0.281746\n"
     ]
    },
    {
     "data": {
      "text/plain": [
       "one    1.334542\n",
       "two    1.598365\n",
       "dtype: float64"
      ]
     },
     "execution_count": 8,
     "metadata": {},
     "output_type": "execute_result"
    }
   ],
   "source": [
    "import pandas as pd\n",
    "import numpy as np\n",
    "\n",
    "np.random.seed(12345)\n",
    "frame = pd.DataFrame(np.random.randn(4, 2),\n",
    "                     index = list('abcd'),\n",
    "                     columns = ['one', 'two'])\n",
    "\n",
    "print('1\\n', frame)\n",
    "\n",
    "frame.sum(axis=0)"
   ]
  },
  {
   "cell_type": "code",
   "execution_count": 9,
   "id": "e350aa58",
   "metadata": {},
   "outputs": [
    {
     "data": {
      "text/plain": [
       "a    0.137118\n",
       "b   -0.537585\n",
       "c    1.679593\n",
       "d    0.187327\n",
       "dtype: float64"
      ]
     },
     "execution_count": 9,
     "metadata": {},
     "output_type": "execute_result"
    }
   ],
   "source": [
    "frame.mean(axis = 1)"
   ]
  },
  {
   "cell_type": "code",
   "execution_count": 10,
   "id": "0a9ecc9c",
   "metadata": {},
   "outputs": [
    {
     "data": {
      "text/html": [
       "<div>\n",
       "<style scoped>\n",
       "    .dataframe tbody tr th:only-of-type {\n",
       "        vertical-align: middle;\n",
       "    }\n",
       "\n",
       "    .dataframe tbody tr th {\n",
       "        vertical-align: top;\n",
       "    }\n",
       "\n",
       "    .dataframe thead th {\n",
       "        text-align: right;\n",
       "    }\n",
       "</style>\n",
       "<table border=\"1\" class=\"dataframe\">\n",
       "  <thead>\n",
       "    <tr style=\"text-align: right;\">\n",
       "      <th></th>\n",
       "      <th>one</th>\n",
       "      <th>two</th>\n",
       "    </tr>\n",
       "  </thead>\n",
       "  <tbody>\n",
       "    <tr>\n",
       "      <th>count</th>\n",
       "      <td>4.000000</td>\n",
       "      <td>4.000000</td>\n",
       "    </tr>\n",
       "    <tr>\n",
       "      <th>mean</th>\n",
       "      <td>0.333636</td>\n",
       "      <td>0.399591</td>\n",
       "    </tr>\n",
       "    <tr>\n",
       "      <th>std</th>\n",
       "      <td>1.116452</td>\n",
       "      <td>0.800102</td>\n",
       "    </tr>\n",
       "    <tr>\n",
       "      <th>min</th>\n",
       "      <td>-0.519439</td>\n",
       "      <td>-0.555730</td>\n",
       "    </tr>\n",
       "    <tr>\n",
       "      <th>25%</th>\n",
       "      <td>-0.283390</td>\n",
       "      <td>0.072377</td>\n",
       "    </tr>\n",
       "    <tr>\n",
       "      <th>50%</th>\n",
       "      <td>-0.055900</td>\n",
       "      <td>0.380345</td>\n",
       "    </tr>\n",
       "    <tr>\n",
       "      <th>75%</th>\n",
       "      <td>0.561126</td>\n",
       "      <td>0.707559</td>\n",
       "    </tr>\n",
       "    <tr>\n",
       "      <th>max</th>\n",
       "      <td>1.965781</td>\n",
       "      <td>1.393406</td>\n",
       "    </tr>\n",
       "  </tbody>\n",
       "</table>\n",
       "</div>"
      ],
      "text/plain": [
       "            one       two\n",
       "count  4.000000  4.000000\n",
       "mean   0.333636  0.399591\n",
       "std    1.116452  0.800102\n",
       "min   -0.519439 -0.555730\n",
       "25%   -0.283390  0.072377\n",
       "50%   -0.055900  0.380345\n",
       "75%    0.561126  0.707559\n",
       "max    1.965781  1.393406"
      ]
     },
     "execution_count": 10,
     "metadata": {},
     "output_type": "execute_result"
    }
   ],
   "source": [
    "frame.describe()"
   ]
  },
  {
   "cell_type": "code",
   "execution_count": 14,
   "id": "6cff6b51",
   "metadata": {},
   "outputs": [
    {
     "name": "stdout",
     "output_type": "stream",
     "text": [
      "1\n",
      " 0    1.0\n",
      "1    NaN\n",
      "2    3.5\n",
      "3    NaN\n",
      "4    7.0\n",
      "dtype: float64\n",
      "2\n",
      " 0    1.0\n",
      "2    3.5\n",
      "4    7.0\n",
      "dtype: float64\n",
      "3\n",
      "           0         1         2\n",
      "0 -0.204708       NaN       NaN\n",
      "1 -0.555730       NaN       NaN\n",
      "2  0.092908       NaN  0.769023\n",
      "3  1.246435       NaN -1.296221\n",
      "4  0.274992  0.228913  1.352917\n",
      "5  0.886429 -2.001637 -0.371843\n",
      "6  1.669025 -0.438570 -0.539741\n",
      "4\n",
      "           0         1         2\n",
      "0 -0.204708  0.000000  0.000000\n",
      "1 -0.555730  0.000000  0.000000\n",
      "2  0.092908  0.000000  0.769023\n",
      "3  1.246435  0.000000 -1.296221\n",
      "4  0.274992  0.228913  1.352917\n",
      "5  0.886429 -2.001637 -0.371843\n",
      "6  1.669025 -0.438570 -0.539741\n"
     ]
    }
   ],
   "source": [
    "# 누락 데이터 처리\n",
    "# dropna : 누락된 데이터가 있는 (로우, 칼럼)을 제외시킨다.\n",
    "# fillna : 누락된 데이터를 대신할 값을 채움\n",
    "# isnull  : 누락된 데이터가 있는경우\n",
    "\n",
    "import pandas as pd\n",
    "import numpy as np\n",
    "\n",
    "data = pd.Series([1, np.nan, 3.5, np.nan, 7])\n",
    "print('1\\n', data)\n",
    "\n",
    "# 누락된 데이터 있는 경우 skip\n",
    "print('2\\n', data.dropna())\n",
    "\n",
    "np.random.seed(12345)\n",
    "frame = pd.DataFrame(np.random.randn(7, 3))\n",
    "frame.iloc[:4, 1] = np.nan\n",
    "frame.iloc[:2, 2] = np.nan\n",
    "print('3\\n', frame)\n",
    "\n",
    "print('4\\n', frame.fillna(0))"
   ]
  }
 ],
 "metadata": {
  "kernelspec": {
   "display_name": "Python 3 (ipykernel)",
   "language": "python",
   "name": "python3"
  },
  "language_info": {
   "codemirror_mode": {
    "name": "ipython",
    "version": 3
   },
   "file_extension": ".py",
   "mimetype": "text/x-python",
   "name": "python",
   "nbconvert_exporter": "python",
   "pygments_lexer": "ipython3",
   "version": "3.9.12"
  }
 },
 "nbformat": 4,
 "nbformat_minor": 5
}
