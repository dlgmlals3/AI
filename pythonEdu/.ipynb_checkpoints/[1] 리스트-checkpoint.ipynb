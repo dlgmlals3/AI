{
 "cells": [
  {
   "cell_type": "markdown",
   "id": "c4ef8d87",
   "metadata": {},
   "source": [
    "리스트\n",
    "\n",
    "복수개의 값을 담을수 있는 데이터 구조\n",
    "생성된 후 변경이 가능하다.\n",
    "생성 문법 \n",
    "1) [] 안에 데이터를 넣는다.\n",
    "2) list() 함수를 통해 생성된다. \n",
    "- 다른타입을 converting 할때도 사용. \n",
    "3) str.split() 함수로 생성이 된다.\n"
   ]
  },
  {
   "cell_type": "code",
   "execution_count": 10,
   "id": "b6124d90",
   "metadata": {},
   "outputs": [
    {
     "name": "stdout",
     "output_type": "stream",
     "text": [
      "[]\n",
      "[]\n",
      "[1, 2, 3, 4, 5]\n",
      "[1, 2, 3, 'lee', 'kim', [4, 5, 6]]\n",
      "[1, 2, 3]\n",
      "['1', '2', '3', '4', '5']\n"
     ]
    }
   ],
   "source": [
    "# 리스트 생성 1\n",
    "data = []\n",
    "print(data)\n",
    "\n",
    "data = [10, 20, 30, 40, 50]\n",
    "print(data)\n",
    "\n",
    "data = [10, 20, 30, 'lee', 'kim', [40, 50, 60]]\n",
    "print(data)\n",
    "\n",
    "# 리스트 생성 2\n",
    "data = list()\n",
    "print(data)\n",
    "\n",
    "data = list((10, 20, 30))\n",
    "print(data)\n",
    "\n",
    "# 리스트 생성 3\n",
    "str = \"10,20,30,40,50\"\n",
    "data = str.split(sep=',')\n",
    "print(data)"
   ]
  },
  {
   "cell_type": "code",
   "execution_count": 87,
   "id": "7b6d7d54",
   "metadata": {},
   "outputs": [
    {
     "name": "stdout",
     "output_type": "stream",
     "text": [
      "10 20 50\n",
      "50\n",
      "4\n",
      "True\n",
      "False\n"
     ]
    }
   ],
   "source": [
    "# 리스트 인덱싱\n",
    "data = [10, 20, 30, 40, 50]\n",
    "print(data[0], data[1], data[4])\n",
    "print(data[-1])\n",
    "\n",
    "# 값을 통한 인덱스 번호 가져오기\n",
    "print(data.index(50))\n",
    "\n",
    "# In 키워드\n",
    "a = 10 in data\n",
    "print(a)\n",
    "a = 1 in data"
   ]
  },
  {
   "cell_type": "code",
   "execution_count": 83,
   "id": "860d3918",
   "metadata": {},
   "outputs": [
    {
     "name": "stdout",
     "output_type": "stream",
     "text": [
      "[10, 20, 30, [100, 200]]\n",
      "4\n",
      "[10, 20, 30, 100, 200]\n",
      "5\n",
      "[10, 20, 30, 40, 50, 60]\n",
      "[10, 20, 30, 40, 50, [60, 70, 80, 90]]\n",
      "[10, 20, 30, 40, 50, 60, 70, 80, 90]\n"
     ]
    }
   ],
   "source": [
    "# 리스트 추가.\n",
    "data = [10, 20, 30]\n",
    "data.append([100, 200])\n",
    "print(data)\n",
    "print(len(data))\n",
    "\n",
    "\n",
    "# 리스트 확장\n",
    "data = [10, 20, 30]\n",
    "data.extend([100, 200])\n",
    "print(data)\n",
    "print(len(data))\n",
    "\n",
    "data = [10, 20, 30]\n",
    "data += [40, 50, 60]\n",
    "print(data)\n",
    "\n",
    "# 리스트 합치기\n",
    "data = [10, 20, 30, 40, 50]\n",
    "data1 = [60, 70, 80, 90]\n",
    "data.append(data1)\n",
    "print(data)\n",
    "\n",
    "data = [10, 20, 30, 40, 50]\n",
    "data1 = [60, 70, 80, 90]\n",
    "data.extend(data1)\n",
    "print(data)"
   ]
  },
  {
   "cell_type": "code",
   "execution_count": 36,
   "id": "ea9dcb46",
   "metadata": {},
   "outputs": [
    {
     "name": "stdout",
     "output_type": "stream",
     "text": [
      "[10, 20, 30]\n",
      "[10, 20, 25, 30]\n",
      "[10, 20, 25, 30, 40]\n",
      "[10, 20, 25, 30, 40, [50, 60, 70]]\n",
      "[10, 20, 25, 30, 35, 40, [50, 60, 70]]\n",
      "[10, 20, 25, 30, 35, [50, 60, 70]]\n"
     ]
    }
   ],
   "source": [
    "# 리스트 삽입\n",
    "# insert ( index, 넣을 item )\n",
    "data = [10, 20, 30]\n",
    "print(data)\n",
    "data.insert(-1, 25)\n",
    "print(data)\n",
    "data.insert(len(data), 40)\n",
    "print(data)\n",
    "data.insert(len(data), [50, 60, 70])\n",
    "print(data)\n",
    "data.insert(-2, 35)\n",
    "print(data)"
   ]
  },
  {
   "cell_type": "code",
   "execution_count": 50,
   "id": "aa2ba39c",
   "metadata": {},
   "outputs": [
    {
     "name": "stdout",
     "output_type": "stream",
     "text": [
      "1 [10, 20, 30, 50, 60, 70]\n",
      "2 [20, 30, 50, 60, 70]\n",
      "cnt =  5\n",
      "5 70\n",
      "6 [20, 30, 50, 60]\n",
      "3 30\n",
      "4 [20, 50, 60]\n",
      "cnt =  3\n"
     ]
    }
   ],
   "source": [
    "# 리스트의 삭제\n",
    "# 값으로 삭제\n",
    "data = [10, 20, 30, 40, 50, 60, 70]\n",
    "data.remove(40)\n",
    "print('1', data)\n",
    "\n",
    "# 인덱스로 삭제 1\n",
    "del(data[0])\n",
    "print('2', data)\n",
    "print('cnt = ',len(data))\n",
    "\n",
    "# 뒤에서 꺼내기\n",
    "print('5', data.pop())\n",
    "print('6', data)\n",
    "\n",
    "# 인덱스로 삭제 2\n",
    "print('3', data.pop(1))\n",
    "print('4', data)\n",
    "print('cnt = ', len(data))"
   ]
  },
  {
   "cell_type": "code",
   "execution_count": 58,
   "id": "29c51f39",
   "metadata": {},
   "outputs": [
    {
     "name": "stdout",
     "output_type": "stream",
     "text": [
      "[15, 20, 30, 40]\n"
     ]
    }
   ],
   "source": [
    "# 리스트 업데이트\n",
    "data = [10, 20, 30, 40]\n",
    "data[0] = 15\n",
    "print(data)"
   ]
  },
  {
   "cell_type": "code",
   "execution_count": 74,
   "id": "336aa0a4",
   "metadata": {
    "scrolled": true
   },
   "outputs": [
    {
     "name": "stdout",
     "output_type": "stream",
     "text": [
      "[10, 20, 30]\n",
      "[10, 20, 30, 40]\n",
      "[40, 50]\n",
      "[10, 20, 30, 40, 50]\n",
      "[10, 20, 30, 40, 50]\n",
      "[10, 20, 30, 40, 50]\n",
      "[10, 30, 50]\n",
      "[10, 30, 50]\n",
      "[10, 40]\n"
     ]
    }
   ],
   "source": [
    "# 리스트 슬라이싱\n",
    "# start index : end index - 1: increment\n",
    "data = [10, 20, 30, 40, 50]\n",
    "print(data[0:3])\n",
    "print(data[:-1])\n",
    "print(data[3:])\n",
    "print(data[:])\n",
    "\n",
    "# Increment\n",
    "print(data[0:5:1])\n",
    "print(data[0::1])\n",
    "print(data[0::2])\n",
    "print(data[::2])\n",
    "print(data[::3])"
   ]
  },
  {
   "cell_type": "code",
   "execution_count": 91,
   "id": "c50e1e23",
   "metadata": {},
   "outputs": [
    {
     "name": "stdout",
     "output_type": "stream",
     "text": [
      "[10, 20, 30, 50, 60]\n",
      "[60, 50, 30, 20, 10]\n",
      "sorted :  [10, 20, 30, 50, 60]\n"
     ]
    }
   ],
   "source": [
    "# 리스트 정렬\n",
    "data = [50, 30, 20, 10, 60]\n",
    "data.sort()\n",
    "print(data)\n",
    "\n",
    "# 내림차순\n",
    "data.sort(reverse=True)\n",
    "print(data)\n",
    "\n",
    "# Sorted 함수\n",
    "data = sorted(data)\n",
    "print('sorted : ', data)"
   ]
  },
  {
   "cell_type": "code",
   "execution_count": 9,
   "id": "3ff004c8",
   "metadata": {},
   "outputs": [
    {
     "name": "stdout",
     "output_type": "stream",
     "text": [
      "[0, 1, 2, 3, 4, 5, 6, 7, 8, 9]\n",
      "[0, 1, 2, 3, 4, 5, 6, 7, 8, 9]\n"
     ]
    }
   ],
   "source": [
    "# 컴프리핸션은 이해, 이해력, 포용 포함압축, 축약!!\n",
    "data1 = []\n",
    "for i in range(10):\n",
    "    data1.append(i)\n",
    "print(data1)\n",
    "\n",
    "data2 = [i for i in range(10)]\n",
    "print(data2)"
   ]
  },
  {
   "cell_type": "code",
   "execution_count": 10,
   "id": "e38bc53c",
   "metadata": {},
   "outputs": [
    {
     "name": "stdout",
     "output_type": "stream",
     "text": [
      "[0, 2, 4, 6, 8]\n",
      "[0, 2, 4, 6, 8]\n"
     ]
    }
   ],
   "source": [
    "# 컴프리 핸션에 if 문을 붙일수 있다.\n",
    "data3 = []\n",
    "for i in range(10):\n",
    "    if i % 2 == 0:\n",
    "        data3.append(i)\n",
    "print(data3)\n",
    "\n",
    "data4 = [i for i in range(10) if i % 2 == 0]\n",
    "print(data4)"
   ]
  },
  {
   "cell_type": "code",
   "execution_count": 11,
   "id": "acc938db",
   "metadata": {},
   "outputs": [
    {
     "name": "stdout",
     "output_type": "stream",
     "text": [
      "[2, 4, 6, 8, 10, 12, 14, 16, 18, 3, 6, 9, 12, 15, 18, 21, 24, 27, 4, 8, 12, 16, 20, 24, 28, 32, 36, 5, 10, 15, 20, 25, 30, 35, 40, 45, 6, 12, 18, 24, 30, 36, 42, 48, 54, 7, 14, 21, 28, 35, 42, 49, 56, 63, 8, 16, 24, 32, 40, 48, 56, 64, 72, 9, 18, 27, 36, 45, 54, 63, 72, 81]\n",
      "[2, 4, 6, 8, 10, 12, 14, 16, 18, 3, 6, 9, 12, 15, 18, 21, 24, 27, 4, 8, 12, 16, 20, 24, 28, 32, 36, 5, 10, 15, 20, 25, 30, 35, 40, 45, 6, 12, 18, 24, 30, 36, 42, 48, 54, 7, 14, 21, 28, 35, 42, 49, 56, 63, 8, 16, 24, 32, 40, 48, 56, 64, 72, 9, 18, 27, 36, 45, 54, 63, 72, 81]\n"
     ]
    }
   ],
   "source": [
    "# 컴프리핸션에 중복 for문 사용\n",
    "# 컴프리 핸션을 통해 리스틀르 구성할때 중복 for문을 이용할 수 있다.\n",
    "data = []\n",
    "for i in range(2, 10):\n",
    "    for j in range(1, 10):\n",
    "        data.append(i*j)\n",
    "print(data)\n",
    "\n",
    "data =  [i * j for i in range(2, 10) for j in range(1, 10)]\n",
    "print(data)"
   ]
  },
  {
   "cell_type": "code",
   "execution_count": 14,
   "id": "e79add35",
   "metadata": {},
   "outputs": [
    {
     "name": "stdout",
     "output_type": "stream",
     "text": [
      "[0, 100, 2, 100, 4, 100, 6, 100, 8, 100]\n",
      "[0, 100, 2, 100, 4, 100, 6, 100, 8, 100]\n"
     ]
    }
   ],
   "source": [
    "# for문과 if 붙일때 else도 있는 경우 if문장이 앞쪽에 있어야 함!!\n",
    "data = []\n",
    "for i in range(10):\n",
    "    if (i % 2 == 0):\n",
    "        data.append(i)\n",
    "    else:\n",
    "        data.append(100)\n",
    "print(data)\n",
    "\n",
    "data = [i if i % 2 == 0 else 100 for i in range(10)]\n",
    "print(data)\n"
   ]
  }
 ],
 "metadata": {
  "kernelspec": {
   "display_name": "Python 3 (ipykernel)",
   "language": "python",
   "name": "python3"
  },
  "language_info": {
   "codemirror_mode": {
    "name": "ipython",
    "version": 3
   },
   "file_extension": ".py",
   "mimetype": "text/x-python",
   "name": "python",
   "nbconvert_exporter": "python",
   "pygments_lexer": "ipython3",
   "version": "3.9.12"
  }
 },
 "nbformat": 4,
 "nbformat_minor": 5
}
