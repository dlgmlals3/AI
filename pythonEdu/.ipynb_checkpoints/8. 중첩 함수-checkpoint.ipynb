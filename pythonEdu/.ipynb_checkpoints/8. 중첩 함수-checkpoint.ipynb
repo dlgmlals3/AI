{
 "cells": [
  {
   "cell_type": "code",
   "execution_count": 1,
   "id": "2ab87adf",
   "metadata": {},
   "outputs": [
    {
     "name": "stdout",
     "output_type": "stream",
     "text": [
      "10\n"
     ]
    }
   ],
   "source": [
    "# 전역변수\n",
    "data = 10\n",
    "def f1():\n",
    "    print(data)\n",
    "\n",
    "f1()"
   ]
  },
  {
   "cell_type": "code",
   "execution_count": 2,
   "id": "7a6835b4",
   "metadata": {},
   "outputs": [
    {
     "name": "stdout",
     "output_type": "stream",
     "text": [
      "10\n",
      "20\n"
     ]
    }
   ],
   "source": [
    "x = 20\n",
    "def func():\n",
    "    x = 10 # 지역변수\n",
    "    print(x)\n",
    "\n",
    "func()\n",
    "print(x)\n"
   ]
  },
  {
   "cell_type": "code",
   "execution_count": 3,
   "id": "341a4917",
   "metadata": {},
   "outputs": [
    {
     "name": "stdout",
     "output_type": "stream",
     "text": [
      "10\n",
      "10\n"
     ]
    }
   ],
   "source": [
    "# 함수 안에서 전역변수를 변경하기 위해서는 global 예약어가 필요하다.\n",
    "x = 20\n",
    "def func():\n",
    "    global x\n",
    "    x = 10\n",
    "    print(x)\n",
    "    \n",
    "func()\n",
    "print(x)"
   ]
  },
  {
   "cell_type": "code",
   "execution_count": 4,
   "id": "8f16ef03",
   "metadata": {},
   "outputs": [
    {
     "name": "stdout",
     "output_type": "stream",
     "text": [
      "hello\n"
     ]
    }
   ],
   "source": [
    "# 자식 함수 에서는 부모 함수의 지역변수를 사용 가능\n",
    "def print_insa():\n",
    "    insa = 'hello'\n",
    "    def print_message():\n",
    "        print(insa)\n",
    "    print_message()\n",
    "print_insa()"
   ]
  },
  {
   "cell_type": "code",
   "execution_count": 6,
   "id": "66a8237d",
   "metadata": {},
   "outputs": [
    {
     "name": "stdout",
     "output_type": "stream",
     "text": [
      "10\n"
     ]
    }
   ],
   "source": [
    "# 현재 함수의 바깥쪽 지역 변수의 값을 변경하려면 nonlocal 키워드를 사용해야 한다.\n",
    "def A():\n",
    "    x = 10\n",
    "    def B():\n",
    "        nonlocal x\n",
    "        x = 20\n",
    "    B()\n",
    "    print(x)\n",
    "A()"
   ]
  },
  {
   "cell_type": "code",
   "execution_count": 7,
   "id": "73589116",
   "metadata": {},
   "outputs": [
    {
     "name": "stdout",
     "output_type": "stream",
     "text": [
      "60\n",
      "700\n"
     ]
    }
   ],
   "source": [
    "# nonlocal 변수 적용 범위\n",
    "# nonlocal은 현재 함수의 바깥쪽에 있는 지역변수를 찾을때 가장 가까운 함수의 지역변수부터 먼저 찾는다.\n",
    "\n",
    "def A():\n",
    "    x = 100\n",
    "    y = 500\n",
    "    def B():\n",
    "        x = 10\n",
    "        def C():\n",
    "            nonlocal x\n",
    "            nonlocal y\n",
    "            x += 50\n",
    "            y += 200\n",
    "            print(x)\n",
    "            print(y)\n",
    "        C()\n",
    "    B()\n",
    "A()"
   ]
  }
 ],
 "metadata": {
  "kernelspec": {
   "display_name": "Python 3 (ipykernel)",
   "language": "python",
   "name": "python3"
  },
  "language_info": {
   "codemirror_mode": {
    "name": "ipython",
    "version": 3
   },
   "file_extension": ".py",
   "mimetype": "text/x-python",
   "name": "python",
   "nbconvert_exporter": "python",
   "pygments_lexer": "ipython3",
   "version": "3.9.12"
  }
 },
 "nbformat": 4,
 "nbformat_minor": 5
}
