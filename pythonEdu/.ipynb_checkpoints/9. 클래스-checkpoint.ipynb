{
 "cells": [
  {
   "cell_type": "code",
   "execution_count": 1,
   "id": "38fb6e31",
   "metadata": {},
   "outputs": [
    {
     "name": "stdout",
     "output_type": "stream",
     "text": [
      "init_call\n",
      "kim\n",
      "seoul\n",
      "name:kim address:seoul\n"
     ]
    }
   ],
   "source": [
    "class Person:\n",
    "    def __init__(self):\n",
    "        print('init_call')\n",
    "        self.name = 'kim'\n",
    "        self.address = 'seoul'\n",
    "    def print_info(self):\n",
    "        print('name:{} address:{}'.format(self.name, self.address))\n",
    "obj = Person()\n",
    "print(obj.name)\n",
    "print(obj.address)\n",
    "obj.print_info()"
   ]
  },
  {
   "cell_type": "code",
   "execution_count": 3,
   "id": "fbf081da",
   "metadata": {},
   "outputs": [
    {
     "name": "stdout",
     "output_type": "stream",
     "text": [
      "['book', 'pencil']\n",
      "['book', 'pencil']\n"
     ]
    }
   ],
   "source": [
    "# __init__ 함수가 없으면, 클래스 변수 static 됨...\n",
    "# bag 은 클래스 변수\n",
    "\n",
    "class Student:\n",
    "    bag = [] # == Student.bag\n",
    "    def insert_bag(self, stuff):\n",
    "        self.bag.append(stuff)\n",
    "    def bag_info(self):\n",
    "        print(self.bag)\n",
    "        \n",
    "hong = Student()        \n",
    "hong.insert_bag('book')\n",
    "yun = Student()\n",
    "yun.insert_bag('pencil')\n",
    "\n",
    "hong.bag_info()\n",
    "hong.bag_info()"
   ]
  },
  {
   "cell_type": "code",
   "execution_count": 4,
   "id": "5ad3399a",
   "metadata": {},
   "outputs": [
    {
     "name": "stdout",
     "output_type": "stream",
     "text": [
      "['book']\n",
      "['pencil']\n"
     ]
    }
   ],
   "source": [
    "# 클래스 변수 사용하지 말고 멤버 변수로 사용하자.\n",
    "class Student:\n",
    "    def __init__(self):\n",
    "        self.bag = []\n",
    "    def insert_bag(self, stuff):\n",
    "        self.bag.append(stuff)\n",
    "    def bag_info(self):\n",
    "        print(self.bag)\n",
    "        \n",
    "hong = Student()\n",
    "hong.insert_bag('book')\n",
    "yun = Student()\n",
    "yun.insert_bag('pencil')\n",
    "hong.bag_info()\n",
    "yun.bag_info()"
   ]
  },
  {
   "cell_type": "code",
   "execution_count": 5,
   "id": "7f89f01d",
   "metadata": {},
   "outputs": [
    {
     "name": "stdout",
     "output_type": "stream",
     "text": [
      "30\n",
      "200\n"
     ]
    }
   ],
   "source": [
    "# 정적 메소드와 클래스 메소드 차이\n",
    "# 정적 메서드는 인스턴스 속성에 접근할수 없다.\n",
    "# 공통 동작할때 사용\n",
    "\n",
    "class Calc:\n",
    "    @staticmethod\n",
    "    def plus(a, b):\n",
    "        print(a + b)\n",
    "    \n",
    "    @staticmethod\n",
    "    def multi(a, b):\n",
    "        print(a * b)\n",
    "\n",
    "Calc.plus(10, 20)\n",
    "Calc.multi(10, 20)"
   ]
  },
  {
   "cell_type": "code",
   "execution_count": null,
   "id": "82ecb984",
   "metadata": {},
   "outputs": [],
   "source": [
    "# 클래스 메소드\n",
    "# cls 는 클래스 정적 오브젝트\n",
    "# 인스턴스 객체 생성하지 않고 사용하는 것은 정적 메서드와 동일\n",
    "# cls 클래스 변수로 접근하여 권한있는 메소드\n",
    "\n",
    "class Car:\n",
    "    count = 0\n",
    "    def __init__(self):\n",
    "        Car.count += 1\n",
    "        \n",
    "    @classmethod\n",
    "    def maked_car_count(cls):\n",
    "        print('{}대의 자동차가 생산되었습니다.'.format(cls.count))\n",
    "\n",
    "c1 = Car()\n",
    "c2 = Car()\n",
    "Car.maked_car_count()\n",
    "        "
   ]
  }
 ],
 "metadata": {
  "kernelspec": {
   "display_name": "Python 3 (ipykernel)",
   "language": "python",
   "name": "python3"
  },
  "language_info": {
   "codemirror_mode": {
    "name": "ipython",
    "version": 3
   },
   "file_extension": ".py",
   "mimetype": "text/x-python",
   "name": "python",
   "nbconvert_exporter": "python",
   "pygments_lexer": "ipython3",
   "version": "3.9.12"
  }
 },
 "nbformat": 4,
 "nbformat_minor": 5
}
