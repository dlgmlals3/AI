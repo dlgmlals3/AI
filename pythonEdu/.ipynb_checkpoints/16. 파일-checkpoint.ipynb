{
 "cells": [
  {
   "cell_type": "code",
   "execution_count": 1,
   "id": "a60ee525",
   "metadata": {},
   "outputs": [
    {
     "name": "stdout",
     "output_type": "stream",
     "text": [
      "hello world!!!\n"
     ]
    }
   ],
   "source": [
    "# 파일 쓰기\n",
    "file = open('hello.txt', 'w')\n",
    "file.write('hello world!!!')\n",
    "file.close()\n",
    "\n",
    "# 파일 읽기\n",
    "file2 = open('hello.txt', 'r')\n",
    "rstr = file2.read()\n",
    "print(rstr)\n",
    "file2.close()"
   ]
  },
  {
   "cell_type": "code",
   "execution_count": null,
   "id": "f42345ba",
   "metadata": {},
   "outputs": [],
   "source": [
    "# 파일 객체는 이터레이터를 지원\n",
    "\n",
    "infile = open('test.txt', 'r')\n",
    "for line in infile:\n",
    "    print(line, end='')    \n",
    "print()\n",
    "infile.close()"
   ]
  },
  {
   "cell_type": "code",
   "execution_count": 9,
   "id": "ebf03b68",
   "metadata": {},
   "outputs": [
    {
     "name": "stdout",
     "output_type": "stream",
     "text": [
      "['first', 'second', 'third']\n"
     ]
    }
   ],
   "source": [
    "# 파일 쓰기\n",
    "file = open('test.txt', 'w')\n",
    "file.write('first\\n')\n",
    "file.write('second\\n')\n",
    "file.write('third\\n')\n",
    "file.close()\n",
    "\n",
    "\n",
    "infile2 = open('test.txt', 'r')\n",
    "ldata = [line.rstrip() for line in infile2]\n",
    "print(ldata)\n"
   ]
  },
  {
   "cell_type": "code",
   "execution_count": 17,
   "id": "645cbb47",
   "metadata": {},
   "outputs": [],
   "source": [
    "infile3 = open('test.txt', 'r')\n",
    "rdata = [line for line in infile3]\n",
    "rdata.sort(reverse=False)\n",
    "rdata\n",
    "\n",
    "outfile3 = open('out.txt', 'w')\n",
    "outfile3.writelines(rdata)\n",
    "infile3.close()\n",
    "outfile3.close()"
   ]
  },
  {
   "cell_type": "code",
   "execution_count": 19,
   "id": "919042b7",
   "metadata": {},
   "outputs": [
    {
     "name": "stdout",
     "output_type": "stream",
     "text": [
      "kim 20 seoul {'korean': 90, 'english': 99, 'science': 88}\n"
     ]
    }
   ],
   "source": [
    "# 바이너리 파일을 읽고 쓰기를 하기 위한 pickle 모듈을 제공한다.\n",
    "# 바이너리 데이터를 파일에 저장하는 과정을 피클링 이라고 한다.\n",
    "\n",
    "import pickle\n",
    "\n",
    "name = 'kim'\n",
    "age = 20\n",
    "address = 'seoul'\n",
    "scores = {'korean':90, 'english':99, 'science':88}\n",
    "file = open('p_data.p', 'wb')\n",
    "pickle.dump(name, file)\n",
    "pickle.dump(age, file)\n",
    "pickle.dump(address, file)\n",
    "pickle.dump(scores, file)\n",
    "file.close()\n",
    "\n",
    "infile = open('p_data.p', 'rb')\n",
    "name = pickle.load(infile)\n",
    "age = pickle.load(infile)\n",
    "address = pickle.load(infile)\n",
    "score = pickle.load(infile)\n",
    "\n",
    "print(name, age, address, score)"
   ]
  },
  {
   "cell_type": "code",
   "execution_count": 20,
   "id": "d777dfc2",
   "metadata": {},
   "outputs": [],
   "source": [
    "# 디렉터리와 파일 확인하는 함수\n",
    "import os\n",
    "os.mkdir('newfolder')\n",
    "\n",
    "if not os.path.isdir('newfolder'):\n",
    "    os.mkdir('newfolder')\n",
    "\n",
    "if not os.path.exists('newfolder/newfile.txt'):\n",
    "    file = open('newfolder/newfile.txt', 'w')\n",
    "    file.write('hi everyone!!!')\n",
    "    file.close()"
   ]
  }
 ],
 "metadata": {
  "kernelspec": {
   "display_name": "Python 3 (ipykernel)",
   "language": "python",
   "name": "python3"
  },
  "language_info": {
   "codemirror_mode": {
    "name": "ipython",
    "version": 3
   },
   "file_extension": ".py",
   "mimetype": "text/x-python",
   "name": "python",
   "nbconvert_exporter": "python",
   "pygments_lexer": "ipython3",
   "version": "3.9.12"
  }
 },
 "nbformat": 4,
 "nbformat_minor": 5
}
