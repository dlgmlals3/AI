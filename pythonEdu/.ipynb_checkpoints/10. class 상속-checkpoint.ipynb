{
 "cells": [
  {
   "cell_type": "code",
   "execution_count": 3,
   "id": "a2712aee",
   "metadata": {},
   "outputs": [
    {
     "name": "stdout",
     "output_type": "stream",
     "text": [
      "공부하는중\n",
      "안녕하세요\n"
     ]
    }
   ],
   "source": [
    "class Person:\n",
    "    def insa(self):\n",
    "        print(\"안녕하세요\")\n",
    "\n",
    "class Student(Person):\n",
    "    def study(self):\n",
    "        print(\"공부하는중\")\n",
    "\n",
    "obj = Student()\n",
    "obj.study()\n",
    "obj.insa()"
   ]
  },
  {
   "cell_type": "code",
   "execution_count": 4,
   "id": "85e1c5a8",
   "metadata": {},
   "outputs": [
    {
     "name": "stdout",
     "output_type": "stream",
     "text": [
      "BBB init method\n"
     ]
    },
    {
     "ename": "AttributeError",
     "evalue": "'BBB' object has no attribute 'message'",
     "output_type": "error",
     "traceback": [
      "\u001b[1;31m---------------------------------------------------------------------------\u001b[0m",
      "\u001b[1;31mAttributeError\u001b[0m                            Traceback (most recent call last)",
      "Input \u001b[1;32mIn [4]\u001b[0m, in \u001b[0;36m<cell line: 10>\u001b[1;34m()\u001b[0m\n\u001b[0;32m      7\u001b[0m         \u001b[38;5;28mprint\u001b[39m(\u001b[38;5;124m\"\u001b[39m\u001b[38;5;124mBBB init method\u001b[39m\u001b[38;5;124m\"\u001b[39m)\n\u001b[0;32m      8\u001b[0m         \u001b[38;5;28mprint\u001b[39m(\u001b[38;5;28mself\u001b[39m\u001b[38;5;241m.\u001b[39mmessage)\n\u001b[1;32m---> 10\u001b[0m obj \u001b[38;5;241m=\u001b[39m \u001b[43mBBB\u001b[49m\u001b[43m(\u001b[49m\u001b[43m)\u001b[49m\n",
      "Input \u001b[1;32mIn [4]\u001b[0m, in \u001b[0;36mBBB.__init__\u001b[1;34m(self)\u001b[0m\n\u001b[0;32m      6\u001b[0m \u001b[38;5;28;01mdef\u001b[39;00m \u001b[38;5;21m__init__\u001b[39m(\u001b[38;5;28mself\u001b[39m):\n\u001b[0;32m      7\u001b[0m     \u001b[38;5;28mprint\u001b[39m(\u001b[38;5;124m\"\u001b[39m\u001b[38;5;124mBBB init method\u001b[39m\u001b[38;5;124m\"\u001b[39m)\n\u001b[1;32m----> 8\u001b[0m     \u001b[38;5;28mprint\u001b[39m(\u001b[38;5;28;43mself\u001b[39;49m\u001b[38;5;241;43m.\u001b[39;49m\u001b[43mmessage\u001b[49m)\n",
      "\u001b[1;31mAttributeError\u001b[0m: 'BBB' object has no attribute 'message'"
     ]
    }
   ],
   "source": [
    "# BBB가 AAA를 상속하더라도 AAA의 init() 실행시켜 줘야만 함.\n",
    "class AAA:\n",
    "    def __init__(self):\n",
    "        print('AAA init method')\n",
    "        self.message = 'hi everyone'\n",
    "class BBB(AAA):\n",
    "    def __init__(self):\n",
    "        print(\"BBB init method\")\n",
    "        print(self.message)\n",
    "\n",
    "obj = BBB()"
   ]
  },
  {
   "cell_type": "code",
   "execution_count": 5,
   "id": "c6fcf0cd",
   "metadata": {},
   "outputs": [
    {
     "name": "stdout",
     "output_type": "stream",
     "text": [
      "AAA init method\n",
      "BBB init method\n",
      "hi everyone\n"
     ]
    }
   ],
   "source": [
    "# BBB가 AAA를 상속하더라도 AAA의 init() 실행시켜 줘야만 함.\n",
    "class AAA:\n",
    "    def __init__(self):\n",
    "        print('AAA init method')\n",
    "        self.message = 'hi everyone'\n",
    "class BBB(AAA):\n",
    "    def __init__(self):\n",
    "        super().__init__()\n",
    "        print(\"BBB init method\")\n",
    "        print(self.message)\n",
    "\n",
    "obj = BBB()"
   ]
  },
  {
   "cell_type": "code",
   "execution_count": 7,
   "id": "72cb33ad",
   "metadata": {},
   "outputs": [
    {
     "name": "stdout",
     "output_type": "stream",
     "text": [
      "안녕하세요\n",
      "저는 파이썬 포등학교 학생입니다.\n"
     ]
    }
   ],
   "source": [
    "# 오버라이딩\n",
    "class Pseron:\n",
    "    def insa(self):\n",
    "        print(\"안녕하세요\")\n",
    "\n",
    "class Student(Person):\n",
    "    def insa(self):\n",
    "        super().insa()\n",
    "        print(\"저는 파이썬 포등학교 학생입니다.\")\n",
    "\n",
    "obj = Student()\n",
    "obj.insa()"
   ]
  },
  {
   "cell_type": "code",
   "execution_count": null,
   "id": "ee9e97aa",
   "metadata": {},
   "outputs": [],
   "source": [
    "# 추상 클래스\n",
    "# 미완성된 메서드를 가지고 있는 클래스\n"
   ]
  }
 ],
 "metadata": {
  "kernelspec": {
   "display_name": "Python 3 (ipykernel)",
   "language": "python",
   "name": "python3"
  },
  "language_info": {
   "codemirror_mode": {
    "name": "ipython",
    "version": 3
   },
   "file_extension": ".py",
   "mimetype": "text/x-python",
   "name": "python",
   "nbconvert_exporter": "python",
   "pygments_lexer": "ipython3",
   "version": "3.9.12"
  }
 },
 "nbformat": 4,
 "nbformat_minor": 5
}
