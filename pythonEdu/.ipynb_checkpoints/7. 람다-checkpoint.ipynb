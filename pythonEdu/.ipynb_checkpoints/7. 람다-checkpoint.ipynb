{
 "cells": [
  {
   "cell_type": "code",
   "execution_count": 1,
   "id": "e7fa74b4",
   "metadata": {},
   "outputs": [
    {
     "name": "stdout",
     "output_type": "stream",
     "text": [
      "20\n"
     ]
    }
   ],
   "source": [
    "def plus_ten(x):\n",
    "    return x + 10\n",
    "\n",
    "lf = lambda x : x + 10\n",
    "print(lf(10))\n"
   ]
  },
  {
   "cell_type": "code",
   "execution_count": null,
   "id": "bd691c9e",
   "metadata": {},
   "outputs": [],
   "source": [
    "# 람다는"
   ]
  },
  {
   "cell_type": "code",
   "execution_count": 3,
   "id": "4219bcbc",
   "metadata": {},
   "outputs": [
    {
     "name": "stdout",
     "output_type": "stream",
     "text": [
      "30\n"
     ]
    }
   ],
   "source": [
    "print((lambda x : x + 20)(10))"
   ]
  },
  {
   "cell_type": "code",
   "execution_count": 4,
   "id": "0f52af45",
   "metadata": {},
   "outputs": [
    {
     "ename": "SyntaxError",
     "evalue": "invalid syntax (975468479.py, line 1)",
     "output_type": "error",
     "traceback": [
      "\u001b[1;36m  Input \u001b[1;32mIn [4]\u001b[1;36m\u001b[0m\n\u001b[1;33m    print((lambda x : y=20 x + y)(10))\u001b[0m\n\u001b[1;37m                       ^\u001b[0m\n\u001b[1;31mSyntaxError\u001b[0m\u001b[1;31m:\u001b[0m invalid syntax\n"
     ]
    }
   ],
   "source": [
    "# error 발생, 람다 안에서 변수를 선언할수 없다.\n",
    "# print((lambda x : y=20 x + y)(10))"
   ]
  },
  {
   "cell_type": "code",
   "execution_count": 5,
   "id": "6887ccf9",
   "metadata": {},
   "outputs": [
    {
     "name": "stdout",
     "output_type": "stream",
     "text": [
      "30\n"
     ]
    }
   ],
   "source": [
    "y = 20\n",
    "print((lambda x : x + y)(10))"
   ]
  },
  {
   "cell_type": "code",
   "execution_count": 8,
   "id": "c30cc9fb",
   "metadata": {},
   "outputs": [
    {
     "name": "stdout",
     "output_type": "stream",
     "text": [
      "[15, 12, 18, 19]\n",
      "[15, 12, 18, 19]\n"
     ]
    }
   ],
   "source": [
    "def plus_ten(x):\n",
    "    return x + 10\n",
    "\n",
    "d1 = [5,2,8,9]\n",
    "data1 = list(map(plus_ten, d1))\n",
    "print(data1)\n",
    "\n",
    "data2 = list(map(lambda x : x + 10, d1))\n",
    "print(data2)"
   ]
  },
  {
   "cell_type": "code",
   "execution_count": 9,
   "id": "8e9f6b38",
   "metadata": {},
   "outputs": [
    {
     "name": "stdout",
     "output_type": "stream",
     "text": [
      "[1, 2, '3', 4, 5, '6', 7, 8, '9', 10]\n"
     ]
    }
   ],
   "source": [
    "# 람다 표현식에도 조건부 표현식을 적용할 수 있다.\n",
    "a = list(range(1, 11))\n",
    "data = list(map(lambda x : str(x) if x % 3 == 0 else x, a))\n",
    "print(data)"
   ]
  },
  {
   "cell_type": "code",
   "execution_count": 10,
   "id": "6bd72ee9",
   "metadata": {},
   "outputs": [
    {
     "name": "stdout",
     "output_type": "stream",
     "text": [
      "[8, 7, 9]\n"
     ]
    }
   ],
   "source": [
    "# filter() 적용\n",
    "# 지정한 함수의 반환 값이 True 일때만 해당 요소를 가져온다.\n",
    "\n",
    "def f(x) :\n",
    "    return x > 5 and x < 10\n",
    "\n",
    "data = [8,3,2,10,15,7,1,9,0,11]\n",
    "result = list(filter(f, data))\n",
    "print(result)"
   ]
  },
  {
   "cell_type": "code",
   "execution_count": null,
   "id": "a90b329b",
   "metadata": {},
   "outputs": [],
   "source": []
  },
  {
   "cell_type": "code",
   "execution_count": null,
   "id": "3b9c0a69",
   "metadata": {},
   "outputs": [],
   "source": []
  }
 ],
 "metadata": {
  "kernelspec": {
   "display_name": "Python 3 (ipykernel)",
   "language": "python",
   "name": "python3"
  },
  "language_info": {
   "codemirror_mode": {
    "name": "ipython",
    "version": 3
   },
   "file_extension": ".py",
   "mimetype": "text/x-python",
   "name": "python",
   "nbconvert_exporter": "python",
   "pygments_lexer": "ipython3",
   "version": "3.9.12"
  }
 },
 "nbformat": 4,
 "nbformat_minor": 5
}
