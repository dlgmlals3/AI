{
 "cells": [
  {
   "cell_type": "code",
   "execution_count": 29,
   "id": "b6124d90",
   "metadata": {},
   "outputs": [
    {
     "name": "stdout",
     "output_type": "stream",
     "text": [
      "[10, 20, 30, [100, 200]]\n",
      "4\n"
     ]
    }
   ],
   "source": [
    "# 리스트 추가\n",
    "data = [10, 20, 30]\n",
    "data.append([100, 200])\n",
    "print(data)\n",
    "print(len(data))"
   ]
  },
  {
   "cell_type": "code",
   "execution_count": 25,
   "id": "d7aac579",
   "metadata": {},
   "outputs": [
    {
     "name": "stdout",
     "output_type": "stream",
     "text": [
      "[100, 200, 300, 10, 20]\n",
      "5\n"
     ]
    }
   ],
   "source": [
    "# 리스트 확장\n",
    "data2 = [100, 200, 300]\n",
    "data2.extend([10, 20])\n",
    "print(data2)\n",
    "print(len(data2))"
   ]
  },
  {
   "cell_type": "code",
   "execution_count": 22,
   "id": "ea9dcb46",
   "metadata": {},
   "outputs": [
    {
     "name": "stdout",
     "output_type": "stream",
     "text": [
      "40\n",
      "[10, 20, 30]\n"
     ]
    }
   ],
   "source": [
    "data3 = [10, 20, 30, 40]\n",
    "print(data3.pop())\n",
    "print(data3)"
   ]
  },
  {
   "cell_type": "code",
   "execution_count": 24,
   "id": "a398032f",
   "metadata": {},
   "outputs": [
    {
     "name": "stdout",
     "output_type": "stream",
     "text": [
      "True\n",
      "[0, 0, 99, 0, 0]\n",
      "[0, 0, 99, 0, 0]\n"
     ]
    }
   ],
   "source": [
    "# data1 = data2로 할당하면 두변수는 같은 리스트를 지정한다.\n",
    "data1 = [0, 0, 0, 0, 0]\n",
    "data2 = data1\n",
    "print(data1 is data2)\n",
    "\n",
    "# data1과  data2는 같은 리스트이므로 data2를 변경하면 data1도 변경됨.\n",
    "data2[2] = 99\n",
    "print(data2)\n",
    "print(data1)"
   ]
  },
  {
   "cell_type": "code",
   "execution_count": 6,
   "id": "938fdc3b",
   "metadata": {
    "scrolled": true
   },
   "outputs": [
    {
     "name": "stdout",
     "output_type": "stream",
     "text": [
      "False\n",
      "[0, 0, 99, 0, 0]\n",
      "[0, 0, 0, 0, 0]\n"
     ]
    }
   ],
   "source": [
    "# 리스트를 복사하기 위해서는 copy()를 이용한다.\n",
    "data3 = [0, 0, 0, 0, 0]\n",
    "data4 = data3.copy()\n",
    "print(data3 is data4)\n",
    "data3[2] = 99\n",
    "print(data3)\n",
    "print(data4)"
   ]
  },
  {
   "cell_type": "code",
   "execution_count": 9,
   "id": "3ff004c8",
   "metadata": {},
   "outputs": [
    {
     "name": "stdout",
     "output_type": "stream",
     "text": [
      "[0, 1, 2, 3, 4, 5, 6, 7, 8, 9]\n",
      "[0, 1, 2, 3, 4, 5, 6, 7, 8, 9]\n"
     ]
    }
   ],
   "source": [
    "# 컴프리핸션은 이해, 이해력, 포용 포함압축, 축약!!\n",
    "data1 = []\n",
    "for i in range(10):\n",
    "    data1.append(i)\n",
    "print(data1)\n",
    "\n",
    "data2 = [i for i in range(10)]\n",
    "print(data2)"
   ]
  },
  {
   "cell_type": "code",
   "execution_count": 10,
   "id": "e38bc53c",
   "metadata": {},
   "outputs": [
    {
     "name": "stdout",
     "output_type": "stream",
     "text": [
      "[0, 2, 4, 6, 8]\n",
      "[0, 2, 4, 6, 8]\n"
     ]
    }
   ],
   "source": [
    "# 컴프리 핸션에 if 문을 붙일수 있다.\n",
    "data3 = []\n",
    "for i in range(10):\n",
    "    if i % 2 == 0:\n",
    "        data3.append(i)\n",
    "print(data3)\n",
    "\n",
    "data4 = [i for i in range(10) if i % 2 == 0]\n",
    "print(data4)"
   ]
  },
  {
   "cell_type": "code",
   "execution_count": 11,
   "id": "acc938db",
   "metadata": {},
   "outputs": [
    {
     "name": "stdout",
     "output_type": "stream",
     "text": [
      "[2, 4, 6, 8, 10, 12, 14, 16, 18, 3, 6, 9, 12, 15, 18, 21, 24, 27, 4, 8, 12, 16, 20, 24, 28, 32, 36, 5, 10, 15, 20, 25, 30, 35, 40, 45, 6, 12, 18, 24, 30, 36, 42, 48, 54, 7, 14, 21, 28, 35, 42, 49, 56, 63, 8, 16, 24, 32, 40, 48, 56, 64, 72, 9, 18, 27, 36, 45, 54, 63, 72, 81]\n",
      "[2, 4, 6, 8, 10, 12, 14, 16, 18, 3, 6, 9, 12, 15, 18, 21, 24, 27, 4, 8, 12, 16, 20, 24, 28, 32, 36, 5, 10, 15, 20, 25, 30, 35, 40, 45, 6, 12, 18, 24, 30, 36, 42, 48, 54, 7, 14, 21, 28, 35, 42, 49, 56, 63, 8, 16, 24, 32, 40, 48, 56, 64, 72, 9, 18, 27, 36, 45, 54, 63, 72, 81]\n"
     ]
    }
   ],
   "source": [
    "# 컴프리핸션에 중복 for문 사용\n",
    "# 컴프리 핸션을 통해 리스틀르 구성할때 중복 for문을 이용할 수 있다.\n",
    "data = []\n",
    "for i in range(2, 10):\n",
    "    for j in range(1, 10):\n",
    "        data.append(i*j)\n",
    "print(data)\n",
    "\n",
    "data =  [i * j for i in range(2, 10) for j in range(1, 10)]\n",
    "print(data)"
   ]
  },
  {
   "cell_type": "code",
   "execution_count": 14,
   "id": "e79add35",
   "metadata": {},
   "outputs": [
    {
     "name": "stdout",
     "output_type": "stream",
     "text": [
      "[0, 100, 2, 100, 4, 100, 6, 100, 8, 100]\n",
      "[0, 100, 2, 100, 4, 100, 6, 100, 8, 100]\n"
     ]
    }
   ],
   "source": [
    "# for문과 if 붙일때 else도 있는 경우 if문장이 앞쪽에 있어야 함!!\n",
    "data = []\n",
    "for i in range(10):\n",
    "    if (i % 2 == 0):\n",
    "        data.append(i)\n",
    "    else:\n",
    "        data.append(100)\n",
    "print(data)\n",
    "\n",
    "data = [i if i % 2 == 0 else 100 for i in range(10)]\n",
    "print(data)\n"
   ]
  }
 ],
 "metadata": {
  "kernelspec": {
   "display_name": "Python 3 (ipykernel)",
   "language": "python",
   "name": "python3"
  },
  "language_info": {
   "codemirror_mode": {
    "name": "ipython",
    "version": 3
   },
   "file_extension": ".py",
   "mimetype": "text/x-python",
   "name": "python",
   "nbconvert_exporter": "python",
   "pygments_lexer": "ipython3",
   "version": "3.9.12"
  }
 },
 "nbformat": 4,
 "nbformat_minor": 5
}
