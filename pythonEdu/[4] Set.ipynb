{
 "cells": [
  {
   "cell_type": "markdown",
   "id": "36107203",
   "metadata": {},
   "source": [
    "Set\n",
    "dictionary 에서 key만 활용하는 데이터 구조\n",
    "요소가 중복되지 않고 순서대로 저장되지 않는다.\n",
    "합집합 교집합 차집합 연산 함수 제공한다.\n",
    "set 생성은 {} 또는 set()를 이용하여 만들 수 있다.\n",
    "\n"
   ]
  },
  {
   "cell_type": "code",
   "execution_count": 2,
   "id": "7f13b998",
   "metadata": {},
   "outputs": [
    {
     "name": "stdout",
     "output_type": "stream",
     "text": [
      "<class 'set'> {'three', 'one', 'two'}\n",
      "{50, 10, 20, 30}\n"
     ]
    }
   ],
   "source": [
    "# 중복을 해서 넣어도 중복제거\n",
    "data = {'one', 'three', 'two', 'one', 'two', 'one'}\n",
    "print(type(data), data)\n",
    "\n",
    "data = set([50, 20, 10, 30, 10, 20, 30, 20])\n",
    "print(data)"
   ]
  },
  {
   "cell_type": "code",
   "execution_count": 2,
   "id": "5651b782",
   "metadata": {},
   "outputs": [
    {
     "name": "stdout",
     "output_type": "stream",
     "text": [
      "<class 'dict'>\n",
      "<class 'set'>\n"
     ]
    }
   ],
   "source": [
    "# 비어있는 set을 구성할시 {}만 사용하면 딕셔너리가 생성되므로 set()를 이용한다.\n",
    "data = {}\n",
    "print(type(data))\n",
    "data = set()\n",
    "print(type(data))"
   ]
  },
  {
   "cell_type": "code",
   "execution_count": 14,
   "id": "08b4535a",
   "metadata": {},
   "outputs": [
    {
     "name": "stdout",
     "output_type": "stream",
     "text": [
      "{50, 20, 40, 10, 30}\n",
      "{30}\n",
      "{10, 20}\n",
      "False\n"
     ]
    }
   ],
   "source": [
    "# set 집합 연산\n",
    "\n",
    "# 합집합 Union\n",
    "data = {10, 20, 30}\n",
    "data1 = {30, 40, 50}\n",
    "print(data.union(data1))\n",
    "\n",
    "\n",
    "# 교집합 InterSecion\n",
    "print(data.intersection(data1))\n",
    "\n",
    "\n",
    "# 차집합 (A - B)\n",
    "print(data.difference(data1))\n",
    "\n",
    "\n",
    "# 부분 집합\n",
    "print(data.issubset(data1))"
   ]
  },
  {
   "cell_type": "code",
   "execution_count": 7,
   "id": "f1656637",
   "metadata": {},
   "outputs": [
    {
     "ename": "SyntaxError",
     "evalue": "unexpected EOF while parsing (1831050318.py, line 13)",
     "output_type": "error",
     "traceback": [
      "\u001b[1;36m  Input \u001b[1;32mIn [7]\u001b[1;36m\u001b[0m\n\u001b[1;33m    # print(s1 & s2)\u001b[0m\n\u001b[1;37m                    ^\u001b[0m\n\u001b[1;31mSyntaxError\u001b[0m\u001b[1;31m:\u001b[0m unexpected EOF while parsing\n"
     ]
    }
   ],
   "source": [
    "# 수학 연산\n",
    "# 합집합\n",
    "data = {10, 20, 30}\n",
    "data1 = {30, 40, 50}\n",
    "\n",
    "print(data.union(data1)\n",
    "\n",
    "\n",
    "\n",
    "# &연산자는 교집합을 구하며 함수는 intersection()을 사용한다.\n",
    "# print(s1.intersection(s2))\n",
    "\n",
    "# print(s1 & s2)"
   ]
  },
  {
   "cell_type": "code",
   "execution_count": 5,
   "id": "9a59e00e",
   "metadata": {},
   "outputs": [
    {
     "name": "stdout",
     "output_type": "stream",
     "text": [
      "{1, 2}\n",
      "{1, 2}\n"
     ]
    }
   ],
   "source": [
    "print(s1.difference(s2))\n",
    "print(s1 - s2)"
   ]
  },
  {
   "cell_type": "code",
   "execution_count": 6,
   "id": "2461b369",
   "metadata": {},
   "outputs": [
    {
     "name": "stdout",
     "output_type": "stream",
     "text": [
      "{1, 2, 5, 6}\n",
      "{1, 2, 5, 6}\n"
     ]
    }
   ],
   "source": [
    "# set 집합연산\n",
    "# ^ 연산자는 대칭 차집합을 구하며 함수는 symmetric_difference() 를 사용한다.\n",
    "print(set.symmetric_difference(s1, s2))\n",
    "print(s1 ^ s2)"
   ]
  },
  {
   "cell_type": "code",
   "execution_count": 7,
   "id": "2bbca09a",
   "metadata": {},
   "outputs": [
    {
     "name": "stdout",
     "output_type": "stream",
     "text": [
      "{1, 3, 4, 5, 7}\n",
      "{1, 3, 4, 5, 7, 8}\n"
     ]
    }
   ],
   "source": [
    "# set 할당 연산\n",
    "sd1 = {4,3,1,5}\n",
    "sd1 |= {7}\n",
    "print(sd1)\n",
    "\n",
    "sd1.update({8})\n",
    "print(sd1)"
   ]
  },
  {
   "cell_type": "code",
   "execution_count": 13,
   "id": "2f5a2cf3",
   "metadata": {},
   "outputs": [
    {
     "name": "stdout",
     "output_type": "stream",
     "text": [
      "True\n",
      "False\n",
      "{8, 9, 5, 7}\n",
      "{10, 50}\n",
      "{10, 50}\n"
     ]
    }
   ],
   "source": [
    "# set isdisjoint()는 현재 세트가 다른 세트와 겹치지 않는지 확인해준다.\n",
    "data1 = {1,2,3,4}\n",
    "print(data1.isdisjoint({5,6,7,8}))\n",
    "print(data1.isdisjoint({3,4,5,6}))\n",
    "\n",
    "# add는 요소를 추가할때 사용한다.\n",
    "data = {7, 8, 9}\n",
    "data.add(5)\n",
    "print(data)\n",
    "\n",
    "\n",
    "# remove 값이 없으면 error 발생\n",
    "# discard 값이 없으면 error 발생 X \n",
    "data3 = {10, 30, 50}\n",
    "data3.remove(30)\n",
    "print(data3)\n",
    "data3.discard(30)\n",
    "print(data3)\n",
    "      "
   ]
  },
  {
   "cell_type": "code",
   "execution_count": 15,
   "id": "776b2bde",
   "metadata": {},
   "outputs": [
    {
     "name": "stdout",
     "output_type": "stream",
     "text": [
      "True\n",
      "True\n"
     ]
    }
   ],
   "source": [
    "# set은 부분집합 상위집합 같은 집합관계를 표현가능\n",
    "# <=   or   issubset\n",
    "data4 = {1,2,3,4}\n",
    "print(data4 <= {1,2,3,4})\n",
    "print(data4.issubset({1,2,3,4,5}))"
   ]
  },
  {
   "cell_type": "code",
   "execution_count": 18,
   "id": "a1364152",
   "metadata": {},
   "outputs": [
    {
     "name": "stdout",
     "output_type": "stream",
     "text": [
      "True\n",
      "True\n"
     ]
    }
   ],
   "source": [
    "# >= 세트가 다른 세트의 상위집합 인지 확인\n",
    "# issuperset()\n",
    "\n",
    "data5 = {1,2,3,4}\n",
    "print(data5 > {1,2,3})\n",
    "print(data5.issuperset({1,2}))"
   ]
  },
  {
   "cell_type": "code",
   "execution_count": 19,
   "id": "0bd7054d",
   "metadata": {},
   "outputs": [
    {
     "name": "stdout",
     "output_type": "stream",
     "text": [
      "{'e', 'h', 'l', 'o'}\n",
      "{'h', 'o'}\n"
     ]
    }
   ],
   "source": [
    "# set 컴프리핸션\n",
    "data = {i for i in 'hello'}\n",
    "print(data)\n",
    "\n",
    "data = {i for i in 'hello' if i not in 'el'}\n",
    "print(data)"
   ]
  }
 ],
 "metadata": {
  "kernelspec": {
   "display_name": "Python 3 (ipykernel)",
   "language": "python",
   "name": "python3"
  },
  "language_info": {
   "codemirror_mode": {
    "name": "ipython",
    "version": 3
   },
   "file_extension": ".py",
   "mimetype": "text/x-python",
   "name": "python",
   "nbconvert_exporter": "python",
   "pygments_lexer": "ipython3",
   "version": "3.9.12"
  }
 },
 "nbformat": 4,
 "nbformat_minor": 5
}
