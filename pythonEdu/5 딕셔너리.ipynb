{
 "cells": [
  {
   "cell_type": "code",
   "execution_count": 1,
   "id": "dcd3f61a",
   "metadata": {},
   "outputs": [
    {
     "name": "stdout",
     "output_type": "stream",
     "text": [
      "{'name': 'kim', 'age': 20, 'address': 'seoul'}\n",
      "<class 'dict'>\n"
     ]
    }
   ],
   "source": [
    "data = {'name':'kim', 'age':20, 'address':'seoul'}\n",
    "print(data)\n",
    "print(type(data))"
   ]
  },
  {
   "cell_type": "code",
   "execution_count": 3,
   "id": "e2fdd0ec",
   "metadata": {},
   "outputs": [
    {
     "name": "stdout",
     "output_type": "stream",
     "text": [
      "{'names': ['kim', 'lee', 'choi'], 'info': {'ages': [10, 20, 30], 'height': [180, 172, 158]}}\n"
     ]
    }
   ],
   "source": [
    "data = {'names':['kim', 'lee', 'choi'],\n",
    "        'info': {'ages':[10, 20, 30],\n",
    "            'height':[180, 172, 158]}}\n",
    "print(data)"
   ]
  },
  {
   "cell_type": "code",
   "execution_count": 5,
   "id": "bbc3967d",
   "metadata": {},
   "outputs": [
    {
     "name": "stdout",
     "output_type": "stream",
     "text": [
      "{10: [40, 50], True: [22.2, 444.56], 3.3: ['kim', 'choi']}\n"
     ]
    }
   ],
   "source": [
    "# 키는 문자열 뿐 아니라 정수 실수 boolean 사용할수 있고 자료형을 섞어서 사용할수 있다.\n",
    "data = {10:[40, 50], True:[22.2, 444.56], 3.3:['kim','choi']}\n",
    "print(data)"
   ]
  },
  {
   "cell_type": "code",
   "execution_count": 6,
   "id": "93037646",
   "metadata": {},
   "outputs": [
    {
     "name": "stdout",
     "output_type": "stream",
     "text": [
      "{'name': 'kim', 'age': 30}\n",
      "kim\n"
     ]
    }
   ],
   "source": [
    "# dic는 다음과 같이 키와 값을 연결 , 리스트 튜플, 딕셔너리로 딕셔너리를 만들때 사용\n",
    "data = dict(name='kim', age = 30)\n",
    "print(data)\n",
    "print(data['name'])"
   ]
  },
  {
   "cell_type": "code",
   "execution_count": 7,
   "id": "2571199b",
   "metadata": {},
   "outputs": [
    {
     "name": "stdout",
     "output_type": "stream",
     "text": [
      "{'health': 100, 'name': 'kim'}\n"
     ]
    }
   ],
   "source": [
    "data = dict(zip(['health', 'name'], [100, 'kim']))\n",
    "print(data)"
   ]
  },
  {
   "cell_type": "code",
   "execution_count": 8,
   "id": "5be8d4ef",
   "metadata": {},
   "outputs": [
    {
     "name": "stdout",
     "output_type": "stream",
     "text": [
      "{'name': 'lee', 'age': 50, 'weight': 88}\n"
     ]
    }
   ],
   "source": [
    "data = dict([('name', 'lee'), ('age', 50), ('weight', 88)])\n",
    "print(data)"
   ]
  },
  {
   "cell_type": "code",
   "execution_count": 14,
   "id": "e296b6d1",
   "metadata": {},
   "outputs": [
    {
     "name": "stdout",
     "output_type": "stream",
     "text": [
      "{'age': 50}\n",
      "{'age': 50, 'weight': 80}\n",
      "{'a': None, 'b': None, 'c': None, 'd': None}\n",
      "{'a': 100, 'b': 100, 'c': 100, 'd': 100}\n"
     ]
    }
   ],
   "source": [
    "# 딕셔너리 할당\n",
    "data = {'age': 30}\n",
    "data['age'] = 50\n",
    "print(data)\n",
    "data['weight'] = 80\n",
    "print(data)\n",
    "\n",
    "# fromkeys (키리스트) 로 딕셔너리를 생성하면 모두 None\n",
    "# fromekys (키리스트) 로 리스트와 값을 지정하면 해당 값 거의 값으로 저장된다.\n",
    "keys = ['a', 'b', 'c', 'd']\n",
    "data = dict.fromkeys(keys)\n",
    "print(data)\n",
    "data = dict.fromkeys(keys, 100)\n",
    "print(data)"
   ]
  },
  {
   "cell_type": "code",
   "execution_count": 15,
   "id": "c3a0c1ce",
   "metadata": {},
   "outputs": [
    {
     "name": "stdout",
     "output_type": "stream",
     "text": [
      "True\n",
      "{'a': 10, 'b': 40}\n",
      "{'a': 10, 'b': 40}\n"
     ]
    }
   ],
   "source": [
    "# dictionary copy를 하지 않고 할당하면 같은 dictionary\n",
    "data1 = {'a':10, 'b':20}\n",
    "data2 = data1\n",
    "print(data1 is data2)\n",
    "data2['b'] = 40\n",
    "print(data1)\n",
    "print(data2)\n"
   ]
  },
  {
   "cell_type": "code",
   "execution_count": 17,
   "id": "f3b4cd82",
   "metadata": {},
   "outputs": [
    {
     "name": "stdout",
     "output_type": "stream",
     "text": [
      "False\n",
      "{'a': 10, 'b': 20}\n",
      "{'a': 10, 'b': 40}\n"
     ]
    }
   ],
   "source": [
    "# dictionary copy\n",
    "data1 = {'a':10, 'b':20}\n",
    "data2 = data1.copy()\n",
    "print(data1 is data2)\n",
    "data2['b'] = 40\n",
    "print(data1)\n",
    "print(data2)"
   ]
  },
  {
   "cell_type": "code",
   "execution_count": 18,
   "id": "c61503b5",
   "metadata": {},
   "outputs": [
    {
     "name": "stdout",
     "output_type": "stream",
     "text": [
      "{'a': {'name': 'oh'}, 'b': {'name': 'choi'}}\n",
      "{'a': {'name': 'oh'}, 'b': {'name': 'choi'}}\n"
     ]
    }
   ],
   "source": [
    "# dicionary 내부에 dicationry 있는 경우 copy 하면 얕은 복사가 됨\n",
    "data = {'a':{'name' : 'kim'}, 'b':{'name':'choi'}}\n",
    "data1 = data.copy()\n",
    "data1['a']['name']  = 'oh'\n",
    "print(data)\n",
    "print(data1)"
   ]
  },
  {
   "cell_type": "code",
   "execution_count": 20,
   "id": "b8b3832b",
   "metadata": {},
   "outputs": [
    {
     "name": "stdout",
     "output_type": "stream",
     "text": [
      "{'a': {'name': 'kim'}, 'b': {'name': 'choi'}}\n",
      "{'a': {'name': 'lee'}, 'b': {'name': 'choi'}}\n"
     ]
    }
   ],
   "source": [
    "# 깊은 복사 deepcopy를 사용하자\n",
    "import copy\n",
    "data = {'a':{'name':'kim'}, 'b':{'name':'choi'}}\n",
    "data1 = copy.deepcopy(data)\n",
    "data1['a']['name'] = 'lee'\n",
    "print(data)\n",
    "print(data1)\n"
   ]
  },
  {
   "cell_type": "code",
   "execution_count": 21,
   "id": "8facd60e",
   "metadata": {},
   "outputs": [
    {
     "name": "stdout",
     "output_type": "stream",
     "text": [
      "{'a': None, 'b': None, 'c': None, 'd': None}\n"
     ]
    }
   ],
   "source": [
    "# 딕셔너리 컴프리핸션 1\n",
    "keys = ['a', 'b', 'c', 'd']\n",
    "data = { k : v for k, v in dict.fromkeys(keys).items()}\n",
    "print(data)"
   ]
  },
  {
   "cell_type": "code",
   "execution_count": 24,
   "id": "9874edbd",
   "metadata": {},
   "outputs": [
    {
     "name": "stdout",
     "output_type": "stream",
     "text": [
      "{'a': 100, 'b': 100, 'c': 100, 'd': 100}\n",
      "{'kim': 0, 'lee': 0, 'choi': 0}\n"
     ]
    }
   ],
   "source": [
    "# 딕셔너리 컴프리핸션 2\n",
    "data = {k : 100 for k in dict.fromkeys(keys).keys()}\n",
    "print(data)\n",
    "\n",
    "data = {'name' : ['kim', 'lee', 'choi']}\n",
    "data1 = {v : 0 for value in data.values() for v in value}\n",
    "print(data1)"
   ]
  },
  {
   "cell_type": "code",
   "execution_count": 26,
   "id": "7098647b",
   "metadata": {},
   "outputs": [
    {
     "name": "stdout",
     "output_type": "stream",
     "text": [
      "['have', 'a', 'good', 'day']\n",
      "{0: 'have', 1: 'a', 2: 'good', 3: 'day'}\n"
     ]
    }
   ],
   "source": [
    "words = 'have a good day'.split()\n",
    "print(words)\n",
    "\n",
    "data = {i : w for i, w in enumerate(words)}\n",
    "print(data)\n",
    "\n",
    "d"
   ]
  },
  {
   "cell_type": "code",
   "execution_count": 27,
   "id": "ab2b7f7d",
   "metadata": {},
   "outputs": [
    {
     "ename": "RuntimeError",
     "evalue": "dictionary changed size during iteration",
     "output_type": "error",
     "traceback": [
      "\u001b[1;31m---------------------------------------------------------------------------\u001b[0m",
      "\u001b[1;31mRuntimeError\u001b[0m                              Traceback (most recent call last)",
      "Input \u001b[1;32mIn [27]\u001b[0m, in \u001b[0;36m<cell line: 3>\u001b[1;34m()\u001b[0m\n\u001b[0;32m      1\u001b[0m \u001b[38;5;66;03m# for 문장에서 키-값 쌍을 삭제하면 error 발생\u001b[39;00m\n\u001b[0;32m      2\u001b[0m data \u001b[38;5;241m=\u001b[39m {\u001b[38;5;124m'\u001b[39m\u001b[38;5;124mone\u001b[39m\u001b[38;5;124m'\u001b[39m:\u001b[38;5;241m10\u001b[39m, \u001b[38;5;124m'\u001b[39m\u001b[38;5;124mtwo\u001b[39m\u001b[38;5;124m'\u001b[39m:\u001b[38;5;241m20\u001b[39m, \u001b[38;5;124m'\u001b[39m\u001b[38;5;124mthree\u001b[39m\u001b[38;5;124m'\u001b[39m:\u001b[38;5;241m30\u001b[39m, \u001b[38;5;124m'\u001b[39m\u001b[38;5;124mfour\u001b[39m\u001b[38;5;124m'\u001b[39m:\u001b[38;5;241m40\u001b[39m}\n\u001b[1;32m----> 3\u001b[0m \u001b[38;5;28;01mfor\u001b[39;00m k,v \u001b[38;5;129;01min\u001b[39;00m data\u001b[38;5;241m.\u001b[39mitems():\n\u001b[0;32m      4\u001b[0m     \u001b[38;5;28;01mif\u001b[39;00m v \u001b[38;5;241m==\u001b[39m \u001b[38;5;241m20\u001b[39m:\n\u001b[0;32m      5\u001b[0m         \u001b[38;5;28;01mdel\u001b[39;00m data[k]\n",
      "\u001b[1;31mRuntimeError\u001b[0m: dictionary changed size during iteration"
     ]
    }
   ],
   "source": [
    "# for 문장에서 키-값 쌍을 삭제하면 error 발생\n",
    "data = {'one':10, 'two':20, 'three':30, 'four':40}\n",
    "for k,v in data.items():\n",
    "    if v == 20:\n",
    "        del data[k]"
   ]
  },
  {
   "cell_type": "code",
   "execution_count": 28,
   "id": "0bc13584",
   "metadata": {},
   "outputs": [
    {
     "name": "stdout",
     "output_type": "stream",
     "text": [
      "{'one': 10, 'three': 30, 'four': 40}\n"
     ]
    }
   ],
   "source": [
    "# 딕셔너리 컴프리핸션에 if 조건문을 사용하여 삭제할 값을 제외하고 딕셔너리 생성\n",
    "\n",
    "data = {k : v for k, v in data.items() if v != 20}\n",
    "print(data)"
   ]
  }
 ],
 "metadata": {
  "kernelspec": {
   "display_name": "Python 3 (ipykernel)",
   "language": "python",
   "name": "python3"
  },
  "language_info": {
   "codemirror_mode": {
    "name": "ipython",
    "version": 3
   },
   "file_extension": ".py",
   "mimetype": "text/x-python",
   "name": "python",
   "nbconvert_exporter": "python",
   "pygments_lexer": "ipython3",
   "version": "3.9.12"
  }
 },
 "nbformat": 4,
 "nbformat_minor": 5
}
