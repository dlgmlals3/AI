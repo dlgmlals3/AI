{
 "cells": [
  {
   "cell_type": "code",
   "execution_count": 1,
   "id": "e965c142",
   "metadata": {},
   "outputs": [
    {
     "name": "stdout",
     "output_type": "stream",
     "text": [
      "1\n",
      "1\n",
      "1\n"
     ]
    }
   ],
   "source": [
    "# send로 전달받은 값을 yield 왼쪽에 변수로 값을 전달\n",
    "\n",
    "def number_coroutine():\n",
    "    while True:\n",
    "        x = (yield)\n",
    "        print(x)\n",
    "        \n",
    "co = number_coroutine()\n",
    "next(co) # coroutine Start .. __next__() 와 동일\n",
    "\n",
    "co.send(1)\n",
    "co.send(2)\n",
    "co.send(3)\n",
    "co.close()"
   ]
  },
  {
   "cell_type": "code",
   "execution_count": 2,
   "id": "582de076",
   "metadata": {},
   "outputs": [
    {
     "name": "stdout",
     "output_type": "stream",
     "text": [
      "0\n",
      "1\n",
      "3\n",
      "6\n"
     ]
    }
   ],
   "source": [
    "# 코루틴은 send로 전달받은 값을 yield 왼쪽에 변수로 값을 전달\n",
    "# 코루틴을 yield 오른쪽 total을 다시 메인루틴 으로 전달\n",
    "\n",
    "def number_coroutine2():\n",
    "    total = 0\n",
    "    while True:\n",
    "        x = yield total\n",
    "        total += x\n",
    "\n",
    "co = number_coroutine2()\n",
    "print(next(co))\n",
    "print(co.send(1))\n",
    "print(co.send(2))\n",
    "print(co.send(3))"
   ]
  },
  {
   "cell_type": "code",
   "execution_count": 5,
   "id": "262672db",
   "metadata": {},
   "outputs": [
    {
     "name": "stdout",
     "output_type": "stream",
     "text": [
      "0\n",
      "1\n",
      "2\n",
      "3\n",
      "4\n",
      "coroutine end!!!\n"
     ]
    }
   ],
   "source": [
    "# 코루틴 예외처리\n",
    "# 코루틴을 종료시키려면 close 메서드를 사용하면 된다.\n",
    "def number_coroutine3():\n",
    "    try:\n",
    "        while True:\n",
    "            x = (yield)\n",
    "            print(x)\n",
    "    except GeneratorExit:\n",
    "        print('coroutine end!!!')\n",
    "            \n",
    "co = number_coroutine3()\n",
    "next(co)\n",
    "\n",
    "for i in range(5):\n",
    "    co.send(i)\n",
    "co.close()"
   ]
  },
  {
   "cell_type": "code",
   "execution_count": 6,
   "id": "c37f788a",
   "metadata": {},
   "outputs": [
    {
     "name": "stdout",
     "output_type": "stream",
     "text": [
      " 강제 예외 발생 코루틴 종료\n",
      "190\n"
     ]
    }
   ],
   "source": [
    "def number_coroutine4():\n",
    "    total = 0\n",
    "    try:\n",
    "        while True:\n",
    "            x = (yield)\n",
    "            total += x\n",
    "    except RuntimeError as e:\n",
    "        print(e)\n",
    "        yield total\n",
    "co = number_coroutine4()\n",
    "next(co)\n",
    "\n",
    "for i in range(20):\n",
    "    co.send(i)\n",
    "print(co.throw(RuntimeError, ' 강제 예외 발생 코루틴 종료'))\n",
    "            "
   ]
  },
  {
   "cell_type": "code",
   "execution_count": 7,
   "id": "9392618c",
   "metadata": {},
   "outputs": [
    {
     "name": "stdout",
     "output_type": "stream",
     "text": [
      "190\n",
      "5050\n"
     ]
    }
   ],
   "source": [
    "# 하위 코루틴\n",
    "# 코루틴에서 값을 yield from을 이용하여 전달받을 수 있다.\n",
    "\n",
    "def accumulate():\n",
    "    total = 0\n",
    "    while True:\n",
    "        x = (yield)\n",
    "        if x is None:\n",
    "            return total\n",
    "        total += x\n",
    "\n",
    "def sum_coroutine():\n",
    "    while True:\n",
    "        total = yield from accumulate()\n",
    "        print(total)\n",
    "\n",
    "co = sum_coroutine()\n",
    "next(co)\n",
    "\n",
    "for i in range(20):\n",
    "    co.send(i)\n",
    "co.send(None)\n",
    "\n",
    "for i in range(1,101):\n",
    "    co.send(i)\n",
    "co.send(None)\n",
    "co.close()"
   ]
  }
 ],
 "metadata": {
  "kernelspec": {
   "display_name": "Python 3 (ipykernel)",
   "language": "python",
   "name": "python3"
  },
  "language_info": {
   "codemirror_mode": {
    "name": "ipython",
    "version": 3
   },
   "file_extension": ".py",
   "mimetype": "text/x-python",
   "name": "python",
   "nbconvert_exporter": "python",
   "pygments_lexer": "ipython3",
   "version": "3.9.12"
  }
 },
 "nbformat": 4,
 "nbformat_minor": 5
}
