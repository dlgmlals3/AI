{
 "cells": [
  {
   "cell_type": "code",
   "execution_count": 2,
   "id": "7faacc53",
   "metadata": {},
   "outputs": [
    {
     "name": "stdout",
     "output_type": "stream",
     "text": [
      "number is not devided 0\n",
      "10.0\n",
      "5.0\n",
      "3.3333333333333335\n",
      "2.5\n"
     ]
    }
   ],
   "source": [
    "# 예측 가능한 예외\n",
    "# 예측 불가능한 예외\n",
    "\n",
    "# try-except \n",
    "for i in range(5):\n",
    "    try:\n",
    "        result = 10 / i\n",
    "        print(result)\n",
    "    except ZeroDivisionError:\n",
    "        print('number is not devided 0')\n",
    "        "
   ]
  },
  {
   "cell_type": "code",
   "execution_count": 4,
   "id": "6acfa7ed",
   "metadata": {},
   "outputs": [
    {
     "name": "stdout",
     "output_type": "stream",
     "text": [
      "input : 2 0\n",
      "숫자는 0으로 나눌수 없다.\n"
     ]
    }
   ],
   "source": [
    "y = [10, 20, 30]\n",
    "try:\n",
    "    index, x = map(int, input('input : ').split())\n",
    "    print(y[index]/x)\n",
    "    \n",
    "except ZeroDivisionError as e:\n",
    "    print('숫자는 0으로 나눌수 없다.')\n",
    "except IndexError as e:\n",
    "    print('wrong index', e)\n"
   ]
  },
  {
   "cell_type": "code",
   "execution_count": 5,
   "id": "44fb97da",
   "metadata": {},
   "outputs": [
    {
     "name": "stdout",
     "output_type": "stream",
     "text": [
      "숫자는 0으로 나눌수 없습니다\n",
      "항상실행\n",
      "result :  1\n",
      "항상실행\n",
      "result :  2\n",
      "항상실행\n",
      "result :  3\n",
      "항상실행\n",
      "result :  4\n",
      "항상실행\n"
     ]
    }
   ],
   "source": [
    "for i in range(5):\n",
    "    try:\n",
    "        result = 10 / i\n",
    "    except ZeroDivisionError:\n",
    "        print(\"숫자는 0으로 나눌수 없습니다\")\n",
    "    else:\n",
    "        print('result : ', i) # 정상인 경우\n",
    "    finally:\n",
    "        print('항상실행')"
   ]
  },
  {
   "cell_type": "code",
   "execution_count": 7,
   "id": "1079f6cc",
   "metadata": {},
   "outputs": [
    {
     "name": "stdout",
     "output_type": "stream",
     "text": [
      "정수를 입력하세요33\n",
      "33\n"
     ]
    }
   ],
   "source": [
    "# 예외 처리 구문\n",
    "# raise 문은 try - except 문과 달리 필요할때 예외를 강제로 발생시킬때 사용하는 코드이다.\n",
    "idata = input('정수를 입력하세요')\n",
    "if not idata.isdigit():\n",
    "    raise ValueError('정수를 입력하지 않았습니다.')\n",
    "print(int(idata))\n",
    "    "
   ]
  },
  {
   "cell_type": "code",
   "execution_count": 11,
   "id": "5dee696a",
   "metadata": {},
   "outputs": [
    {
     "name": "stdout",
     "output_type": "stream",
     "text": [
      "3의배수를 입력하세요5\n",
      "예외 발생 입력된 값이 3의 배수가 아닙니다.\n"
     ]
    }
   ],
   "source": [
    "# 커스텀 예외 생성\n",
    "# 커스텀 예외를 생성하는 방법은 Exception을 상속 받아서 새로운 클래스를 만들면 된다.\n",
    "\n",
    "class NotThreeMError(Exception):\n",
    "    def __init__(self):\n",
    "        super().__init__(\"입력된 값이 3의 배수가 아닙니다.\")\n",
    "    \n",
    "def t_multiple():\n",
    "    try:\n",
    "        x = int(input('3의배수를 입력하세요'))\n",
    "        if x % 3 != 0:\n",
    "            raise NotThreeMError\n",
    "        print(x)\n",
    "    except NotThreeMError as e:\n",
    "        print(\"예외 발생\", e) # e 메시지가 위 init 실행될때로 들어옴..\n",
    "t_multiple()\n",
    "    \n",
    "    \n",
    "    "
   ]
  }
 ],
 "metadata": {
  "kernelspec": {
   "display_name": "Python 3 (ipykernel)",
   "language": "python",
   "name": "python3"
  },
  "language_info": {
   "codemirror_mode": {
    "name": "ipython",
    "version": 3
   },
   "file_extension": ".py",
   "mimetype": "text/x-python",
   "name": "python",
   "nbconvert_exporter": "python",
   "pygments_lexer": "ipython3",
   "version": "3.9.12"
  }
 },
 "nbformat": 4,
 "nbformat_minor": 5
}
