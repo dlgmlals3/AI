{
 "cells": [
  {
   "cell_type": "code",
   "execution_count": 1,
   "id": "f1edb7bc",
   "metadata": {},
   "outputs": [
    {
     "name": "stdout",
     "output_type": "stream",
     "text": [
      "[6.  7.5 8.  0.  1. ]\n",
      "[6, 7.5, 8, 0, 1]\n",
      "[[1 2 3 4]\n",
      " [5 6 7 8]]\n",
      "(2, 4)\n",
      "int32\n"
     ]
    }
   ],
   "source": [
    "import numpy as np\n",
    "data1 = [6, 7.5, 8, 0, 1]\n",
    "arr1 = np.array(data1)\n",
    "\n",
    "print(arr1)\n",
    "print(data1)\n",
    "\n",
    "data2 = [[1,2,3,4], [5,6,7,8]]\n",
    "arr2 = np.array(data2)\n",
    "print(arr2)\n",
    "\n",
    "print(arr2.shape)\n",
    "print(arr2.dtype)\n",
    "\n"
   ]
  },
  {
   "cell_type": "code",
   "execution_count": 2,
   "id": "ced2c4ad",
   "metadata": {},
   "outputs": [
    {
     "name": "stdout",
     "output_type": "stream",
     "text": [
      "[1 3 5 7 9]\n",
      "[-2.         -0.66666667  0.66666667  2.        ]\n",
      "[[1. 1. 1.]\n",
      " [1. 1. 1.]]\n",
      "[[0. 0. 0.]\n",
      " [0. 0. 0.]]\n"
     ]
    }
   ],
   "source": [
    "import numpy as np\n",
    "\n",
    "arr1 = np.arange(1, 10, 2)\n",
    "print(arr1)\n",
    "\n",
    "arr2 = np.linspace(-2, 2, 4)\n",
    "print(arr2)\n",
    "\n",
    "arr3 = np.ones([2, 3])\n",
    "print(arr3)\n",
    "\n",
    "arr4 = np.zeros([2, 3])\n",
    "print(arr4)"
   ]
  },
  {
   "cell_type": "code",
   "execution_count": 4,
   "id": "4198abba",
   "metadata": {},
   "outputs": [
    {
     "name": "stdout",
     "output_type": "stream",
     "text": [
      "[[1. 2. 3.]\n",
      " [4. 5. 6.]]\n",
      "[[0.5 1.  1.5]\n",
      " [2.  2.5 3. ]]\n",
      "[[ 1.  4.  9.]\n",
      " [16. 25. 36.]]\n",
      "[[0. 0. 0.]\n",
      " [0. 0. 0.]]\n",
      "[[False  True False]\n",
      " [ True False  True]]\n"
     ]
    }
   ],
   "source": [
    "import numpy as np\n",
    "\n",
    "arr = np.array([[1., 2., 3.], [4., 5., 6.]])\n",
    "print(arr)\n",
    "print(arr / 2)\n",
    "print(arr * arr)\n",
    "print(arr - arr)\n",
    "\n",
    "arr2= np.array([[0., 4., 1.], [7., 2., 12.]])\n",
    "print(arr2 > arr)"
   ]
  },
  {
   "cell_type": "code",
   "execution_count": 11,
   "id": "15a108e8",
   "metadata": {},
   "outputs": [
    {
     "name": "stdout",
     "output_type": "stream",
     "text": [
      "5\n",
      "[5 6 7]\n",
      "[ 0  1  2  3  4 12 12 12  8  9]\n",
      "[[1 2 3]\n",
      " [4 5 6]]\n",
      "[[2 3]\n",
      " [5 6]]\n",
      "[1 4 6 8]\n"
     ]
    }
   ],
   "source": [
    "import numpy as np\n",
    "\n",
    "arr = np.arange(10)\n",
    "print(arr[5])\n",
    "print(arr[5:8])\n",
    "arr[5:8] = 12\n",
    "print(arr)\n",
    "\n",
    "\n",
    "arr = np.array([[1,2,3], [4,5,6], [7,8,9]])\n",
    "print(arr[:2])\n",
    "print(arr[:2, 1:])\n",
    "\n",
    "arr2 = np.array([[True, False, False], [True, False, True], [False, True, False]])\n",
    "print(arr[arr2])"
   ]
  },
  {
   "cell_type": "code",
   "execution_count": 13,
   "id": "37cc3f5a",
   "metadata": {},
   "outputs": [
    {
     "name": "stdout",
     "output_type": "stream",
     "text": [
      "[[0 1]\n",
      " [2 3]\n",
      " [4 5]\n",
      " [6 7]]\n",
      "[[0 1 2 3]\n",
      " [4 5 6 7]]\n"
     ]
    }
   ],
   "source": [
    "# 재형성\n",
    "# ndarray는 데이터를 복사하지 않고 다른 모양으로 바꿀수 있는 reshape()를 제공한다.\n",
    "import numpy as np\n",
    "\n",
    "arr = np.arange(8)\n",
    "arr2 = arr.reshape((4, 2))\n",
    "print(arr2)\n",
    "\n",
    "arr3 = arr.reshape((4, 2)).reshape((2, 4))\n",
    "print(arr3)"
   ]
  },
  {
   "cell_type": "code",
   "execution_count": 14,
   "id": "2c89016d",
   "metadata": {},
   "outputs": [
    {
     "name": "stdout",
     "output_type": "stream",
     "text": [
      "[1 2 3 5 7 9]\n"
     ]
    }
   ],
   "source": [
    "# 정렬\n",
    "import numpy as np\n",
    "arr = np.array([2,5,9,1,3,7])\n",
    "arr.sort()\n",
    "print(arr)"
   ]
  },
  {
   "cell_type": "code",
   "execution_count": 15,
   "id": "1967af26",
   "metadata": {},
   "outputs": [
    {
     "data": {
      "text/plain": [
       "array([[-1.0856306 ,  0.99734545,  0.2829785 , -1.50629471, -0.57860025],\n",
       "       [ 1.65143654, -2.42667924, -0.42891263,  1.26593626, -0.8667404 ],\n",
       "       [-0.67888615, -0.09470897,  1.49138963, -0.638902  , -0.44398196],\n",
       "       [-0.43435128,  2.20593008,  2.18678609,  1.0040539 ,  0.3861864 ]])"
      ]
     },
     "execution_count": 15,
     "metadata": {},
     "output_type": "execute_result"
    }
   ],
   "source": [
    "import numpy as np\n",
    "np.random.seed(123)\n",
    "data1 = np.random.randn(4, 5)\n",
    "data1"
   ]
  },
  {
   "cell_type": "code",
   "execution_count": 21,
   "id": "347fc2c3",
   "metadata": {},
   "outputs": [
    {
     "name": "stdout",
     "output_type": "stream",
     "text": [
      "[[ 0.64205469 -1.97788793  0.71226464  2.59830393]\n",
      " [-0.02462598  0.03414213  0.17954948 -1.86197571]\n",
      " [ 0.42614664 -1.60540974 -0.4276796   1.24286955]\n",
      " [-0.73521696  0.50124899  1.01273905  0.27874086]\n",
      " [-1.37094847 -0.33247528  1.95941134 -2.02504576]]\n",
      "mean -0.03868970667823831\n",
      "sum -0.7737941335647662\n",
      "[ 0.49368383 -0.41822752 -0.09101829  0.26437799 -0.44226454]\n",
      "[-1.06259008 -3.38038183  3.43628492  0.23289286]\n",
      "[ 0  1  3  6 10 15 21 28]\n",
      "[[ 0  1  2]\n",
      " [ 3  5  7]\n",
      " [ 9 12 15]]\n",
      "[[  0   0   0]\n",
      " [  3  12  60]\n",
      " [  6  42 336]]\n"
     ]
    }
   ],
   "source": [
    "import numpy as np\n",
    "arr = np.random.randn(5, 4)\n",
    "print(arr)\n",
    "print('mean', np.mean(arr))\n",
    "print('sum', arr.sum())\n",
    "\n",
    "# 축에따른 평균과 합\n",
    "print(arr.mean(axis = 1))\n",
    "print(arr.sum(axis = 0))\n",
    "\n",
    "# 누적합\n",
    "arr = np.array([0, 1, 2, 3, 4, 5, 6, 7])\n",
    "print(arr.cumsum())\n",
    "\n",
    "# 축의 따른 누적합\n",
    "arr = np.array([[0, 1, 2],\n",
    "               [3, 4, 5],\n",
    "               [6, 7, 8]])\n",
    "\n",
    "print(arr.cumsum(axis = 0))\n",
    "print(arr.cumprod(axis = 1))"
   ]
  }
 ],
 "metadata": {
  "kernelspec": {
   "display_name": "Python 3 (ipykernel)",
   "language": "python",
   "name": "python3"
  },
  "language_info": {
   "codemirror_mode": {
    "name": "ipython",
    "version": 3
   },
   "file_extension": ".py",
   "mimetype": "text/x-python",
   "name": "python",
   "nbconvert_exporter": "python",
   "pygments_lexer": "ipython3",
   "version": "3.9.12"
  }
 },
 "nbformat": 4,
 "nbformat_minor": 5
}
